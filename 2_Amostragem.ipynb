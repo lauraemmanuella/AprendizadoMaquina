{
  "nbformat": 4,
  "nbformat_minor": 0,
  "metadata": {
    "colab": {
      "name": "2-Amostragem.ipynb",
      "provenance": [],
      "authorship_tag": "ABX9TyMh+hI4fRj4XHLkCzfcU0tR",
      "include_colab_link": true
    },
    "kernelspec": {
      "name": "python3",
      "display_name": "Python 3"
    },
    "language_info": {
      "name": "python"
    }
  },
  "cells": [
    {
      "cell_type": "markdown",
      "metadata": {
        "id": "view-in-github",
        "colab_type": "text"
      },
      "source": [
        "<a href=\"https://colab.research.google.com/github/lauraemmanuella/AprendizadoMaquina/blob/main/2_Amostragem.ipynb\" target=\"_parent\"><img src=\"https://colab.research.google.com/assets/colab-badge.svg\" alt=\"Open In Colab\"/></a>"
      ]
    },
    {
      "cell_type": "markdown",
      "metadata": {
        "id": "mUCKobALW5KQ"
      },
      "source": [
        "**Notebook referente à aula 3-Amostragem dos dados na disciplina Aprendizado de Máquina**"
      ]
    },
    {
      "cell_type": "code",
      "metadata": {
        "colab": {
          "base_uri": "https://localhost:8080/"
        },
        "id": "3MKN_0iIW9AV",
        "outputId": "b0e9fb3b-8a05-47eb-9778-1bf945f3eaaf"
      },
      "source": [
        "#monte o drive caso precise usar/salvar arquivos do seu drive\n",
        "from google.colab import drive\n",
        "drive.mount('/content/drive')"
      ],
      "execution_count": null,
      "outputs": [
        {
          "output_type": "stream",
          "text": [
            "Mounted at /content/drive\n"
          ],
          "name": "stdout"
        }
      ]
    },
    {
      "cell_type": "code",
      "metadata": {
        "colab": {
          "base_uri": "https://localhost:8080/"
        },
        "id": "8gOLoIBsW9mL",
        "outputId": "3f5a125c-68d4-4593-f8e1-768a2c185616"
      },
      "source": [
        "#mude o ponto de execução para outro diretório, caso deseje\n",
        "%cd /content/drive/MyDrive/Colab Notebooks/AprendizadoMaquina"
      ],
      "execution_count": null,
      "outputs": [
        {
          "output_type": "stream",
          "text": [
            "/content/drive/MyDrive/Colab Notebooks/AprendizadoMaquina\n"
          ],
          "name": "stdout"
        }
      ]
    },
    {
      "cell_type": "code",
      "metadata": {
        "id": "TtwoDL0pacL5"
      },
      "source": [
        "import pandas as pd"
      ],
      "execution_count": null,
      "outputs": []
    },
    {
      "cell_type": "markdown",
      "metadata": {
        "id": "Wm4sPEkZgiKk"
      },
      "source": [
        "[Dataset retirado daqui](https://www.kaggle.com/vvenanccio/irisflowers)"
      ]
    },
    {
      "cell_type": "code",
      "metadata": {
        "id": "gWKCzD-UcKVX"
      },
      "source": [
        "dfIris = pd.read_csv('./bases/iris.csv')"
      ],
      "execution_count": null,
      "outputs": []
    },
    {
      "cell_type": "code",
      "metadata": {
        "colab": {
          "base_uri": "https://localhost:8080/",
          "height": 419
        },
        "id": "NprWmHLqcRGt",
        "outputId": "1c8b7e2f-78f4-4be3-a61c-97e0fc9310ca"
      },
      "source": [
        "dfIris"
      ],
      "execution_count": null,
      "outputs": [
        {
          "output_type": "execute_result",
          "data": {
            "text/html": [
              "<div>\n",
              "<style scoped>\n",
              "    .dataframe tbody tr th:only-of-type {\n",
              "        vertical-align: middle;\n",
              "    }\n",
              "\n",
              "    .dataframe tbody tr th {\n",
              "        vertical-align: top;\n",
              "    }\n",
              "\n",
              "    .dataframe thead th {\n",
              "        text-align: right;\n",
              "    }\n",
              "</style>\n",
              "<table border=\"1\" class=\"dataframe\">\n",
              "  <thead>\n",
              "    <tr style=\"text-align: right;\">\n",
              "      <th></th>\n",
              "      <th>sepallength</th>\n",
              "      <th>sepalwidth</th>\n",
              "      <th>petallength</th>\n",
              "      <th>petalwidth</th>\n",
              "      <th>class</th>\n",
              "    </tr>\n",
              "  </thead>\n",
              "  <tbody>\n",
              "    <tr>\n",
              "      <th>0</th>\n",
              "      <td>5.1</td>\n",
              "      <td>3.5</td>\n",
              "      <td>1.4</td>\n",
              "      <td>0.2</td>\n",
              "      <td>Iris-setosa</td>\n",
              "    </tr>\n",
              "    <tr>\n",
              "      <th>1</th>\n",
              "      <td>4.9</td>\n",
              "      <td>3.0</td>\n",
              "      <td>1.4</td>\n",
              "      <td>0.2</td>\n",
              "      <td>Iris-setosa</td>\n",
              "    </tr>\n",
              "    <tr>\n",
              "      <th>2</th>\n",
              "      <td>4.7</td>\n",
              "      <td>3.2</td>\n",
              "      <td>1.3</td>\n",
              "      <td>0.2</td>\n",
              "      <td>Iris-setosa</td>\n",
              "    </tr>\n",
              "    <tr>\n",
              "      <th>3</th>\n",
              "      <td>4.6</td>\n",
              "      <td>3.1</td>\n",
              "      <td>1.5</td>\n",
              "      <td>0.2</td>\n",
              "      <td>Iris-setosa</td>\n",
              "    </tr>\n",
              "    <tr>\n",
              "      <th>4</th>\n",
              "      <td>5.0</td>\n",
              "      <td>3.6</td>\n",
              "      <td>1.4</td>\n",
              "      <td>0.2</td>\n",
              "      <td>Iris-setosa</td>\n",
              "    </tr>\n",
              "    <tr>\n",
              "      <th>...</th>\n",
              "      <td>...</td>\n",
              "      <td>...</td>\n",
              "      <td>...</td>\n",
              "      <td>...</td>\n",
              "      <td>...</td>\n",
              "    </tr>\n",
              "    <tr>\n",
              "      <th>145</th>\n",
              "      <td>6.7</td>\n",
              "      <td>3.0</td>\n",
              "      <td>5.2</td>\n",
              "      <td>2.3</td>\n",
              "      <td>Iris-virginica</td>\n",
              "    </tr>\n",
              "    <tr>\n",
              "      <th>146</th>\n",
              "      <td>6.3</td>\n",
              "      <td>2.5</td>\n",
              "      <td>5.0</td>\n",
              "      <td>1.9</td>\n",
              "      <td>Iris-virginica</td>\n",
              "    </tr>\n",
              "    <tr>\n",
              "      <th>147</th>\n",
              "      <td>6.5</td>\n",
              "      <td>3.0</td>\n",
              "      <td>5.2</td>\n",
              "      <td>2.0</td>\n",
              "      <td>Iris-virginica</td>\n",
              "    </tr>\n",
              "    <tr>\n",
              "      <th>148</th>\n",
              "      <td>6.2</td>\n",
              "      <td>3.4</td>\n",
              "      <td>5.4</td>\n",
              "      <td>2.3</td>\n",
              "      <td>Iris-virginica</td>\n",
              "    </tr>\n",
              "    <tr>\n",
              "      <th>149</th>\n",
              "      <td>5.9</td>\n",
              "      <td>3.0</td>\n",
              "      <td>5.1</td>\n",
              "      <td>1.8</td>\n",
              "      <td>Iris-virginica</td>\n",
              "    </tr>\n",
              "  </tbody>\n",
              "</table>\n",
              "<p>150 rows × 5 columns</p>\n",
              "</div>"
            ],
            "text/plain": [
              "     sepallength  sepalwidth  petallength  petalwidth           class\n",
              "0            5.1         3.5          1.4         0.2     Iris-setosa\n",
              "1            4.9         3.0          1.4         0.2     Iris-setosa\n",
              "2            4.7         3.2          1.3         0.2     Iris-setosa\n",
              "3            4.6         3.1          1.5         0.2     Iris-setosa\n",
              "4            5.0         3.6          1.4         0.2     Iris-setosa\n",
              "..           ...         ...          ...         ...             ...\n",
              "145          6.7         3.0          5.2         2.3  Iris-virginica\n",
              "146          6.3         2.5          5.0         1.9  Iris-virginica\n",
              "147          6.5         3.0          5.2         2.0  Iris-virginica\n",
              "148          6.2         3.4          5.4         2.3  Iris-virginica\n",
              "149          5.9         3.0          5.1         1.8  Iris-virginica\n",
              "\n",
              "[150 rows x 5 columns]"
            ]
          },
          "metadata": {
            "tags": []
          },
          "execution_count": 5
        }
      ]
    },
    {
      "cell_type": "code",
      "metadata": {
        "colab": {
          "base_uri": "https://localhost:8080/"
        },
        "id": "hVNZ2i4wR-_E",
        "outputId": "038cb952-c13d-49b5-95dd-959e11c46ebb"
      },
      "source": [
        "classe  = ((dfIris['class'].value_counts()/len(dfIris)).round(3)*100)\n",
        "print('Percentual de exemplos de cada possível classe (%)')\n",
        "print(classe)"
      ],
      "execution_count": null,
      "outputs": [
        {
          "output_type": "stream",
          "text": [
            "Percentual de exemplos de cada possível classe (%)\n",
            "Iris-virginica     33.3\n",
            "Iris-setosa        33.3\n",
            "Iris-versicolor    33.3\n",
            "Name: class, dtype: float64\n"
          ],
          "name": "stdout"
        }
      ]
    },
    {
      "cell_type": "markdown",
      "metadata": {
        "id": "t1KS052nmEzG"
      },
      "source": [
        "## 1) Treino e teste\n",
        "\n",
        "https://scikit-learn.org/stable/modules/generated/sklearn.model_selection.train_test_split.html"
      ]
    },
    {
      "cell_type": "code",
      "metadata": {
        "id": "L8k76FOOmFXh"
      },
      "source": [
        "from sklearn.model_selection import train_test_split"
      ],
      "execution_count": null,
      "outputs": []
    },
    {
      "cell_type": "markdown",
      "metadata": {
        "id": "anBDR6sgg09f"
      },
      "source": [
        "**train_test_split** divide o conjunto de dados em 4 subconjuntos:\n",
        "\n",
        "1.   Conjunto com as entradas para treino (X_train)\n",
        "2.   Conjunto com as entradas para teste (X_test)\n",
        "3.   Conjunto com as saídas do treino (y_train)\n",
        "4.   Conjunto com as saídas do teste (y_test)\n",
        "\n",
        "São passados como parâmetros: as colunas de entrada, a coluna alvo (saída) e o tamanho do conjunto de teste (percentual), observe que quando colocamos 0.33, estamos informando que o conjunto de teste será 1/3 do dataset total\n",
        "\n"
      ]
    },
    {
      "cell_type": "code",
      "metadata": {
        "id": "4rjynlG5asCA"
      },
      "source": [
        "X_train, X_test, y_train, y_test = train_test_split(dfIris.drop(columns=['class']), dfIris['class'],test_size=0.33)"
      ],
      "execution_count": null,
      "outputs": []
    },
    {
      "cell_type": "code",
      "metadata": {
        "colab": {
          "base_uri": "https://localhost:8080/"
        },
        "id": "xQjHRFgWSV9C",
        "outputId": "6cd61d58-317f-4da8-9cdb-802d98e555fa"
      },
      "source": [
        "treino  = ((y_train.value_counts()/len(y_train)).round(3)*100)\n",
        "print('Percentual de exemplos de cada possível classe (%) no conjunto com as saídas do TREINO')\n",
        "print(treino)"
      ],
      "execution_count": null,
      "outputs": [
        {
          "output_type": "stream",
          "text": [
            "Percentual de exemplos de cada possível classe (%) no conjunto com as saídas do TREINO\n",
            "Iris-versicolor    38.0\n",
            "Iris-setosa        35.0\n",
            "Iris-virginica     27.0\n",
            "Name: class, dtype: float64\n"
          ],
          "name": "stdout"
        }
      ]
    },
    {
      "cell_type": "code",
      "metadata": {
        "colab": {
          "base_uri": "https://localhost:8080/"
        },
        "id": "VNDK0RMvSlIN",
        "outputId": "4d41117f-6fb5-425d-d303-8f246fc1a2d2"
      },
      "source": [
        "teste  = ((y_test.value_counts()/len(y_test)).round(3)*100)\n",
        "print('Percentual de exemplos de cada possível classe (%) no conjunto com as saídas do TESTE')\n",
        "print(teste)"
      ],
      "execution_count": null,
      "outputs": [
        {
          "output_type": "stream",
          "text": [
            "Percentual de exemplos de cada possível classe (%) no conjunto com as saídas do TESTE\n",
            "Iris-virginica     46.0\n",
            "Iris-setosa        30.0\n",
            "Iris-versicolor    24.0\n",
            "Name: class, dtype: float64\n"
          ],
          "name": "stdout"
        }
      ]
    },
    {
      "cell_type": "markdown",
      "metadata": {
        "id": "Idi2iADMhoeb"
      },
      "source": [
        "Observe que não há garantia de que se mantenha a proporção original de exemplos em cada classe\n",
        "\n",
        "Para ter essa garantia, usamos o parâmetro **stratify** e passamos a coluna alvo"
      ]
    },
    {
      "cell_type": "code",
      "metadata": {
        "id": "mNOsTcPAcbe4"
      },
      "source": [
        "#Usando o parâmetro stratify para dividir os dados de forma a manter a proporção de exemplos por classe semelhante à proporção original (do dataset completo)\n",
        "X_train, X_test, y_train, y_test = train_test_split(dfIris.drop(columns=['class']), dfIris['class'],test_size=0.33, stratify=dfIris['class'])"
      ],
      "execution_count": null,
      "outputs": []
    },
    {
      "cell_type": "code",
      "metadata": {
        "colab": {
          "base_uri": "https://localhost:8080/"
        },
        "id": "TvNAXl_uS03q",
        "outputId": "8dea0791-dfcb-416f-d692-f7536222cf38"
      },
      "source": [
        "treino  = ((y_train.value_counts()/len(y_train)).round(3)*100)\n",
        "print('Percentual de exemplos de cada possível classe (%) no conjunto com as saídas do TREINO')\n",
        "print(treino)"
      ],
      "execution_count": null,
      "outputs": [
        {
          "output_type": "stream",
          "text": [
            "Percentual de exemplos de cada possível classe (%) no conjunto com as saídas do TREINO\n",
            "Iris-versicolor    34.0\n",
            "Iris-setosa        33.0\n",
            "Iris-virginica     33.0\n",
            "Name: class, dtype: float64\n"
          ],
          "name": "stdout"
        }
      ]
    },
    {
      "cell_type": "code",
      "metadata": {
        "colab": {
          "base_uri": "https://localhost:8080/"
        },
        "id": "cNUXOPzmS2h_",
        "outputId": "87c87929-3765-416c-a7f6-4e8ca8b02937"
      },
      "source": [
        "teste  = ((y_test.value_counts()/len(y_test)).round(3)*100)\n",
        "print('Percentual de exemplos de cada possível classe (%) no conjunto com as saídas do TESTE')\n",
        "print(teste)"
      ],
      "execution_count": null,
      "outputs": [
        {
          "output_type": "stream",
          "text": [
            "Percentual de exemplos de cada possível classe (%) no conjunto com as saídas do TESTE\n",
            "Iris-virginica     34.0\n",
            "Iris-setosa        34.0\n",
            "Iris-versicolor    32.0\n",
            "Name: class, dtype: float64\n"
          ],
          "name": "stdout"
        }
      ]
    },
    {
      "cell_type": "markdown",
      "metadata": {
        "id": "Imvs6K1-iB6o"
      },
      "source": [
        "Para executarmos a **amostragem aleatória**, executamos N vezes o train_test_split (N holdouts)"
      ]
    },
    {
      "cell_type": "markdown",
      "metadata": {
        "id": "PUGeYIRDmFg5"
      },
      "source": [
        "## 2) Validação cruzada\n",
        "\n",
        "Ainda vamos estudar as métricas de avaliação dos modelos e os modelos, esse exemplo é apenas para mostrar como seria para fazer a amostragem por validação cruzada\n",
        "\n",
        "https://scikit-learn.org/stable/modules/generated/sklearn.model_selection.cross_validate.html#\n"
      ]
    },
    {
      "cell_type": "code",
      "metadata": {
        "id": "7eSDbdMtmFt1"
      },
      "source": [
        "#métricas que serão calculadas para cada fold\n",
        "from sklearn.metrics import make_scorer, accuracy_score, precision_score, recall_score, f1_score\n",
        "\n",
        "scoring = {'accuracy' : make_scorer(accuracy_score), \n",
        "           'precision' : make_scorer(precision_score, average='weighted'),\n",
        "           'recall' : make_scorer(recall_score, average='weighted'), \n",
        "           'f1_score' : make_scorer(f1_score, average='weighted')}"
      ],
      "execution_count": null,
      "outputs": []
    },
    {
      "cell_type": "code",
      "metadata": {
        "id": "BFakjEvQY-lO"
      },
      "source": [
        "#algoritmo de classificação que será usado\n",
        "from sklearn.neighbors import KNeighborsClassifier\n",
        "knn = KNeighborsClassifier() "
      ],
      "execution_count": null,
      "outputs": []
    },
    {
      "cell_type": "code",
      "metadata": {
        "id": "1-V4ze_8YhF0"
      },
      "source": [
        "#validação cruzada\n",
        "from sklearn.model_selection import cross_validate\n",
        "scores = cross_validate(knn, dfIris.drop(columns=['class']), dfIris['class'], cv=5, scoring=scoring)"
      ],
      "execution_count": null,
      "outputs": []
    },
    {
      "cell_type": "code",
      "metadata": {
        "colab": {
          "base_uri": "https://localhost:8080/"
        },
        "id": "FYQFO3z1Zhx-",
        "outputId": "7d27a723-e7ff-425c-e350-d94252120b5b"
      },
      "source": [
        "scores"
      ],
      "execution_count": null,
      "outputs": [
        {
          "output_type": "execute_result",
          "data": {
            "text/plain": [
              "{'fit_time': array([0.00509834, 0.00210047, 0.00202394, 0.00193119, 0.0017848 ]),\n",
              " 'score_time': array([0.00657916, 0.00559807, 0.00722885, 0.00516057, 0.00530267]),\n",
              " 'test_accuracy': array([0.96666667, 0.96666667, 0.93333333, 0.93333333, 1.        ]),\n",
              " 'test_f1_score': array([0.96658312, 0.96658312, 0.93265993, 0.93333333, 1.        ]),\n",
              " 'test_precision': array([0.96969697, 0.96969697, 0.94444444, 0.93333333, 1.        ]),\n",
              " 'test_recall': array([0.96666667, 0.96666667, 0.93333333, 0.93333333, 1.        ])}"
            ]
          },
          "metadata": {
            "tags": []
          },
          "execution_count": 8
        }
      ]
    },
    {
      "cell_type": "code",
      "metadata": {
        "colab": {
          "base_uri": "https://localhost:8080/"
        },
        "id": "mqsQocnJdjON",
        "outputId": "0b94ac12-1765-4f36-d30d-5d67e8cbc343"
      },
      "source": [
        "#Para fazer a análise das métricas, faríamos o cálculo da média e desvio padrão de cada uma\n",
        "#Exemplo para acurária (proporção de acertos)\n",
        "print(f\"Acurácia média de teste: {scores['test_accuracy'].mean()} +- {scores['test_accuracy'].std()}\")"
      ],
      "execution_count": null,
      "outputs": [
        {
          "output_type": "stream",
          "text": [
            "Acurácia média de teste: 0.96 +- 0.024944382578492935\n"
          ],
          "name": "stdout"
        }
      ]
    },
    {
      "cell_type": "markdown",
      "metadata": {
        "id": "LgParTaWbSXc"
      },
      "source": [
        "O cross-validate usa a estratificação ao dividir os folds para problemas de classificação através da classe **StratifiedKFold**, ou seja, cada fold ficará com a mesma proporção de amostras por classe que o dataset possui\n",
        "\n",
        "Além disso, o StratifiedKFold não embaralha por padrão as amostras, o que faz com que todas as vezes que ele for executado, faça a mesma divisão **(observe pelo exemplo abaixo)**\n",
        "\n",
        "https://scikit-learn.org/stable/modules/generated/sklearn.model_selection.StratifiedKFold.html#"
      ]
    },
    {
      "cell_type": "code",
      "metadata": {
        "id": "D3N1zP2FdqLQ"
      },
      "source": [
        "from sklearn.model_selection import StratifiedKFold\n",
        "X = dfIris.drop(columns=['class'])\n",
        "y = dfIris['class']"
      ],
      "execution_count": null,
      "outputs": []
    },
    {
      "cell_type": "code",
      "metadata": {
        "colab": {
          "base_uri": "https://localhost:8080/"
        },
        "id": "72AKT-bOcqIH",
        "outputId": "3fe47576-5308-420e-8142-a70d0f328d99"
      },
      "source": [
        "skf = StratifiedKFold(n_splits=5)\n",
        "for train_index, test_index in skf.split(X, y):\n",
        "  print(\"TEST:\", test_index)"
      ],
      "execution_count": null,
      "outputs": [
        {
          "output_type": "stream",
          "text": [
            "TEST: [  0   1   2   3   4   5   6   7   8   9  50  51  52  53  54  55  56  57\n",
            "  58  59 100 101 102 103 104 105 106 107 108 109]\n",
            "TEST: [ 10  11  12  13  14  15  16  17  18  19  60  61  62  63  64  65  66  67\n",
            "  68  69 110 111 112 113 114 115 116 117 118 119]\n",
            "TEST: [ 20  21  22  23  24  25  26  27  28  29  70  71  72  73  74  75  76  77\n",
            "  78  79 120 121 122 123 124 125 126 127 128 129]\n",
            "TEST: [ 30  31  32  33  34  35  36  37  38  39  80  81  82  83  84  85  86  87\n",
            "  88  89 130 131 132 133 134 135 136 137 138 139]\n",
            "TEST: [ 40  41  42  43  44  45  46  47  48  49  90  91  92  93  94  95  96  97\n",
            "  98  99 140 141 142 143 144 145 146 147 148 149]\n"
          ],
          "name": "stdout"
        }
      ]
    },
    {
      "cell_type": "code",
      "metadata": {
        "colab": {
          "base_uri": "https://localhost:8080/"
        },
        "id": "FTDOiuDudhlI",
        "outputId": "70ddcb6d-a9ea-41f5-b8ae-b71ec4c03ad2"
      },
      "source": [
        "skf = StratifiedKFold(n_splits=5)\n",
        "for train_index, test_index in skf.split(X, y):\n",
        "  print(\"TEST:\", test_index)"
      ],
      "execution_count": null,
      "outputs": [
        {
          "output_type": "stream",
          "text": [
            "TEST: [  0   1   2   3   4   5   6   7   8   9  50  51  52  53  54  55  56  57\n",
            "  58  59 100 101 102 103 104 105 106 107 108 109]\n",
            "TEST: [ 10  11  12  13  14  15  16  17  18  19  60  61  62  63  64  65  66  67\n",
            "  68  69 110 111 112 113 114 115 116 117 118 119]\n",
            "TEST: [ 20  21  22  23  24  25  26  27  28  29  70  71  72  73  74  75  76  77\n",
            "  78  79 120 121 122 123 124 125 126 127 128 129]\n",
            "TEST: [ 30  31  32  33  34  35  36  37  38  39  80  81  82  83  84  85  86  87\n",
            "  88  89 130 131 132 133 134 135 136 137 138 139]\n",
            "TEST: [ 40  41  42  43  44  45  46  47  48  49  90  91  92  93  94  95  96  97\n",
            "  98  99 140 141 142 143 144 145 146 147 148 149]\n"
          ],
          "name": "stdout"
        }
      ]
    },
    {
      "cell_type": "markdown",
      "metadata": {
        "id": "Gf_LcRIkeLQ_"
      },
      "source": [
        "Se quiser alterar esse comportamento, coloque shuffle = True"
      ]
    },
    {
      "cell_type": "code",
      "metadata": {
        "colab": {
          "base_uri": "https://localhost:8080/"
        },
        "id": "vI-0-PLheKik",
        "outputId": "3581756e-3d40-48f0-f492-06503dab0e27"
      },
      "source": [
        "skf = StratifiedKFold(n_splits=5, shuffle=True)\n",
        "for train_index, test_index in skf.split(X, y):\n",
        "  print(\"TEST:\", test_index)"
      ],
      "execution_count": null,
      "outputs": [
        {
          "output_type": "stream",
          "text": [
            "TEST: [  6  11  14  24  26  36  39  46  48  49  51  53  54  61  65  66  71  80\n",
            "  81  93 101 104 105 108 111 115 141 146 148 149]\n",
            "TEST: [  2   3   5   8  18  19  27  30  42  44  50  57  58  69  72  83  87  92\n",
            "  95  99 106 112 118 120 123 128 129 131 137 142]\n",
            "TEST: [  1  10  16  22  25  28  34  35  40  43  56  70  74  75  77  79  85  88\n",
            "  89  97 110 114 117 119 121 125 126 127 133 138]\n",
            "TEST: [  7   9  15  21  31  32  37  41  45  47  55  59  62  67  68  73  76  78\n",
            "  90  96 102 103 107 122 132 135 136 140 144 147]\n",
            "TEST: [  0   4  12  13  17  20  23  29  33  38  52  60  63  64  82  84  86  91\n",
            "  94  98 100 109 113 116 124 130 134 139 143 145]\n"
          ],
          "name": "stdout"
        }
      ]
    }
  ]
}