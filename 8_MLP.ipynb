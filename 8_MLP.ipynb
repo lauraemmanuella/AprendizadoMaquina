{
  "nbformat": 4,
  "nbformat_minor": 0,
  "metadata": {
    "kernelspec": {
      "display_name": "Python 3",
      "language": "python",
      "name": "python3"
    },
    "language_info": {
      "codemirror_mode": {
        "name": "ipython",
        "version": 3
      },
      "file_extension": ".py",
      "mimetype": "text/x-python",
      "name": "python",
      "nbconvert_exporter": "python",
      "pygments_lexer": "ipython3",
      "version": "3.7.0"
    },
    "colab": {
      "name": "8-MLP.ipynb",
      "provenance": [],
      "collapsed_sections": [],
      "include_colab_link": true
    }
  },
  "cells": [
    {
      "cell_type": "markdown",
      "metadata": {
        "id": "view-in-github",
        "colab_type": "text"
      },
      "source": [
        "<a href=\"https://colab.research.google.com/github/lauraemmanuella/AprendizadoMaquina/blob/main/8_MLP.ipynb\" target=\"_parent\"><img src=\"https://colab.research.google.com/assets/colab-badge.svg\" alt=\"Open In Colab\"/></a>"
      ]
    },
    {
      "cell_type": "code",
      "metadata": {
        "colab": {
          "base_uri": "https://localhost:8080/"
        },
        "id": "7rgew3RPXn_c",
        "outputId": "78c762ff-34e8-4c3f-a2ad-001a9fd363e4"
      },
      "source": [
        "#monte o drive caso precise usar/salvar arquivos do seu drive\n",
        "from google.colab import drive\n",
        "drive.mount('/content/drive')"
      ],
      "execution_count": 1,
      "outputs": [
        {
          "output_type": "stream",
          "text": [
            "Mounted at /content/drive\n"
          ],
          "name": "stdout"
        }
      ]
    },
    {
      "cell_type": "code",
      "metadata": {
        "colab": {
          "base_uri": "https://localhost:8080/"
        },
        "id": "cyvEHy-SXooU",
        "outputId": "518f0543-5cd0-4950-f478-48a37117cbcd"
      },
      "source": [
        "#mude o ponto de execução para outro diretório, caso deseje\n",
        "%cd /content/drive/MyDrive/Colab Notebooks/AprendizadoMaquina"
      ],
      "execution_count": 2,
      "outputs": [
        {
          "output_type": "stream",
          "text": [
            "/content/drive/MyDrive/Colab Notebooks/AprendizadoMaquina\n"
          ],
          "name": "stdout"
        }
      ]
    },
    {
      "cell_type": "markdown",
      "metadata": {
        "id": "ZPxQHVijWhBb"
      },
      "source": [
        "# MultiLayer Perceptron\n",
        "\n",
        "https://scikit-learn.org/stable/modules/neural_networks_supervised.html\n",
        "\n",
        "https://scikit-learn.org/stable/modules/generated/sklearn.neural_network.MLPClassifier.html#sklearn.neural_network.MLPClassifier\n",
        "\n",
        "https://playground.tensorflow.org/\n"
      ]
    },
    {
      "cell_type": "code",
      "metadata": {
        "id": "CsGIf3ndWhBk"
      },
      "source": [
        "import pandas as pd\n",
        "\n",
        "dfIris = pd.read_csv('./bases/iris.csv')"
      ],
      "execution_count": 3,
      "outputs": []
    },
    {
      "cell_type": "code",
      "metadata": {
        "id": "ipxN-hikX-TR"
      },
      "source": [
        "#Vamos fazer a mudança de tipo da coluna alvo usando LabelEncoder\n",
        "from sklearn.preprocessing import LabelEncoder\n",
        "\n",
        "le = LabelEncoder()\n",
        "dfIris['class'] = le.fit_transform(dfIris['class']) #ajusta a função aos dados"
      ],
      "execution_count": 4,
      "outputs": []
    },
    {
      "cell_type": "code",
      "metadata": {
        "id": "4hKziDA8WhBq"
      },
      "source": [
        "#dividindo a base para um teste simples por enquanto\n",
        "from sklearn.model_selection import train_test_split\n",
        "\n",
        "X_train, X_test, y_train, y_test = train_test_split(dfIris.drop(columns=['class']), dfIris['class'],test_size=0.33, stratify=dfIris['class'])"
      ],
      "execution_count": 5,
      "outputs": []
    },
    {
      "cell_type": "code",
      "metadata": {
        "colab": {
          "base_uri": "https://localhost:8080/"
        },
        "id": "UtWZlXR5oqqC",
        "outputId": "1db3870f-8420-4a2b-d4dc-c48af4969251"
      },
      "source": [
        "mlp = MLPClassifier() #configuração default\n",
        "mlp.fit(X_train, y_train)"
      ],
      "execution_count": 15,
      "outputs": [
        {
          "output_type": "stream",
          "text": [
            "/usr/local/lib/python3.7/dist-packages/sklearn/neural_network/_multilayer_perceptron.py:571: ConvergenceWarning: Stochastic Optimizer: Maximum iterations (200) reached and the optimization hasn't converged yet.\n",
            "  % self.max_iter, ConvergenceWarning)\n"
          ],
          "name": "stderr"
        },
        {
          "output_type": "execute_result",
          "data": {
            "text/plain": [
              "MLPClassifier(activation='relu', alpha=0.0001, batch_size='auto', beta_1=0.9,\n",
              "              beta_2=0.999, early_stopping=False, epsilon=1e-08,\n",
              "              hidden_layer_sizes=(100,), learning_rate='constant',\n",
              "              learning_rate_init=0.001, max_fun=15000, max_iter=200,\n",
              "              momentum=0.9, n_iter_no_change=10, nesterovs_momentum=True,\n",
              "              power_t=0.5, random_state=None, shuffle=True, solver='adam',\n",
              "              tol=0.0001, validation_fraction=0.1, verbose=False,\n",
              "              warm_start=False)"
            ]
          },
          "metadata": {
            "tags": []
          },
          "execution_count": 15
        }
      ]
    },
    {
      "cell_type": "code",
      "metadata": {
        "colab": {
          "base_uri": "https://localhost:8080/"
        },
        "id": "BO2QhhuOpCv_",
        "outputId": "ddf3df77-9372-4473-cb1a-5cc04db29b5b"
      },
      "source": [
        "from sklearn import metrics\n",
        "pred = mlp.predict(X_test)\n",
        "print(metrics.classification_report(y_test, pred))"
      ],
      "execution_count": 20,
      "outputs": [
        {
          "output_type": "stream",
          "text": [
            "              precision    recall  f1-score   support\n",
            "\n",
            "           0       1.00      1.00      1.00        17\n",
            "           1       1.00      0.88      0.93        16\n",
            "           2       0.89      1.00      0.94        17\n",
            "\n",
            "    accuracy                           0.96        50\n",
            "   macro avg       0.96      0.96      0.96        50\n",
            "weighted avg       0.96      0.96      0.96        50\n",
            "\n"
          ],
          "name": "stdout"
        }
      ]
    },
    {
      "cell_type": "markdown",
      "metadata": {
        "id": "HVCVzXqsYLEo"
      },
      "source": [
        "## Escolha dos melhores parâmetros usando GridSearchCV"
      ]
    },
    {
      "cell_type": "code",
      "metadata": {
        "id": "wMrLv5CEWhBy"
      },
      "source": [
        "param_grid = {\n",
        "    'hidden_layer_sizes': [(100, ), (40,), (20,), (50, 25)],\n",
        "    'activation': ['identity', 'logistic', 'tanh', 'relu'],\n",
        "    'solver': ['sgd', 'adam'],\n",
        "    'learning_rate_init': [0.001, 0.01, 0.1],\n",
        "    'max_iter': [200, 1000, 5000, 10000]\n",
        "}"
      ],
      "execution_count": 6,
      "outputs": []
    },
    {
      "cell_type": "code",
      "metadata": {
        "id": "NvoGo5y5WhBz"
      },
      "source": [
        "from sklearn.model_selection import GridSearchCV\n",
        "from sklearn.neural_network import MLPClassifier\n",
        "\n",
        "grid = GridSearchCV(MLPClassifier(),param_grid, verbose = 1)\n",
        "\n",
        "grid.fit(X_train,y_train)"
      ],
      "execution_count": null,
      "outputs": []
    },
    {
      "cell_type": "code",
      "metadata": {
        "colab": {
          "base_uri": "https://localhost:8080/"
        },
        "id": "UoE4OZz9WhB6",
        "outputId": "a562848b-a102-4fc5-91a3-4afd62df7bd9"
      },
      "source": [
        "grid.best_params_"
      ],
      "execution_count": 8,
      "outputs": [
        {
          "output_type": "execute_result",
          "data": {
            "text/plain": [
              "{'activation': 'identity',\n",
              " 'hidden_layer_sizes': (100,),\n",
              " 'learning_rate_init': 0.001,\n",
              " 'max_iter': 1000,\n",
              " 'solver': 'adam'}"
            ]
          },
          "metadata": {
            "tags": []
          },
          "execution_count": 8
        }
      ]
    },
    {
      "cell_type": "code",
      "metadata": {
        "colab": {
          "base_uri": "https://localhost:8080/"
        },
        "id": "d50vMSE-WhB8",
        "outputId": "7a901f0c-f875-4ad5-fda7-ad2c5404c10e"
      },
      "source": [
        "grid.best_score_"
      ],
      "execution_count": 10,
      "outputs": [
        {
          "output_type": "execute_result",
          "data": {
            "text/plain": [
              "0.99"
            ]
          },
          "metadata": {
            "tags": []
          },
          "execution_count": 10
        }
      ]
    },
    {
      "cell_type": "code",
      "metadata": {
        "colab": {
          "base_uri": "https://localhost:8080/"
        },
        "id": "Fzrbv0XLWhB-",
        "outputId": "d7666f9e-1ccd-4c81-d725-ec390f77bc62"
      },
      "source": [
        "from sklearn import metrics\n",
        "\n",
        "pred = grid.predict(X_test)\n",
        "print(metrics.classification_report(y_test, pred))"
      ],
      "execution_count": 11,
      "outputs": [
        {
          "output_type": "stream",
          "text": [
            "              precision    recall  f1-score   support\n",
            "\n",
            "           0       1.00      1.00      1.00        16\n",
            "           1       1.00      0.82      0.90        17\n",
            "           2       0.85      1.00      0.92        17\n",
            "\n",
            "    accuracy                           0.94        50\n",
            "   macro avg       0.95      0.94      0.94        50\n",
            "weighted avg       0.95      0.94      0.94        50\n",
            "\n"
          ],
          "name": "stdout"
        }
      ]
    },
    {
      "cell_type": "code",
      "metadata": {
        "id": "aY1qb5E3YyzA"
      },
      "source": [
        "dfGridSearch = pd.DataFrame(grid.cv_results_)"
      ],
      "execution_count": 12,
      "outputs": []
    },
    {
      "cell_type": "code",
      "metadata": {
        "colab": {
          "base_uri": "https://localhost:8080/",
          "height": 694
        },
        "id": "UNP1ypXOY1Tg",
        "outputId": "bb6d0c4c-a795-4e6e-cb31-490e8f581d73"
      },
      "source": [
        "dfGridSearch.loc[dfGridSearch['rank_test_score'] == 1, :]"
      ],
      "execution_count": 13,
      "outputs": [
        {
          "output_type": "execute_result",
          "data": {
            "text/html": [
              "<div>\n",
              "<style scoped>\n",
              "    .dataframe tbody tr th:only-of-type {\n",
              "        vertical-align: middle;\n",
              "    }\n",
              "\n",
              "    .dataframe tbody tr th {\n",
              "        vertical-align: top;\n",
              "    }\n",
              "\n",
              "    .dataframe thead th {\n",
              "        text-align: right;\n",
              "    }\n",
              "</style>\n",
              "<table border=\"1\" class=\"dataframe\">\n",
              "  <thead>\n",
              "    <tr style=\"text-align: right;\">\n",
              "      <th></th>\n",
              "      <th>mean_fit_time</th>\n",
              "      <th>std_fit_time</th>\n",
              "      <th>mean_score_time</th>\n",
              "      <th>std_score_time</th>\n",
              "      <th>param_activation</th>\n",
              "      <th>param_hidden_layer_sizes</th>\n",
              "      <th>param_learning_rate_init</th>\n",
              "      <th>param_max_iter</th>\n",
              "      <th>param_solver</th>\n",
              "      <th>params</th>\n",
              "      <th>split0_test_score</th>\n",
              "      <th>split1_test_score</th>\n",
              "      <th>split2_test_score</th>\n",
              "      <th>split3_test_score</th>\n",
              "      <th>split4_test_score</th>\n",
              "      <th>mean_test_score</th>\n",
              "      <th>std_test_score</th>\n",
              "      <th>rank_test_score</th>\n",
              "    </tr>\n",
              "  </thead>\n",
              "  <tbody>\n",
              "    <tr>\n",
              "      <th>3</th>\n",
              "      <td>0.334366</td>\n",
              "      <td>0.013363</td>\n",
              "      <td>0.001412</td>\n",
              "      <td>0.000242</td>\n",
              "      <td>identity</td>\n",
              "      <td>(100,)</td>\n",
              "      <td>0.001</td>\n",
              "      <td>1000</td>\n",
              "      <td>adam</td>\n",
              "      <td>{'activation': 'identity', 'hidden_layer_sizes...</td>\n",
              "      <td>0.95</td>\n",
              "      <td>1.0</td>\n",
              "      <td>1.0</td>\n",
              "      <td>1.0</td>\n",
              "      <td>1.0</td>\n",
              "      <td>0.99</td>\n",
              "      <td>0.02</td>\n",
              "      <td>1</td>\n",
              "    </tr>\n",
              "    <tr>\n",
              "      <th>4</th>\n",
              "      <td>0.418099</td>\n",
              "      <td>0.003722</td>\n",
              "      <td>0.001456</td>\n",
              "      <td>0.000123</td>\n",
              "      <td>identity</td>\n",
              "      <td>(100,)</td>\n",
              "      <td>0.001</td>\n",
              "      <td>5000</td>\n",
              "      <td>sgd</td>\n",
              "      <td>{'activation': 'identity', 'hidden_layer_sizes...</td>\n",
              "      <td>0.95</td>\n",
              "      <td>1.0</td>\n",
              "      <td>1.0</td>\n",
              "      <td>1.0</td>\n",
              "      <td>1.0</td>\n",
              "      <td>0.99</td>\n",
              "      <td>0.02</td>\n",
              "      <td>1</td>\n",
              "    </tr>\n",
              "    <tr>\n",
              "      <th>5</th>\n",
              "      <td>0.289986</td>\n",
              "      <td>0.036232</td>\n",
              "      <td>0.001309</td>\n",
              "      <td>0.000086</td>\n",
              "      <td>identity</td>\n",
              "      <td>(100,)</td>\n",
              "      <td>0.001</td>\n",
              "      <td>5000</td>\n",
              "      <td>adam</td>\n",
              "      <td>{'activation': 'identity', 'hidden_layer_sizes...</td>\n",
              "      <td>0.95</td>\n",
              "      <td>1.0</td>\n",
              "      <td>1.0</td>\n",
              "      <td>1.0</td>\n",
              "      <td>1.0</td>\n",
              "      <td>0.99</td>\n",
              "      <td>0.02</td>\n",
              "      <td>1</td>\n",
              "    </tr>\n",
              "    <tr>\n",
              "      <th>7</th>\n",
              "      <td>0.301535</td>\n",
              "      <td>0.021064</td>\n",
              "      <td>0.001741</td>\n",
              "      <td>0.000425</td>\n",
              "      <td>identity</td>\n",
              "      <td>(100,)</td>\n",
              "      <td>0.001</td>\n",
              "      <td>10000</td>\n",
              "      <td>adam</td>\n",
              "      <td>{'activation': 'identity', 'hidden_layer_sizes...</td>\n",
              "      <td>0.95</td>\n",
              "      <td>1.0</td>\n",
              "      <td>1.0</td>\n",
              "      <td>1.0</td>\n",
              "      <td>1.0</td>\n",
              "      <td>0.99</td>\n",
              "      <td>0.02</td>\n",
              "      <td>1</td>\n",
              "    </tr>\n",
              "    <tr>\n",
              "      <th>8</th>\n",
              "      <td>0.084845</td>\n",
              "      <td>0.003355</td>\n",
              "      <td>0.001931</td>\n",
              "      <td>0.000347</td>\n",
              "      <td>identity</td>\n",
              "      <td>(100,)</td>\n",
              "      <td>0.01</td>\n",
              "      <td>200</td>\n",
              "      <td>sgd</td>\n",
              "      <td>{'activation': 'identity', 'hidden_layer_sizes...</td>\n",
              "      <td>0.95</td>\n",
              "      <td>1.0</td>\n",
              "      <td>1.0</td>\n",
              "      <td>1.0</td>\n",
              "      <td>1.0</td>\n",
              "      <td>0.99</td>\n",
              "      <td>0.02</td>\n",
              "      <td>1</td>\n",
              "    </tr>\n",
              "    <tr>\n",
              "      <th>...</th>\n",
              "      <td>...</td>\n",
              "      <td>...</td>\n",
              "      <td>...</td>\n",
              "      <td>...</td>\n",
              "      <td>...</td>\n",
              "      <td>...</td>\n",
              "      <td>...</td>\n",
              "      <td>...</td>\n",
              "      <td>...</td>\n",
              "      <td>...</td>\n",
              "      <td>...</td>\n",
              "      <td>...</td>\n",
              "      <td>...</td>\n",
              "      <td>...</td>\n",
              "      <td>...</td>\n",
              "      <td>...</td>\n",
              "      <td>...</td>\n",
              "      <td>...</td>\n",
              "    </tr>\n",
              "    <tr>\n",
              "      <th>279</th>\n",
              "      <td>0.130263</td>\n",
              "      <td>0.025489</td>\n",
              "      <td>0.001417</td>\n",
              "      <td>0.000134</td>\n",
              "      <td>relu</td>\n",
              "      <td>(20,)</td>\n",
              "      <td>0.01</td>\n",
              "      <td>10000</td>\n",
              "      <td>adam</td>\n",
              "      <td>{'activation': 'relu', 'hidden_layer_sizes': (...</td>\n",
              "      <td>0.95</td>\n",
              "      <td>1.0</td>\n",
              "      <td>1.0</td>\n",
              "      <td>1.0</td>\n",
              "      <td>1.0</td>\n",
              "      <td>0.99</td>\n",
              "      <td>0.02</td>\n",
              "      <td>1</td>\n",
              "    </tr>\n",
              "    <tr>\n",
              "      <th>281</th>\n",
              "      <td>0.078361</td>\n",
              "      <td>0.016061</td>\n",
              "      <td>0.001804</td>\n",
              "      <td>0.000448</td>\n",
              "      <td>relu</td>\n",
              "      <td>(20,)</td>\n",
              "      <td>0.1</td>\n",
              "      <td>200</td>\n",
              "      <td>adam</td>\n",
              "      <td>{'activation': 'relu', 'hidden_layer_sizes': (...</td>\n",
              "      <td>0.95</td>\n",
              "      <td>1.0</td>\n",
              "      <td>1.0</td>\n",
              "      <td>1.0</td>\n",
              "      <td>1.0</td>\n",
              "      <td>0.99</td>\n",
              "      <td>0.02</td>\n",
              "      <td>1</td>\n",
              "    </tr>\n",
              "    <tr>\n",
              "      <th>283</th>\n",
              "      <td>0.085834</td>\n",
              "      <td>0.024629</td>\n",
              "      <td>0.001709</td>\n",
              "      <td>0.000277</td>\n",
              "      <td>relu</td>\n",
              "      <td>(20,)</td>\n",
              "      <td>0.1</td>\n",
              "      <td>1000</td>\n",
              "      <td>adam</td>\n",
              "      <td>{'activation': 'relu', 'hidden_layer_sizes': (...</td>\n",
              "      <td>0.95</td>\n",
              "      <td>1.0</td>\n",
              "      <td>1.0</td>\n",
              "      <td>1.0</td>\n",
              "      <td>1.0</td>\n",
              "      <td>0.99</td>\n",
              "      <td>0.02</td>\n",
              "      <td>1</td>\n",
              "    </tr>\n",
              "    <tr>\n",
              "      <th>285</th>\n",
              "      <td>0.068684</td>\n",
              "      <td>0.006382</td>\n",
              "      <td>0.001301</td>\n",
              "      <td>0.000021</td>\n",
              "      <td>relu</td>\n",
              "      <td>(20,)</td>\n",
              "      <td>0.1</td>\n",
              "      <td>5000</td>\n",
              "      <td>adam</td>\n",
              "      <td>{'activation': 'relu', 'hidden_layer_sizes': (...</td>\n",
              "      <td>0.95</td>\n",
              "      <td>1.0</td>\n",
              "      <td>1.0</td>\n",
              "      <td>1.0</td>\n",
              "      <td>1.0</td>\n",
              "      <td>0.99</td>\n",
              "      <td>0.02</td>\n",
              "      <td>1</td>\n",
              "    </tr>\n",
              "    <tr>\n",
              "      <th>287</th>\n",
              "      <td>0.092954</td>\n",
              "      <td>0.030115</td>\n",
              "      <td>0.001331</td>\n",
              "      <td>0.000094</td>\n",
              "      <td>relu</td>\n",
              "      <td>(20,)</td>\n",
              "      <td>0.1</td>\n",
              "      <td>10000</td>\n",
              "      <td>adam</td>\n",
              "      <td>{'activation': 'relu', 'hidden_layer_sizes': (...</td>\n",
              "      <td>0.95</td>\n",
              "      <td>1.0</td>\n",
              "      <td>1.0</td>\n",
              "      <td>1.0</td>\n",
              "      <td>1.0</td>\n",
              "      <td>0.99</td>\n",
              "      <td>0.02</td>\n",
              "      <td>1</td>\n",
              "    </tr>\n",
              "  </tbody>\n",
              "</table>\n",
              "<p>184 rows × 18 columns</p>\n",
              "</div>"
            ],
            "text/plain": [
              "     mean_fit_time  std_fit_time  ...  std_test_score  rank_test_score\n",
              "3         0.334366      0.013363  ...            0.02                1\n",
              "4         0.418099      0.003722  ...            0.02                1\n",
              "5         0.289986      0.036232  ...            0.02                1\n",
              "7         0.301535      0.021064  ...            0.02                1\n",
              "8         0.084845      0.003355  ...            0.02                1\n",
              "..             ...           ...  ...             ...              ...\n",
              "279       0.130263      0.025489  ...            0.02                1\n",
              "281       0.078361      0.016061  ...            0.02                1\n",
              "283       0.085834      0.024629  ...            0.02                1\n",
              "285       0.068684      0.006382  ...            0.02                1\n",
              "287       0.092954      0.030115  ...            0.02                1\n",
              "\n",
              "[184 rows x 18 columns]"
            ]
          },
          "metadata": {
            "tags": []
          },
          "execution_count": 13
        }
      ]
    }
  ]
}