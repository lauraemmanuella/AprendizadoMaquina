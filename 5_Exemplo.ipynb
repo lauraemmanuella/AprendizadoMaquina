{
  "nbformat": 4,
  "nbformat_minor": 0,
  "metadata": {
    "colab": {
      "name": "5-Exemplo.ipynb",
      "provenance": [],
      "collapsed_sections": [],
      "toc_visible": true,
      "mount_file_id": "1oumNVUhT3lRZN--VTvaxm0QTD0NQYbh3",
      "authorship_tag": "ABX9TyNvXg6s3Tjj8pVN8Lo2bii5",
      "include_colab_link": true
    },
    "kernelspec": {
      "name": "python3",
      "display_name": "Python 3"
    }
  },
  "cells": [
    {
      "cell_type": "markdown",
      "metadata": {
        "id": "view-in-github",
        "colab_type": "text"
      },
      "source": [
        "<a href=\"https://colab.research.google.com/github/lauraemmanuella/AprendizadoMaquina/blob/main/5_Exemplo.ipynb\" target=\"_parent\"><img src=\"https://colab.research.google.com/assets/colab-badge.svg\" alt=\"Open In Colab\"/></a>"
      ]
    },
    {
      "cell_type": "code",
      "metadata": {
        "colab": {
          "base_uri": "https://localhost:8080/"
        },
        "id": "kQm9n2zLW9Id",
        "outputId": "713eaae9-0377-4fa2-82b8-541e253af1ef"
      },
      "source": [
        "#monte o drive caso precise usar/salvar arquivos do seu drive\n",
        "from google.colab import drive\n",
        "drive.mount('/content/drive')"
      ],
      "execution_count": 1,
      "outputs": [
        {
          "output_type": "stream",
          "text": [
            "Mounted at /content/drive\n"
          ],
          "name": "stdout"
        }
      ]
    },
    {
      "cell_type": "code",
      "metadata": {
        "colab": {
          "base_uri": "https://localhost:8080/"
        },
        "id": "sL7cbheXXEbj",
        "outputId": "a615f54f-b7f0-4068-c6bd-f4cc51963e72"
      },
      "source": [
        "#mude o ponto de execução para outro diretório, caso deseje\n",
        "%cd /content/drive/MyDrive/Colab Notebooks/AprendizadoMaquina"
      ],
      "execution_count": 2,
      "outputs": [
        {
          "output_type": "stream",
          "text": [
            "/content/drive/MyDrive/Colab Notebooks/AprendizadoMaquina\n"
          ],
          "name": "stdout"
        }
      ]
    },
    {
      "cell_type": "markdown",
      "metadata": {
        "id": "fVEh8UqgXtGp"
      },
      "source": [
        "# Bibliotecas necessárias"
      ]
    },
    {
      "cell_type": "code",
      "metadata": {
        "id": "SBNGkjgVgvjB",
        "colab": {
          "base_uri": "https://localhost:8080/"
        },
        "outputId": "13c62ea2-1466-405c-86e2-66a1b7fc541f"
      },
      "source": [
        "import pandas as pd\n",
        "import numpy as np\n",
        "\n",
        "from sklearn.preprocessing import LabelEncoder\n",
        "from imblearn.under_sampling import NearMiss \n",
        "from sklearn.preprocessing import MinMaxScaler\n",
        "from sklearn.preprocessing import StandardScaler\n",
        "\n",
        "import matplotlib.pyplot as plt\n",
        "import seaborn as sns\n",
        "\n",
        "from sklearn.model_selection import train_test_split\n",
        "from sklearn.model_selection import GridSearchCV\n",
        "from sklearn.model_selection import cross_validate\n",
        "from sklearn.neighbors import KNeighborsClassifier\n",
        "from sklearn import metrics"
      ],
      "execution_count": 3,
      "outputs": [
        {
          "output_type": "stream",
          "text": [
            "/usr/local/lib/python3.7/dist-packages/sklearn/externals/six.py:31: FutureWarning: The module is deprecated in version 0.21 and will be removed in version 0.23 since we've dropped support for Python 2.7. Please rely on the official version of six (https://pypi.org/project/six/).\n",
            "  \"(https://pypi.org/project/six/).\", FutureWarning)\n",
            "/usr/local/lib/python3.7/dist-packages/sklearn/utils/deprecation.py:144: FutureWarning: The sklearn.neighbors.base module is  deprecated in version 0.22 and will be removed in version 0.24. The corresponding classes / functions should instead be imported from sklearn.neighbors. Anything that cannot be imported from sklearn.neighbors is now part of the private API.\n",
            "  warnings.warn(message, FutureWarning)\n"
          ],
          "name": "stderr"
        }
      ]
    },
    {
      "cell_type": "markdown",
      "metadata": {
        "id": "2SShMD0tizKz"
      },
      "source": [
        "# 1 - Preparação dos dados\n",
        "\n",
        "Aquisição e tratamento inicial da base: https://github.com/lauraemmanuella/TCCPUCMinas"
      ]
    },
    {
      "cell_type": "code",
      "metadata": {
        "id": "DqPyHwn7scmb"
      },
      "source": [
        "df = pd.read_csv('./bases/livrosSkoobLaura.csv', decimal=',')"
      ],
      "execution_count": null,
      "outputs": []
    },
    {
      "cell_type": "markdown",
      "metadata": {
        "id": "-oWAgCvG0I1r"
      },
      "source": [
        "## Entendendo a base"
      ]
    },
    {
      "cell_type": "code",
      "metadata": {
        "colab": {
          "base_uri": "https://localhost:8080/"
        },
        "id": "XX0aFuLakfgL",
        "outputId": "fe87df9c-1f7e-4053-ef92-978aba67e557"
      },
      "source": [
        "# mostra quantidade de amostras\n",
        "# mostra quantidade de colunas\n",
        "# mostra os nomes das colunas\n",
        "print('*************************************************************************')\n",
        "print(f'Número de amostras: {df.shape[0]}')\n",
        "print(f'Número de Colunas: {df.shape[1]}')\n",
        "print(f'Nomes das Colunas: {df.columns.values}')\n",
        "print('*************************************************************************')"
      ],
      "execution_count": null,
      "outputs": [
        {
          "output_type": "stream",
          "text": [
            "*************************************************************************\n",
            "Número de amostras: 9937\n",
            "Número de Colunas: 55\n",
            "Nomes das Colunas: ['titulo' 'ano' 'paginas' 'adulto' 'artes' 'autoajuda' 'aventura'\n",
            " 'biografia' 'comunicação' 'contos' 'crime' 'crônica' 'culinária'\n",
            " 'decoração' 'drama' 'economia' 'ensaios' 'entretenimento' 'erótico'\n",
            " 'fantasia' 'ficção' 'filosofia' 'história' 'infantil' 'infantojuvenil'\n",
            " 'brasileira' 'estrangeira' 'matemática' 'memórias' 'música' 'não-ficção'\n",
            " 'poesias' 'policial' 'política' 'psicologia' 'religião' 'romance' 'saúde'\n",
            " 'sexo' 'sociologia' 'suspense' 'terror' 'viagens' 'gender'\n",
            " 'ratingcurrent' 'resenhas' 'abandonos' 'relendo' 'querem_ler' 'lendo'\n",
            " 'leram' 'favoritos' 'desejados' 'trocam' 'avaliaram']\n",
            "*************************************************************************\n"
          ],
          "name": "stdout"
        }
      ]
    },
    {
      "cell_type": "code",
      "metadata": {
        "colab": {
          "base_uri": "https://localhost:8080/",
          "height": 230
        },
        "id": "PwnM9VvapEK8",
        "outputId": "9ca1169b-cb96-4067-c1e4-125c599a0b57"
      },
      "source": [
        "df.head(3)"
      ],
      "execution_count": null,
      "outputs": [
        {
          "output_type": "execute_result",
          "data": {
            "text/html": [
              "<div>\n",
              "<style scoped>\n",
              "    .dataframe tbody tr th:only-of-type {\n",
              "        vertical-align: middle;\n",
              "    }\n",
              "\n",
              "    .dataframe tbody tr th {\n",
              "        vertical-align: top;\n",
              "    }\n",
              "\n",
              "    .dataframe thead th {\n",
              "        text-align: right;\n",
              "    }\n",
              "</style>\n",
              "<table border=\"1\" class=\"dataframe\">\n",
              "  <thead>\n",
              "    <tr style=\"text-align: right;\">\n",
              "      <th></th>\n",
              "      <th>titulo</th>\n",
              "      <th>ano</th>\n",
              "      <th>paginas</th>\n",
              "      <th>adulto</th>\n",
              "      <th>artes</th>\n",
              "      <th>autoajuda</th>\n",
              "      <th>aventura</th>\n",
              "      <th>biografia</th>\n",
              "      <th>comunicação</th>\n",
              "      <th>contos</th>\n",
              "      <th>crime</th>\n",
              "      <th>crônica</th>\n",
              "      <th>culinária</th>\n",
              "      <th>decoração</th>\n",
              "      <th>drama</th>\n",
              "      <th>economia</th>\n",
              "      <th>ensaios</th>\n",
              "      <th>entretenimento</th>\n",
              "      <th>erótico</th>\n",
              "      <th>fantasia</th>\n",
              "      <th>ficção</th>\n",
              "      <th>filosofia</th>\n",
              "      <th>história</th>\n",
              "      <th>infantil</th>\n",
              "      <th>infantojuvenil</th>\n",
              "      <th>brasileira</th>\n",
              "      <th>estrangeira</th>\n",
              "      <th>matemática</th>\n",
              "      <th>memórias</th>\n",
              "      <th>música</th>\n",
              "      <th>não-ficção</th>\n",
              "      <th>poesias</th>\n",
              "      <th>policial</th>\n",
              "      <th>política</th>\n",
              "      <th>psicologia</th>\n",
              "      <th>religião</th>\n",
              "      <th>romance</th>\n",
              "      <th>saúde</th>\n",
              "      <th>sexo</th>\n",
              "      <th>sociologia</th>\n",
              "      <th>suspense</th>\n",
              "      <th>terror</th>\n",
              "      <th>viagens</th>\n",
              "      <th>gender</th>\n",
              "      <th>ratingcurrent</th>\n",
              "      <th>resenhas</th>\n",
              "      <th>abandonos</th>\n",
              "      <th>relendo</th>\n",
              "      <th>querem_ler</th>\n",
              "      <th>lendo</th>\n",
              "      <th>leram</th>\n",
              "      <th>favoritos</th>\n",
              "      <th>desejados</th>\n",
              "      <th>trocam</th>\n",
              "      <th>avaliaram</th>\n",
              "    </tr>\n",
              "  </thead>\n",
              "  <tbody>\n",
              "    <tr>\n",
              "      <th>0</th>\n",
              "      <td>Orçamento sem falhas</td>\n",
              "      <td>2021</td>\n",
              "      <td>128</td>\n",
              "      <td>0</td>\n",
              "      <td>0</td>\n",
              "      <td>0</td>\n",
              "      <td>0</td>\n",
              "      <td>0</td>\n",
              "      <td>0</td>\n",
              "      <td>0</td>\n",
              "      <td>0</td>\n",
              "      <td>0</td>\n",
              "      <td>0</td>\n",
              "      <td>0</td>\n",
              "      <td>0</td>\n",
              "      <td>1</td>\n",
              "      <td>0</td>\n",
              "      <td>0</td>\n",
              "      <td>0</td>\n",
              "      <td>0</td>\n",
              "      <td>0</td>\n",
              "      <td>0</td>\n",
              "      <td>0</td>\n",
              "      <td>0</td>\n",
              "      <td>0</td>\n",
              "      <td>1</td>\n",
              "      <td>0</td>\n",
              "      <td>0</td>\n",
              "      <td>0</td>\n",
              "      <td>0</td>\n",
              "      <td>1</td>\n",
              "      <td>0</td>\n",
              "      <td>0</td>\n",
              "      <td>0</td>\n",
              "      <td>0</td>\n",
              "      <td>0</td>\n",
              "      <td>0</td>\n",
              "      <td>0</td>\n",
              "      <td>0</td>\n",
              "      <td>0</td>\n",
              "      <td>0</td>\n",
              "      <td>0</td>\n",
              "      <td>0</td>\n",
              "      <td>F</td>\n",
              "      <td>4.4</td>\n",
              "      <td>36</td>\n",
              "      <td>0</td>\n",
              "      <td>1</td>\n",
              "      <td>1.005</td>\n",
              "      <td>50</td>\n",
              "      <td>162</td>\n",
              "      <td>12</td>\n",
              "      <td>99</td>\n",
              "      <td>2</td>\n",
              "      <td>142</td>\n",
              "    </tr>\n",
              "    <tr>\n",
              "      <th>1</th>\n",
              "      <td>Minha Sombria Vanessa</td>\n",
              "      <td>2020</td>\n",
              "      <td>432</td>\n",
              "      <td>0</td>\n",
              "      <td>0</td>\n",
              "      <td>0</td>\n",
              "      <td>0</td>\n",
              "      <td>0</td>\n",
              "      <td>0</td>\n",
              "      <td>0</td>\n",
              "      <td>0</td>\n",
              "      <td>0</td>\n",
              "      <td>0</td>\n",
              "      <td>0</td>\n",
              "      <td>1</td>\n",
              "      <td>0</td>\n",
              "      <td>0</td>\n",
              "      <td>0</td>\n",
              "      <td>0</td>\n",
              "      <td>0</td>\n",
              "      <td>1</td>\n",
              "      <td>0</td>\n",
              "      <td>0</td>\n",
              "      <td>0</td>\n",
              "      <td>0</td>\n",
              "      <td>0</td>\n",
              "      <td>1</td>\n",
              "      <td>0</td>\n",
              "      <td>0</td>\n",
              "      <td>0</td>\n",
              "      <td>0</td>\n",
              "      <td>0</td>\n",
              "      <td>0</td>\n",
              "      <td>0</td>\n",
              "      <td>0</td>\n",
              "      <td>0</td>\n",
              "      <td>0</td>\n",
              "      <td>0</td>\n",
              "      <td>0</td>\n",
              "      <td>0</td>\n",
              "      <td>1</td>\n",
              "      <td>0</td>\n",
              "      <td>0</td>\n",
              "      <td>F</td>\n",
              "      <td>4.3</td>\n",
              "      <td>819</td>\n",
              "      <td>71</td>\n",
              "      <td>2</td>\n",
              "      <td>7.274</td>\n",
              "      <td>426</td>\n",
              "      <td>3.908</td>\n",
              "      <td>549</td>\n",
              "      <td>1.260</td>\n",
              "      <td>10</td>\n",
              "      <td>3.433</td>\n",
              "    </tr>\n",
              "    <tr>\n",
              "      <th>2</th>\n",
              "      <td>Recursão</td>\n",
              "      <td>2020</td>\n",
              "      <td>320</td>\n",
              "      <td>0</td>\n",
              "      <td>0</td>\n",
              "      <td>0</td>\n",
              "      <td>0</td>\n",
              "      <td>0</td>\n",
              "      <td>0</td>\n",
              "      <td>0</td>\n",
              "      <td>0</td>\n",
              "      <td>0</td>\n",
              "      <td>0</td>\n",
              "      <td>0</td>\n",
              "      <td>0</td>\n",
              "      <td>0</td>\n",
              "      <td>0</td>\n",
              "      <td>0</td>\n",
              "      <td>0</td>\n",
              "      <td>0</td>\n",
              "      <td>1</td>\n",
              "      <td>0</td>\n",
              "      <td>0</td>\n",
              "      <td>0</td>\n",
              "      <td>0</td>\n",
              "      <td>0</td>\n",
              "      <td>1</td>\n",
              "      <td>0</td>\n",
              "      <td>0</td>\n",
              "      <td>0</td>\n",
              "      <td>0</td>\n",
              "      <td>0</td>\n",
              "      <td>0</td>\n",
              "      <td>0</td>\n",
              "      <td>0</td>\n",
              "      <td>0</td>\n",
              "      <td>0</td>\n",
              "      <td>0</td>\n",
              "      <td>0</td>\n",
              "      <td>0</td>\n",
              "      <td>0</td>\n",
              "      <td>0</td>\n",
              "      <td>0</td>\n",
              "      <td>F</td>\n",
              "      <td>4.4</td>\n",
              "      <td>781</td>\n",
              "      <td>36</td>\n",
              "      <td>1</td>\n",
              "      <td>7.650</td>\n",
              "      <td>358</td>\n",
              "      <td>3.899</td>\n",
              "      <td>909</td>\n",
              "      <td>1.633</td>\n",
              "      <td>9</td>\n",
              "      <td>3.544</td>\n",
              "    </tr>\n",
              "  </tbody>\n",
              "</table>\n",
              "</div>"
            ],
            "text/plain": [
              "                  titulo   ano  paginas  ...  desejados  trocam  avaliaram\n",
              "0   Orçamento sem falhas  2021      128  ...         99       2        142\n",
              "1  Minha Sombria Vanessa  2020      432  ...      1.260      10      3.433\n",
              "2               Recursão  2020      320  ...      1.633       9      3.544\n",
              "\n",
              "[3 rows x 55 columns]"
            ]
          },
          "metadata": {
            "tags": []
          },
          "execution_count": 120
        }
      ]
    },
    {
      "cell_type": "code",
      "metadata": {
        "colab": {
          "base_uri": "https://localhost:8080/"
        },
        "id": "7x9AOfKC6IBt",
        "outputId": "ad54d5ec-fac7-45b9-bd51-2b2cb8e3cd20"
      },
      "source": [
        "df.info()"
      ],
      "execution_count": null,
      "outputs": [
        {
          "output_type": "stream",
          "text": [
            "<class 'pandas.core.frame.DataFrame'>\n",
            "RangeIndex: 9937 entries, 0 to 9936\n",
            "Data columns (total 55 columns):\n",
            " #   Column          Non-Null Count  Dtype \n",
            "---  ------          --------------  ----- \n",
            " 0   titulo          9937 non-null   object\n",
            " 1   ano             9937 non-null   int64 \n",
            " 2   paginas         9937 non-null   int64 \n",
            " 3   adulto          9937 non-null   int64 \n",
            " 4   artes           9937 non-null   int64 \n",
            " 5   autoajuda       9937 non-null   int64 \n",
            " 6   aventura        9937 non-null   int64 \n",
            " 7   biografia       9937 non-null   int64 \n",
            " 8   comunicação     9937 non-null   int64 \n",
            " 9   contos          9937 non-null   int64 \n",
            " 10  crime           9937 non-null   int64 \n",
            " 11  crônica         9937 non-null   int64 \n",
            " 12  culinária       9937 non-null   int64 \n",
            " 13  decoração       9937 non-null   int64 \n",
            " 14  drama           9937 non-null   int64 \n",
            " 15  economia        9937 non-null   int64 \n",
            " 16  ensaios         9937 non-null   int64 \n",
            " 17  entretenimento  9937 non-null   int64 \n",
            " 18  erótico         9937 non-null   int64 \n",
            " 19  fantasia        9937 non-null   int64 \n",
            " 20  ficção          9937 non-null   int64 \n",
            " 21  filosofia       9937 non-null   int64 \n",
            " 22  história        9937 non-null   int64 \n",
            " 23  infantil        9937 non-null   int64 \n",
            " 24  infantojuvenil  9937 non-null   int64 \n",
            " 25  brasileira      9937 non-null   int64 \n",
            " 26  estrangeira     9937 non-null   int64 \n",
            " 27  matemática      9937 non-null   int64 \n",
            " 28  memórias        9937 non-null   int64 \n",
            " 29  música          9937 non-null   int64 \n",
            " 30  não-ficção      9937 non-null   int64 \n",
            " 31  poesias         9937 non-null   int64 \n",
            " 32  policial        9937 non-null   int64 \n",
            " 33  política        9937 non-null   int64 \n",
            " 34  psicologia      9937 non-null   int64 \n",
            " 35  religião        9937 non-null   int64 \n",
            " 36  romance         9937 non-null   int64 \n",
            " 37  saúde           9937 non-null   int64 \n",
            " 38  sexo            9937 non-null   int64 \n",
            " 39  sociologia      9937 non-null   int64 \n",
            " 40  suspense        9937 non-null   int64 \n",
            " 41  terror          9937 non-null   int64 \n",
            " 42  viagens         9937 non-null   int64 \n",
            " 43  gender          9937 non-null   object\n",
            " 44  ratingcurrent   9937 non-null   object\n",
            " 45  resenhas        9937 non-null   object\n",
            " 46  abandonos       9937 non-null   object\n",
            " 47  relendo         9937 non-null   object\n",
            " 48  querem_ler      9937 non-null   object\n",
            " 49  lendo           9937 non-null   object\n",
            " 50  leram           9937 non-null   object\n",
            " 51  favoritos       9937 non-null   object\n",
            " 52  desejados       9937 non-null   object\n",
            " 53  trocam          9937 non-null   object\n",
            " 54  avaliaram       9937 non-null   object\n",
            "dtypes: int64(42), object(13)\n",
            "memory usage: 4.2+ MB\n"
          ],
          "name": "stdout"
        }
      ]
    },
    {
      "cell_type": "code",
      "metadata": {
        "colab": {
          "base_uri": "https://localhost:8080/",
          "height": 334
        },
        "id": "t1RbPefv6LTc",
        "outputId": "ef87bc49-3ac0-4009-8c42-92dbad697ddd"
      },
      "source": [
        "df.describe()"
      ],
      "execution_count": null,
      "outputs": [
        {
          "output_type": "execute_result",
          "data": {
            "text/html": [
              "<div>\n",
              "<style scoped>\n",
              "    .dataframe tbody tr th:only-of-type {\n",
              "        vertical-align: middle;\n",
              "    }\n",
              "\n",
              "    .dataframe tbody tr th {\n",
              "        vertical-align: top;\n",
              "    }\n",
              "\n",
              "    .dataframe thead th {\n",
              "        text-align: right;\n",
              "    }\n",
              "</style>\n",
              "<table border=\"1\" class=\"dataframe\">\n",
              "  <thead>\n",
              "    <tr style=\"text-align: right;\">\n",
              "      <th></th>\n",
              "      <th>ano</th>\n",
              "      <th>paginas</th>\n",
              "      <th>adulto</th>\n",
              "      <th>artes</th>\n",
              "      <th>autoajuda</th>\n",
              "      <th>aventura</th>\n",
              "      <th>biografia</th>\n",
              "      <th>comunicação</th>\n",
              "      <th>contos</th>\n",
              "      <th>crime</th>\n",
              "      <th>crônica</th>\n",
              "      <th>culinária</th>\n",
              "      <th>decoração</th>\n",
              "      <th>drama</th>\n",
              "      <th>economia</th>\n",
              "      <th>ensaios</th>\n",
              "      <th>entretenimento</th>\n",
              "      <th>erótico</th>\n",
              "      <th>fantasia</th>\n",
              "      <th>ficção</th>\n",
              "      <th>filosofia</th>\n",
              "      <th>história</th>\n",
              "      <th>infantil</th>\n",
              "      <th>infantojuvenil</th>\n",
              "      <th>brasileira</th>\n",
              "      <th>estrangeira</th>\n",
              "      <th>matemática</th>\n",
              "      <th>memórias</th>\n",
              "      <th>música</th>\n",
              "      <th>não-ficção</th>\n",
              "      <th>poesias</th>\n",
              "      <th>policial</th>\n",
              "      <th>política</th>\n",
              "      <th>psicologia</th>\n",
              "      <th>religião</th>\n",
              "      <th>romance</th>\n",
              "      <th>saúde</th>\n",
              "      <th>sexo</th>\n",
              "      <th>sociologia</th>\n",
              "      <th>suspense</th>\n",
              "      <th>terror</th>\n",
              "      <th>viagens</th>\n",
              "    </tr>\n",
              "  </thead>\n",
              "  <tbody>\n",
              "    <tr>\n",
              "      <th>count</th>\n",
              "      <td>9937.000000</td>\n",
              "      <td>9937.000000</td>\n",
              "      <td>9937.000000</td>\n",
              "      <td>9937.000000</td>\n",
              "      <td>9937.000000</td>\n",
              "      <td>9937.000000</td>\n",
              "      <td>9937.000000</td>\n",
              "      <td>9937.000000</td>\n",
              "      <td>9937.000000</td>\n",
              "      <td>9937.000000</td>\n",
              "      <td>9937.000000</td>\n",
              "      <td>9937.000000</td>\n",
              "      <td>9937.000000</td>\n",
              "      <td>9937.000000</td>\n",
              "      <td>9937.000000</td>\n",
              "      <td>9937.000000</td>\n",
              "      <td>9937.000000</td>\n",
              "      <td>9937.000000</td>\n",
              "      <td>9937.000000</td>\n",
              "      <td>9937.000000</td>\n",
              "      <td>9937.000000</td>\n",
              "      <td>9937.000000</td>\n",
              "      <td>9937.000000</td>\n",
              "      <td>9937.000000</td>\n",
              "      <td>9937.000000</td>\n",
              "      <td>9937.000000</td>\n",
              "      <td>9937.000000</td>\n",
              "      <td>9937.000000</td>\n",
              "      <td>9937.000000</td>\n",
              "      <td>9937.000000</td>\n",
              "      <td>9937.000000</td>\n",
              "      <td>9937.000000</td>\n",
              "      <td>9937.000000</td>\n",
              "      <td>9937.000000</td>\n",
              "      <td>9937.000000</td>\n",
              "      <td>9937.000000</td>\n",
              "      <td>9937.000000</td>\n",
              "      <td>9937.000000</td>\n",
              "      <td>9937.000000</td>\n",
              "      <td>9937.000000</td>\n",
              "      <td>9937.000000</td>\n",
              "      <td>9937.000000</td>\n",
              "    </tr>\n",
              "    <tr>\n",
              "      <th>mean</th>\n",
              "      <td>2008.753749</td>\n",
              "      <td>274.941632</td>\n",
              "      <td>0.058670</td>\n",
              "      <td>0.006139</td>\n",
              "      <td>0.034920</td>\n",
              "      <td>0.026970</td>\n",
              "      <td>0.030090</td>\n",
              "      <td>0.004529</td>\n",
              "      <td>0.014189</td>\n",
              "      <td>0.013988</td>\n",
              "      <td>0.000101</td>\n",
              "      <td>0.001912</td>\n",
              "      <td>0.000503</td>\n",
              "      <td>0.019926</td>\n",
              "      <td>0.004931</td>\n",
              "      <td>0.003120</td>\n",
              "      <td>0.003623</td>\n",
              "      <td>0.012781</td>\n",
              "      <td>0.060884</td>\n",
              "      <td>0.228640</td>\n",
              "      <td>0.008856</td>\n",
              "      <td>0.029586</td>\n",
              "      <td>0.010768</td>\n",
              "      <td>0.051021</td>\n",
              "      <td>0.082218</td>\n",
              "      <td>0.348797</td>\n",
              "      <td>0.000906</td>\n",
              "      <td>0.033410</td>\n",
              "      <td>0.002918</td>\n",
              "      <td>0.045688</td>\n",
              "      <td>0.006441</td>\n",
              "      <td>0.022341</td>\n",
              "      <td>0.006742</td>\n",
              "      <td>0.011170</td>\n",
              "      <td>0.022139</td>\n",
              "      <td>0.205495</td>\n",
              "      <td>0.005434</td>\n",
              "      <td>0.000906</td>\n",
              "      <td>0.005233</td>\n",
              "      <td>0.053537</td>\n",
              "      <td>0.010365</td>\n",
              "      <td>0.001308</td>\n",
              "    </tr>\n",
              "    <tr>\n",
              "      <th>std</th>\n",
              "      <td>61.540942</td>\n",
              "      <td>172.921702</td>\n",
              "      <td>0.235017</td>\n",
              "      <td>0.078113</td>\n",
              "      <td>0.183586</td>\n",
              "      <td>0.162004</td>\n",
              "      <td>0.170842</td>\n",
              "      <td>0.067145</td>\n",
              "      <td>0.118277</td>\n",
              "      <td>0.117447</td>\n",
              "      <td>0.010032</td>\n",
              "      <td>0.043687</td>\n",
              "      <td>0.022427</td>\n",
              "      <td>0.139751</td>\n",
              "      <td>0.070052</td>\n",
              "      <td>0.055769</td>\n",
              "      <td>0.060084</td>\n",
              "      <td>0.112332</td>\n",
              "      <td>0.239129</td>\n",
              "      <td>0.419978</td>\n",
              "      <td>0.093692</td>\n",
              "      <td>0.169452</td>\n",
              "      <td>0.103213</td>\n",
              "      <td>0.220053</td>\n",
              "      <td>0.274710</td>\n",
              "      <td>0.476614</td>\n",
              "      <td>0.030083</td>\n",
              "      <td>0.179715</td>\n",
              "      <td>0.053946</td>\n",
              "      <td>0.208818</td>\n",
              "      <td>0.079998</td>\n",
              "      <td>0.147797</td>\n",
              "      <td>0.081839</td>\n",
              "      <td>0.105103</td>\n",
              "      <td>0.147144</td>\n",
              "      <td>0.404083</td>\n",
              "      <td>0.073520</td>\n",
              "      <td>0.030083</td>\n",
              "      <td>0.072153</td>\n",
              "      <td>0.225114</td>\n",
              "      <td>0.101286</td>\n",
              "      <td>0.036148</td>\n",
              "    </tr>\n",
              "    <tr>\n",
              "      <th>min</th>\n",
              "      <td>0.000000</td>\n",
              "      <td>0.000000</td>\n",
              "      <td>0.000000</td>\n",
              "      <td>0.000000</td>\n",
              "      <td>0.000000</td>\n",
              "      <td>0.000000</td>\n",
              "      <td>0.000000</td>\n",
              "      <td>0.000000</td>\n",
              "      <td>0.000000</td>\n",
              "      <td>0.000000</td>\n",
              "      <td>0.000000</td>\n",
              "      <td>0.000000</td>\n",
              "      <td>0.000000</td>\n",
              "      <td>0.000000</td>\n",
              "      <td>0.000000</td>\n",
              "      <td>0.000000</td>\n",
              "      <td>0.000000</td>\n",
              "      <td>0.000000</td>\n",
              "      <td>0.000000</td>\n",
              "      <td>0.000000</td>\n",
              "      <td>0.000000</td>\n",
              "      <td>0.000000</td>\n",
              "      <td>0.000000</td>\n",
              "      <td>0.000000</td>\n",
              "      <td>0.000000</td>\n",
              "      <td>0.000000</td>\n",
              "      <td>0.000000</td>\n",
              "      <td>0.000000</td>\n",
              "      <td>0.000000</td>\n",
              "      <td>0.000000</td>\n",
              "      <td>0.000000</td>\n",
              "      <td>0.000000</td>\n",
              "      <td>0.000000</td>\n",
              "      <td>0.000000</td>\n",
              "      <td>0.000000</td>\n",
              "      <td>0.000000</td>\n",
              "      <td>0.000000</td>\n",
              "      <td>0.000000</td>\n",
              "      <td>0.000000</td>\n",
              "      <td>0.000000</td>\n",
              "      <td>0.000000</td>\n",
              "      <td>0.000000</td>\n",
              "    </tr>\n",
              "    <tr>\n",
              "      <th>25%</th>\n",
              "      <td>2007.000000</td>\n",
              "      <td>170.000000</td>\n",
              "      <td>0.000000</td>\n",
              "      <td>0.000000</td>\n",
              "      <td>0.000000</td>\n",
              "      <td>0.000000</td>\n",
              "      <td>0.000000</td>\n",
              "      <td>0.000000</td>\n",
              "      <td>0.000000</td>\n",
              "      <td>0.000000</td>\n",
              "      <td>0.000000</td>\n",
              "      <td>0.000000</td>\n",
              "      <td>0.000000</td>\n",
              "      <td>0.000000</td>\n",
              "      <td>0.000000</td>\n",
              "      <td>0.000000</td>\n",
              "      <td>0.000000</td>\n",
              "      <td>0.000000</td>\n",
              "      <td>0.000000</td>\n",
              "      <td>0.000000</td>\n",
              "      <td>0.000000</td>\n",
              "      <td>0.000000</td>\n",
              "      <td>0.000000</td>\n",
              "      <td>0.000000</td>\n",
              "      <td>0.000000</td>\n",
              "      <td>0.000000</td>\n",
              "      <td>0.000000</td>\n",
              "      <td>0.000000</td>\n",
              "      <td>0.000000</td>\n",
              "      <td>0.000000</td>\n",
              "      <td>0.000000</td>\n",
              "      <td>0.000000</td>\n",
              "      <td>0.000000</td>\n",
              "      <td>0.000000</td>\n",
              "      <td>0.000000</td>\n",
              "      <td>0.000000</td>\n",
              "      <td>0.000000</td>\n",
              "      <td>0.000000</td>\n",
              "      <td>0.000000</td>\n",
              "      <td>0.000000</td>\n",
              "      <td>0.000000</td>\n",
              "      <td>0.000000</td>\n",
              "    </tr>\n",
              "    <tr>\n",
              "      <th>50%</th>\n",
              "      <td>2012.000000</td>\n",
              "      <td>256.000000</td>\n",
              "      <td>0.000000</td>\n",
              "      <td>0.000000</td>\n",
              "      <td>0.000000</td>\n",
              "      <td>0.000000</td>\n",
              "      <td>0.000000</td>\n",
              "      <td>0.000000</td>\n",
              "      <td>0.000000</td>\n",
              "      <td>0.000000</td>\n",
              "      <td>0.000000</td>\n",
              "      <td>0.000000</td>\n",
              "      <td>0.000000</td>\n",
              "      <td>0.000000</td>\n",
              "      <td>0.000000</td>\n",
              "      <td>0.000000</td>\n",
              "      <td>0.000000</td>\n",
              "      <td>0.000000</td>\n",
              "      <td>0.000000</td>\n",
              "      <td>0.000000</td>\n",
              "      <td>0.000000</td>\n",
              "      <td>0.000000</td>\n",
              "      <td>0.000000</td>\n",
              "      <td>0.000000</td>\n",
              "      <td>0.000000</td>\n",
              "      <td>0.000000</td>\n",
              "      <td>0.000000</td>\n",
              "      <td>0.000000</td>\n",
              "      <td>0.000000</td>\n",
              "      <td>0.000000</td>\n",
              "      <td>0.000000</td>\n",
              "      <td>0.000000</td>\n",
              "      <td>0.000000</td>\n",
              "      <td>0.000000</td>\n",
              "      <td>0.000000</td>\n",
              "      <td>0.000000</td>\n",
              "      <td>0.000000</td>\n",
              "      <td>0.000000</td>\n",
              "      <td>0.000000</td>\n",
              "      <td>0.000000</td>\n",
              "      <td>0.000000</td>\n",
              "      <td>0.000000</td>\n",
              "    </tr>\n",
              "    <tr>\n",
              "      <th>75%</th>\n",
              "      <td>2016.000000</td>\n",
              "      <td>339.000000</td>\n",
              "      <td>0.000000</td>\n",
              "      <td>0.000000</td>\n",
              "      <td>0.000000</td>\n",
              "      <td>0.000000</td>\n",
              "      <td>0.000000</td>\n",
              "      <td>0.000000</td>\n",
              "      <td>0.000000</td>\n",
              "      <td>0.000000</td>\n",
              "      <td>0.000000</td>\n",
              "      <td>0.000000</td>\n",
              "      <td>0.000000</td>\n",
              "      <td>0.000000</td>\n",
              "      <td>0.000000</td>\n",
              "      <td>0.000000</td>\n",
              "      <td>0.000000</td>\n",
              "      <td>0.000000</td>\n",
              "      <td>0.000000</td>\n",
              "      <td>0.000000</td>\n",
              "      <td>0.000000</td>\n",
              "      <td>0.000000</td>\n",
              "      <td>0.000000</td>\n",
              "      <td>0.000000</td>\n",
              "      <td>0.000000</td>\n",
              "      <td>1.000000</td>\n",
              "      <td>0.000000</td>\n",
              "      <td>0.000000</td>\n",
              "      <td>0.000000</td>\n",
              "      <td>0.000000</td>\n",
              "      <td>0.000000</td>\n",
              "      <td>0.000000</td>\n",
              "      <td>0.000000</td>\n",
              "      <td>0.000000</td>\n",
              "      <td>0.000000</td>\n",
              "      <td>0.000000</td>\n",
              "      <td>0.000000</td>\n",
              "      <td>0.000000</td>\n",
              "      <td>0.000000</td>\n",
              "      <td>0.000000</td>\n",
              "      <td>0.000000</td>\n",
              "      <td>0.000000</td>\n",
              "    </tr>\n",
              "    <tr>\n",
              "      <th>max</th>\n",
              "      <td>2021.000000</td>\n",
              "      <td>4606.000000</td>\n",
              "      <td>1.000000</td>\n",
              "      <td>1.000000</td>\n",
              "      <td>1.000000</td>\n",
              "      <td>1.000000</td>\n",
              "      <td>1.000000</td>\n",
              "      <td>1.000000</td>\n",
              "      <td>1.000000</td>\n",
              "      <td>1.000000</td>\n",
              "      <td>1.000000</td>\n",
              "      <td>1.000000</td>\n",
              "      <td>1.000000</td>\n",
              "      <td>1.000000</td>\n",
              "      <td>1.000000</td>\n",
              "      <td>1.000000</td>\n",
              "      <td>1.000000</td>\n",
              "      <td>1.000000</td>\n",
              "      <td>1.000000</td>\n",
              "      <td>1.000000</td>\n",
              "      <td>1.000000</td>\n",
              "      <td>1.000000</td>\n",
              "      <td>1.000000</td>\n",
              "      <td>1.000000</td>\n",
              "      <td>1.000000</td>\n",
              "      <td>1.000000</td>\n",
              "      <td>1.000000</td>\n",
              "      <td>1.000000</td>\n",
              "      <td>1.000000</td>\n",
              "      <td>1.000000</td>\n",
              "      <td>1.000000</td>\n",
              "      <td>1.000000</td>\n",
              "      <td>1.000000</td>\n",
              "      <td>1.000000</td>\n",
              "      <td>1.000000</td>\n",
              "      <td>1.000000</td>\n",
              "      <td>1.000000</td>\n",
              "      <td>1.000000</td>\n",
              "      <td>1.000000</td>\n",
              "      <td>1.000000</td>\n",
              "      <td>1.000000</td>\n",
              "      <td>1.000000</td>\n",
              "    </tr>\n",
              "  </tbody>\n",
              "</table>\n",
              "</div>"
            ],
            "text/plain": [
              "               ano      paginas  ...       terror      viagens\n",
              "count  9937.000000  9937.000000  ...  9937.000000  9937.000000\n",
              "mean   2008.753749   274.941632  ...     0.010365     0.001308\n",
              "std      61.540942   172.921702  ...     0.101286     0.036148\n",
              "min       0.000000     0.000000  ...     0.000000     0.000000\n",
              "25%    2007.000000   170.000000  ...     0.000000     0.000000\n",
              "50%    2012.000000   256.000000  ...     0.000000     0.000000\n",
              "75%    2016.000000   339.000000  ...     0.000000     0.000000\n",
              "max    2021.000000  4606.000000  ...     1.000000     1.000000\n",
              "\n",
              "[8 rows x 42 columns]"
            ]
          },
          "metadata": {
            "tags": []
          },
          "execution_count": 171
        }
      ]
    },
    {
      "cell_type": "markdown",
      "metadata": {
        "id": "j6rML-mF0MnN"
      },
      "source": [
        "## Tratando colunas categóricas"
      ]
    },
    {
      "cell_type": "code",
      "metadata": {
        "id": "VAr1liNoss2n"
      },
      "source": [
        "#remove a coluna titulo que nao sera usada\n",
        "df.drop(columns = ['titulo'], inplace=True)"
      ],
      "execution_count": null,
      "outputs": []
    },
    {
      "cell_type": "code",
      "metadata": {
        "id": "Hmf5zUJssvfX"
      },
      "source": [
        "#converte a coluna alvo (gender) de categorico para numerico\n",
        "labelencoder = LabelEncoder ()\n",
        "df['gender'] = labelencoder.fit_transform(df['gender']) "
      ],
      "execution_count": null,
      "outputs": []
    },
    {
      "cell_type": "code",
      "metadata": {
        "colab": {
          "base_uri": "https://localhost:8080/"
        },
        "id": "Fj8SW2eNz3IA",
        "outputId": "29ca013f-9fe1-4f24-caa5-bd4af2f2f261"
      },
      "source": [
        "df.columns"
      ],
      "execution_count": null,
      "outputs": [
        {
          "output_type": "execute_result",
          "data": {
            "text/plain": [
              "Index(['ano', 'paginas', 'adulto', 'artes', 'autoajuda', 'aventura',\n",
              "       'biografia', 'comunicação', 'contos', 'crime', 'crônica', 'culinária',\n",
              "       'decoração', 'drama', 'economia', 'ensaios', 'entretenimento',\n",
              "       'erótico', 'fantasia', 'ficção', 'filosofia', 'história', 'infantil',\n",
              "       'infantojuvenil', 'brasileira', 'estrangeira', 'matemática', 'memórias',\n",
              "       'música', 'não-ficção', 'poesias', 'policial', 'política', 'psicologia',\n",
              "       'religião', 'romance', 'saúde', 'sexo', 'sociologia', 'suspense',\n",
              "       'terror', 'viagens', 'gender', 'ratingcurrent', 'resenhas', 'abandonos',\n",
              "       'relendo', 'querem_ler', 'lendo', 'leram', 'favoritos', 'desejados',\n",
              "       'trocam', 'avaliaram'],\n",
              "      dtype='object')"
            ]
          },
          "metadata": {
            "tags": []
          },
          "execution_count": 114
        }
      ]
    },
    {
      "cell_type": "code",
      "metadata": {
        "id": "yjTSywpEzyCO"
      },
      "source": [
        "generos_literarios = ['adulto', 'artes', 'autoajuda', 'aventura',\n",
        "       'biografia', 'comunicação', 'contos', 'crime', 'crônica', 'culinária',\n",
        "       'decoração', 'drama', 'economia', 'ensaios', 'entretenimento',\n",
        "       'erótico', 'fantasia', 'ficção', 'filosofia', 'história', 'infantil',\n",
        "       'infantojuvenil', 'brasileira', 'estrangeira', 'matemática', 'memórias',\n",
        "       'música', 'não-ficção', 'poesias', 'policial', 'política', 'psicologia',\n",
        "       'religião', 'romance', 'saúde', 'sexo', 'sociologia', 'suspense',\n",
        "       'terror', 'viagens']"
      ],
      "execution_count": null,
      "outputs": []
    },
    {
      "cell_type": "code",
      "metadata": {
        "id": "DDAokGm-0dTy"
      },
      "source": [
        "estatisticas = ['ratingcurrent','resenhas', 'abandonos',\n",
        "       'relendo', 'querem_ler', 'lendo', 'leram', 'favoritos', 'desejados',\n",
        "       'trocam', 'avaliaram']"
      ],
      "execution_count": null,
      "outputs": []
    },
    {
      "cell_type": "code",
      "metadata": {
        "id": "V8_Mjqd9s0E4"
      },
      "source": [
        "#remove o ponto dos campos que representam uma contagem e estão como object para transformar em numeric\n",
        "df[estatisticas] = df[estatisticas].apply(lambda x: x.str.replace('.', ''))"
      ],
      "execution_count": null,
      "outputs": []
    },
    {
      "cell_type": "code",
      "metadata": {
        "id": "DvbsL1OrtOnQ"
      },
      "source": [
        "#transforma em numeric\n",
        "df = df.apply(pd.to_numeric)"
      ],
      "execution_count": null,
      "outputs": []
    },
    {
      "cell_type": "code",
      "metadata": {
        "id": "Yhxdne1otR4a",
        "colab": {
          "base_uri": "https://localhost:8080/",
          "height": 179
        },
        "outputId": "62f41f16-825c-4a6f-d73f-be40169b42bd"
      },
      "source": [
        "df.head(3)"
      ],
      "execution_count": null,
      "outputs": [
        {
          "output_type": "execute_result",
          "data": {
            "text/html": [
              "<div>\n",
              "<style scoped>\n",
              "    .dataframe tbody tr th:only-of-type {\n",
              "        vertical-align: middle;\n",
              "    }\n",
              "\n",
              "    .dataframe tbody tr th {\n",
              "        vertical-align: top;\n",
              "    }\n",
              "\n",
              "    .dataframe thead th {\n",
              "        text-align: right;\n",
              "    }\n",
              "</style>\n",
              "<table border=\"1\" class=\"dataframe\">\n",
              "  <thead>\n",
              "    <tr style=\"text-align: right;\">\n",
              "      <th></th>\n",
              "      <th>ano</th>\n",
              "      <th>paginas</th>\n",
              "      <th>adulto</th>\n",
              "      <th>artes</th>\n",
              "      <th>autoajuda</th>\n",
              "      <th>aventura</th>\n",
              "      <th>biografia</th>\n",
              "      <th>comunicação</th>\n",
              "      <th>contos</th>\n",
              "      <th>crime</th>\n",
              "      <th>crônica</th>\n",
              "      <th>culinária</th>\n",
              "      <th>decoração</th>\n",
              "      <th>drama</th>\n",
              "      <th>economia</th>\n",
              "      <th>ensaios</th>\n",
              "      <th>entretenimento</th>\n",
              "      <th>erótico</th>\n",
              "      <th>fantasia</th>\n",
              "      <th>ficção</th>\n",
              "      <th>filosofia</th>\n",
              "      <th>história</th>\n",
              "      <th>infantil</th>\n",
              "      <th>infantojuvenil</th>\n",
              "      <th>brasileira</th>\n",
              "      <th>estrangeira</th>\n",
              "      <th>matemática</th>\n",
              "      <th>memórias</th>\n",
              "      <th>música</th>\n",
              "      <th>não-ficção</th>\n",
              "      <th>poesias</th>\n",
              "      <th>policial</th>\n",
              "      <th>política</th>\n",
              "      <th>psicologia</th>\n",
              "      <th>religião</th>\n",
              "      <th>romance</th>\n",
              "      <th>saúde</th>\n",
              "      <th>sexo</th>\n",
              "      <th>sociologia</th>\n",
              "      <th>suspense</th>\n",
              "      <th>terror</th>\n",
              "      <th>viagens</th>\n",
              "      <th>gender</th>\n",
              "      <th>ratingcurrent</th>\n",
              "      <th>resenhas</th>\n",
              "      <th>abandonos</th>\n",
              "      <th>relendo</th>\n",
              "      <th>querem_ler</th>\n",
              "      <th>lendo</th>\n",
              "      <th>leram</th>\n",
              "      <th>favoritos</th>\n",
              "      <th>desejados</th>\n",
              "      <th>trocam</th>\n",
              "      <th>avaliaram</th>\n",
              "    </tr>\n",
              "  </thead>\n",
              "  <tbody>\n",
              "    <tr>\n",
              "      <th>0</th>\n",
              "      <td>2021</td>\n",
              "      <td>128</td>\n",
              "      <td>0</td>\n",
              "      <td>0</td>\n",
              "      <td>0</td>\n",
              "      <td>0</td>\n",
              "      <td>0</td>\n",
              "      <td>0</td>\n",
              "      <td>0</td>\n",
              "      <td>0</td>\n",
              "      <td>0</td>\n",
              "      <td>0</td>\n",
              "      <td>0</td>\n",
              "      <td>0</td>\n",
              "      <td>1</td>\n",
              "      <td>0</td>\n",
              "      <td>0</td>\n",
              "      <td>0</td>\n",
              "      <td>0</td>\n",
              "      <td>0</td>\n",
              "      <td>0</td>\n",
              "      <td>0</td>\n",
              "      <td>0</td>\n",
              "      <td>0</td>\n",
              "      <td>1</td>\n",
              "      <td>0</td>\n",
              "      <td>0</td>\n",
              "      <td>0</td>\n",
              "      <td>0</td>\n",
              "      <td>1</td>\n",
              "      <td>0</td>\n",
              "      <td>0</td>\n",
              "      <td>0</td>\n",
              "      <td>0</td>\n",
              "      <td>0</td>\n",
              "      <td>0</td>\n",
              "      <td>0</td>\n",
              "      <td>0</td>\n",
              "      <td>0</td>\n",
              "      <td>0</td>\n",
              "      <td>0</td>\n",
              "      <td>0</td>\n",
              "      <td>0</td>\n",
              "      <td>44</td>\n",
              "      <td>36</td>\n",
              "      <td>0</td>\n",
              "      <td>1</td>\n",
              "      <td>1005</td>\n",
              "      <td>50</td>\n",
              "      <td>162</td>\n",
              "      <td>12</td>\n",
              "      <td>99</td>\n",
              "      <td>2</td>\n",
              "      <td>142</td>\n",
              "    </tr>\n",
              "    <tr>\n",
              "      <th>1</th>\n",
              "      <td>2020</td>\n",
              "      <td>432</td>\n",
              "      <td>0</td>\n",
              "      <td>0</td>\n",
              "      <td>0</td>\n",
              "      <td>0</td>\n",
              "      <td>0</td>\n",
              "      <td>0</td>\n",
              "      <td>0</td>\n",
              "      <td>0</td>\n",
              "      <td>0</td>\n",
              "      <td>0</td>\n",
              "      <td>0</td>\n",
              "      <td>1</td>\n",
              "      <td>0</td>\n",
              "      <td>0</td>\n",
              "      <td>0</td>\n",
              "      <td>0</td>\n",
              "      <td>0</td>\n",
              "      <td>1</td>\n",
              "      <td>0</td>\n",
              "      <td>0</td>\n",
              "      <td>0</td>\n",
              "      <td>0</td>\n",
              "      <td>0</td>\n",
              "      <td>1</td>\n",
              "      <td>0</td>\n",
              "      <td>0</td>\n",
              "      <td>0</td>\n",
              "      <td>0</td>\n",
              "      <td>0</td>\n",
              "      <td>0</td>\n",
              "      <td>0</td>\n",
              "      <td>0</td>\n",
              "      <td>0</td>\n",
              "      <td>0</td>\n",
              "      <td>0</td>\n",
              "      <td>0</td>\n",
              "      <td>0</td>\n",
              "      <td>1</td>\n",
              "      <td>0</td>\n",
              "      <td>0</td>\n",
              "      <td>0</td>\n",
              "      <td>43</td>\n",
              "      <td>819</td>\n",
              "      <td>71</td>\n",
              "      <td>2</td>\n",
              "      <td>7274</td>\n",
              "      <td>426</td>\n",
              "      <td>3908</td>\n",
              "      <td>549</td>\n",
              "      <td>1260</td>\n",
              "      <td>10</td>\n",
              "      <td>3433</td>\n",
              "    </tr>\n",
              "    <tr>\n",
              "      <th>2</th>\n",
              "      <td>2020</td>\n",
              "      <td>320</td>\n",
              "      <td>0</td>\n",
              "      <td>0</td>\n",
              "      <td>0</td>\n",
              "      <td>0</td>\n",
              "      <td>0</td>\n",
              "      <td>0</td>\n",
              "      <td>0</td>\n",
              "      <td>0</td>\n",
              "      <td>0</td>\n",
              "      <td>0</td>\n",
              "      <td>0</td>\n",
              "      <td>0</td>\n",
              "      <td>0</td>\n",
              "      <td>0</td>\n",
              "      <td>0</td>\n",
              "      <td>0</td>\n",
              "      <td>0</td>\n",
              "      <td>1</td>\n",
              "      <td>0</td>\n",
              "      <td>0</td>\n",
              "      <td>0</td>\n",
              "      <td>0</td>\n",
              "      <td>0</td>\n",
              "      <td>1</td>\n",
              "      <td>0</td>\n",
              "      <td>0</td>\n",
              "      <td>0</td>\n",
              "      <td>0</td>\n",
              "      <td>0</td>\n",
              "      <td>0</td>\n",
              "      <td>0</td>\n",
              "      <td>0</td>\n",
              "      <td>0</td>\n",
              "      <td>0</td>\n",
              "      <td>0</td>\n",
              "      <td>0</td>\n",
              "      <td>0</td>\n",
              "      <td>0</td>\n",
              "      <td>0</td>\n",
              "      <td>0</td>\n",
              "      <td>0</td>\n",
              "      <td>44</td>\n",
              "      <td>781</td>\n",
              "      <td>36</td>\n",
              "      <td>1</td>\n",
              "      <td>7650</td>\n",
              "      <td>358</td>\n",
              "      <td>3899</td>\n",
              "      <td>909</td>\n",
              "      <td>1633</td>\n",
              "      <td>9</td>\n",
              "      <td>3544</td>\n",
              "    </tr>\n",
              "  </tbody>\n",
              "</table>\n",
              "</div>"
            ],
            "text/plain": [
              "    ano  paginas  adulto  artes  ...  favoritos  desejados  trocam  avaliaram\n",
              "0  2021      128       0      0  ...         12         99       2        142\n",
              "1  2020      432       0      0  ...        549       1260      10       3433\n",
              "2  2020      320       0      0  ...        909       1633       9       3544\n",
              "\n",
              "[3 rows x 54 columns]"
            ]
          },
          "metadata": {
            "tags": []
          },
          "execution_count": 119
        }
      ]
    },
    {
      "cell_type": "markdown",
      "metadata": {
        "id": "XNT_zYMjuOv9"
      },
      "source": [
        "## Balanceamento da base\n",
        "\n",
        "Balanceamento da base em relação às classes Feminino e Masculino usando undersampling"
      ]
    },
    {
      "cell_type": "code",
      "metadata": {
        "colab": {
          "base_uri": "https://localhost:8080/"
        },
        "id": "Y5gdyYLqtYaI",
        "outputId": "48ab1e00-ed98-4db4-c25b-6e78e4d062a1"
      },
      "source": [
        "#verifica desbalanceamento em relação ao gender\n",
        "#Observe que aqui estou usando os rótulos usando o inverse_transform\n",
        "pd.Series(labelencoder.inverse_transform(df['gender'])).value_counts()"
      ],
      "execution_count": null,
      "outputs": [
        {
          "output_type": "execute_result",
          "data": {
            "text/plain": [
              "F    8647\n",
              "M    1290\n",
              "dtype: int64"
            ]
          },
          "metadata": {
            "tags": []
          },
          "execution_count": 120
        }
      ]
    },
    {
      "cell_type": "code",
      "metadata": {
        "colab": {
          "base_uri": "https://localhost:8080/"
        },
        "id": "I7n4R2tWt_zZ",
        "outputId": "d7d4ad24-6161-4c60-cd8c-c5dc9052224e"
      },
      "source": [
        "gender = ((df['gender'].value_counts()/len(df)).round(3)*100)\n",
        "print('Percentual de exemplos de cada possível classe (%)')\n",
        "print(gender)"
      ],
      "execution_count": null,
      "outputs": [
        {
          "output_type": "stream",
          "text": [
            "Percentual de exemplos de cada possível classe (%)\n",
            "0    87.0\n",
            "1    13.0\n",
            "Name: gender, dtype: float64\n"
          ],
          "name": "stdout"
        }
      ]
    },
    {
      "cell_type": "code",
      "metadata": {
        "colab": {
          "base_uri": "https://localhost:8080/",
          "height": 248
        },
        "id": "6Wkji8dHuE7p",
        "outputId": "f7de2004-12a6-4fcd-a77c-71782eb46644"
      },
      "source": [
        "plt.pie(gender, autopct='%1.1f%%')\n",
        "plt.legend(['Feminino', 'Masculino'],loc= 'upper right')\n",
        "plt.show()"
      ],
      "execution_count": null,
      "outputs": [
        {
          "output_type": "display_data",
          "data": {
            "image/png": "[encoded data removed]",
            "text/plain": [
              "<Figure size 432x288 with 1 Axes>"
            ]
          },
          "metadata": {
            "tags": []
          }
        }
      ]
    },
    {
      "cell_type": "code",
      "metadata": {
        "id": "-9lB9LhMuOaZ",
        "colab": {
          "base_uri": "https://localhost:8080/"
        },
        "outputId": "30060eaa-ca18-4c32-fb00-713c4865f427"
      },
      "source": [
        "#faz reamostragem para balancear as classes\n",
        "nm = NearMiss()\n",
        "X_res, y_res = nm.fit_resample(df.drop(columns=['gender']), df['gender'])"
      ],
      "execution_count": null,
      "outputs": [
        {
          "output_type": "stream",
          "text": [
            "/usr/local/lib/python3.7/dist-packages/sklearn/utils/deprecation.py:87: FutureWarning: Function safe_indexing is deprecated; safe_indexing is deprecated in version 0.22 and will be removed in version 0.24.\n",
            "  warnings.warn(msg, category=FutureWarning)\n",
            "/usr/local/lib/python3.7/dist-packages/sklearn/utils/deprecation.py:87: FutureWarning: Function safe_indexing is deprecated; safe_indexing is deprecated in version 0.22 and will be removed in version 0.24.\n",
            "  warnings.warn(msg, category=FutureWarning)\n",
            "/usr/local/lib/python3.7/dist-packages/sklearn/utils/deprecation.py:87: FutureWarning: Function safe_indexing is deprecated; safe_indexing is deprecated in version 0.22 and will be removed in version 0.24.\n",
            "  warnings.warn(msg, category=FutureWarning)\n"
          ],
          "name": "stderr"
        }
      ]
    },
    {
      "cell_type": "code",
      "metadata": {
        "id": "CPaPBUZ_vD08"
      },
      "source": [
        "#gera dataframe com os dados balanceados\n",
        "dfBalanceado = pd.DataFrame(X_res, columns=df.columns.drop('gender'))"
      ],
      "execution_count": null,
      "outputs": []
    },
    {
      "cell_type": "code",
      "metadata": {
        "id": "6MJ-Ug8tveZN"
      },
      "source": [
        "#acrescenta coluna alvo\n",
        "dfBalanceado['gender'] = pd.Series(y_res)"
      ],
      "execution_count": null,
      "outputs": []
    },
    {
      "cell_type": "code",
      "metadata": {
        "colab": {
          "base_uri": "https://localhost:8080/"
        },
        "id": "9KmVoZIBTA8J",
        "outputId": "e9e2657c-602c-4e9d-d9d5-94367be98193"
      },
      "source": [
        "#mostra quantidade de amostra de cada classe (feminino e masculino)\n",
        "dfBalanceado['gender'].value_counts()"
      ],
      "execution_count": null,
      "outputs": [
        {
          "output_type": "execute_result",
          "data": {
            "text/plain": [
              "1    1290\n",
              "0    1290\n",
              "Name: gender, dtype: int64"
            ]
          },
          "metadata": {
            "tags": []
          },
          "execution_count": 124
        }
      ]
    },
    {
      "cell_type": "code",
      "metadata": {
        "colab": {
          "base_uri": "https://localhost:8080/",
          "height": 334
        },
        "id": "3QNmZr8fvgkS",
        "outputId": "145718a4-1a49-40e2-e41e-4ee7c404207a"
      },
      "source": [
        "dfBalanceado.describe()"
      ],
      "execution_count": null,
      "outputs": [
        {
          "output_type": "execute_result",
          "data": {
            "text/html": [
              "<div>\n",
              "<style scoped>\n",
              "    .dataframe tbody tr th:only-of-type {\n",
              "        vertical-align: middle;\n",
              "    }\n",
              "\n",
              "    .dataframe tbody tr th {\n",
              "        vertical-align: top;\n",
              "    }\n",
              "\n",
              "    .dataframe thead th {\n",
              "        text-align: right;\n",
              "    }\n",
              "</style>\n",
              "<table border=\"1\" class=\"dataframe\">\n",
              "  <thead>\n",
              "    <tr style=\"text-align: right;\">\n",
              "      <th></th>\n",
              "      <th>ano</th>\n",
              "      <th>paginas</th>\n",
              "      <th>adulto</th>\n",
              "      <th>artes</th>\n",
              "      <th>autoajuda</th>\n",
              "      <th>aventura</th>\n",
              "      <th>biografia</th>\n",
              "      <th>comunicação</th>\n",
              "      <th>contos</th>\n",
              "      <th>crime</th>\n",
              "      <th>crônica</th>\n",
              "      <th>culinária</th>\n",
              "      <th>decoração</th>\n",
              "      <th>drama</th>\n",
              "      <th>economia</th>\n",
              "      <th>ensaios</th>\n",
              "      <th>entretenimento</th>\n",
              "      <th>erótico</th>\n",
              "      <th>fantasia</th>\n",
              "      <th>ficção</th>\n",
              "      <th>filosofia</th>\n",
              "      <th>história</th>\n",
              "      <th>infantil</th>\n",
              "      <th>infantojuvenil</th>\n",
              "      <th>brasileira</th>\n",
              "      <th>estrangeira</th>\n",
              "      <th>matemática</th>\n",
              "      <th>memórias</th>\n",
              "      <th>música</th>\n",
              "      <th>não-ficção</th>\n",
              "      <th>poesias</th>\n",
              "      <th>policial</th>\n",
              "      <th>política</th>\n",
              "      <th>psicologia</th>\n",
              "      <th>religião</th>\n",
              "      <th>romance</th>\n",
              "      <th>saúde</th>\n",
              "      <th>sexo</th>\n",
              "      <th>sociologia</th>\n",
              "      <th>suspense</th>\n",
              "      <th>terror</th>\n",
              "      <th>viagens</th>\n",
              "      <th>ratingcurrent</th>\n",
              "      <th>resenhas</th>\n",
              "      <th>abandonos</th>\n",
              "      <th>relendo</th>\n",
              "      <th>querem_ler</th>\n",
              "      <th>lendo</th>\n",
              "      <th>leram</th>\n",
              "      <th>favoritos</th>\n",
              "      <th>desejados</th>\n",
              "      <th>trocam</th>\n",
              "      <th>avaliaram</th>\n",
              "      <th>gender</th>\n",
              "    </tr>\n",
              "  </thead>\n",
              "  <tbody>\n",
              "    <tr>\n",
              "      <th>count</th>\n",
              "      <td>2580.000000</td>\n",
              "      <td>2580.000000</td>\n",
              "      <td>2580.000000</td>\n",
              "      <td>2580.000000</td>\n",
              "      <td>2580.000000</td>\n",
              "      <td>2580.000000</td>\n",
              "      <td>2580.000000</td>\n",
              "      <td>2580.000000</td>\n",
              "      <td>2580.000000</td>\n",
              "      <td>2580.000000</td>\n",
              "      <td>2580.0</td>\n",
              "      <td>2580.000000</td>\n",
              "      <td>2580.000000</td>\n",
              "      <td>2580.000000</td>\n",
              "      <td>2580.000000</td>\n",
              "      <td>2580.000000</td>\n",
              "      <td>2580.000000</td>\n",
              "      <td>2580.000000</td>\n",
              "      <td>2580.000000</td>\n",
              "      <td>2580.000000</td>\n",
              "      <td>2580.000000</td>\n",
              "      <td>2580.000000</td>\n",
              "      <td>2580.000000</td>\n",
              "      <td>2580.000000</td>\n",
              "      <td>2580.000000</td>\n",
              "      <td>2580.000000</td>\n",
              "      <td>2580.000000</td>\n",
              "      <td>2580.000000</td>\n",
              "      <td>2580.000000</td>\n",
              "      <td>2580.000000</td>\n",
              "      <td>2580.000000</td>\n",
              "      <td>2580.000000</td>\n",
              "      <td>2580.000000</td>\n",
              "      <td>2580.000000</td>\n",
              "      <td>2580.000000</td>\n",
              "      <td>2580.000000</td>\n",
              "      <td>2580.000000</td>\n",
              "      <td>2580.000000</td>\n",
              "      <td>2580.000000</td>\n",
              "      <td>2580.000000</td>\n",
              "      <td>2580.000000</td>\n",
              "      <td>2580.000000</td>\n",
              "      <td>2580.000000</td>\n",
              "      <td>2580.000000</td>\n",
              "      <td>2580.000000</td>\n",
              "      <td>2580.000000</td>\n",
              "      <td>2580.000000</td>\n",
              "      <td>2580.000000</td>\n",
              "      <td>2580.000000</td>\n",
              "      <td>2580.000000</td>\n",
              "      <td>2580.000000</td>\n",
              "      <td>2580.000000</td>\n",
              "      <td>2580.000000</td>\n",
              "      <td>2580.000000</td>\n",
              "    </tr>\n",
              "    <tr>\n",
              "      <th>mean</th>\n",
              "      <td>2004.133333</td>\n",
              "      <td>229.953488</td>\n",
              "      <td>0.002713</td>\n",
              "      <td>0.006589</td>\n",
              "      <td>0.016667</td>\n",
              "      <td>0.009302</td>\n",
              "      <td>0.024806</td>\n",
              "      <td>0.004651</td>\n",
              "      <td>0.007752</td>\n",
              "      <td>0.005814</td>\n",
              "      <td>0.0</td>\n",
              "      <td>0.002326</td>\n",
              "      <td>0.000388</td>\n",
              "      <td>0.006202</td>\n",
              "      <td>0.010853</td>\n",
              "      <td>0.003876</td>\n",
              "      <td>0.003101</td>\n",
              "      <td>0.000775</td>\n",
              "      <td>0.013953</td>\n",
              "      <td>0.060853</td>\n",
              "      <td>0.017442</td>\n",
              "      <td>0.031395</td>\n",
              "      <td>0.003488</td>\n",
              "      <td>0.012791</td>\n",
              "      <td>0.037209</td>\n",
              "      <td>0.094186</td>\n",
              "      <td>0.001938</td>\n",
              "      <td>0.027907</td>\n",
              "      <td>0.002713</td>\n",
              "      <td>0.032558</td>\n",
              "      <td>0.004264</td>\n",
              "      <td>0.005039</td>\n",
              "      <td>0.007752</td>\n",
              "      <td>0.010078</td>\n",
              "      <td>0.017829</td>\n",
              "      <td>0.036434</td>\n",
              "      <td>0.004264</td>\n",
              "      <td>0.000775</td>\n",
              "      <td>0.003488</td>\n",
              "      <td>0.013566</td>\n",
              "      <td>0.003101</td>\n",
              "      <td>0.002713</td>\n",
              "      <td>37.121705</td>\n",
              "      <td>4.138760</td>\n",
              "      <td>5.874031</td>\n",
              "      <td>0.522868</td>\n",
              "      <td>165.746124</td>\n",
              "      <td>15.074806</td>\n",
              "      <td>140.076357</td>\n",
              "      <td>14.427519</td>\n",
              "      <td>29.538372</td>\n",
              "      <td>2.778682</td>\n",
              "      <td>84.987984</td>\n",
              "      <td>0.500000</td>\n",
              "    </tr>\n",
              "    <tr>\n",
              "      <th>std</th>\n",
              "      <td>68.848334</td>\n",
              "      <td>149.942753</td>\n",
              "      <td>0.052028</td>\n",
              "      <td>0.080921</td>\n",
              "      <td>0.128044</td>\n",
              "      <td>0.096018</td>\n",
              "      <td>0.155564</td>\n",
              "      <td>0.068054</td>\n",
              "      <td>0.087720</td>\n",
              "      <td>0.076042</td>\n",
              "      <td>0.0</td>\n",
              "      <td>0.048178</td>\n",
              "      <td>0.019687</td>\n",
              "      <td>0.078521</td>\n",
              "      <td>0.103630</td>\n",
              "      <td>0.062149</td>\n",
              "      <td>0.055609</td>\n",
              "      <td>0.027837</td>\n",
              "      <td>0.117321</td>\n",
              "      <td>0.239106</td>\n",
              "      <td>0.130936</td>\n",
              "      <td>0.174418</td>\n",
              "      <td>0.058971</td>\n",
              "      <td>0.112392</td>\n",
              "      <td>0.189311</td>\n",
              "      <td>0.292144</td>\n",
              "      <td>0.043988</td>\n",
              "      <td>0.164738</td>\n",
              "      <td>0.052028</td>\n",
              "      <td>0.177511</td>\n",
              "      <td>0.065169</td>\n",
              "      <td>0.070819</td>\n",
              "      <td>0.087720</td>\n",
              "      <td>0.099899</td>\n",
              "      <td>0.132357</td>\n",
              "      <td>0.187404</td>\n",
              "      <td>0.065169</td>\n",
              "      <td>0.027837</td>\n",
              "      <td>0.058971</td>\n",
              "      <td>0.115702</td>\n",
              "      <td>0.055609</td>\n",
              "      <td>0.052028</td>\n",
              "      <td>8.076596</td>\n",
              "      <td>19.390903</td>\n",
              "      <td>55.545098</td>\n",
              "      <td>5.066814</td>\n",
              "      <td>870.358376</td>\n",
              "      <td>88.582190</td>\n",
              "      <td>806.855135</td>\n",
              "      <td>120.777758</td>\n",
              "      <td>135.642862</td>\n",
              "      <td>11.124601</td>\n",
              "      <td>468.476846</td>\n",
              "      <td>0.500097</td>\n",
              "    </tr>\n",
              "    <tr>\n",
              "      <th>min</th>\n",
              "      <td>0.000000</td>\n",
              "      <td>0.000000</td>\n",
              "      <td>0.000000</td>\n",
              "      <td>0.000000</td>\n",
              "      <td>0.000000</td>\n",
              "      <td>0.000000</td>\n",
              "      <td>0.000000</td>\n",
              "      <td>0.000000</td>\n",
              "      <td>0.000000</td>\n",
              "      <td>0.000000</td>\n",
              "      <td>0.0</td>\n",
              "      <td>0.000000</td>\n",
              "      <td>0.000000</td>\n",
              "      <td>0.000000</td>\n",
              "      <td>0.000000</td>\n",
              "      <td>0.000000</td>\n",
              "      <td>0.000000</td>\n",
              "      <td>0.000000</td>\n",
              "      <td>0.000000</td>\n",
              "      <td>0.000000</td>\n",
              "      <td>0.000000</td>\n",
              "      <td>0.000000</td>\n",
              "      <td>0.000000</td>\n",
              "      <td>0.000000</td>\n",
              "      <td>0.000000</td>\n",
              "      <td>0.000000</td>\n",
              "      <td>0.000000</td>\n",
              "      <td>0.000000</td>\n",
              "      <td>0.000000</td>\n",
              "      <td>0.000000</td>\n",
              "      <td>0.000000</td>\n",
              "      <td>0.000000</td>\n",
              "      <td>0.000000</td>\n",
              "      <td>0.000000</td>\n",
              "      <td>0.000000</td>\n",
              "      <td>0.000000</td>\n",
              "      <td>0.000000</td>\n",
              "      <td>0.000000</td>\n",
              "      <td>0.000000</td>\n",
              "      <td>0.000000</td>\n",
              "      <td>0.000000</td>\n",
              "      <td>0.000000</td>\n",
              "      <td>0.000000</td>\n",
              "      <td>0.000000</td>\n",
              "      <td>0.000000</td>\n",
              "      <td>0.000000</td>\n",
              "      <td>0.000000</td>\n",
              "      <td>0.000000</td>\n",
              "      <td>0.000000</td>\n",
              "      <td>0.000000</td>\n",
              "      <td>0.000000</td>\n",
              "      <td>0.000000</td>\n",
              "      <td>0.000000</td>\n",
              "      <td>0.000000</td>\n",
              "    </tr>\n",
              "    <tr>\n",
              "      <th>25%</th>\n",
              "      <td>2003.000000</td>\n",
              "      <td>132.000000</td>\n",
              "      <td>0.000000</td>\n",
              "      <td>0.000000</td>\n",
              "      <td>0.000000</td>\n",
              "      <td>0.000000</td>\n",
              "      <td>0.000000</td>\n",
              "      <td>0.000000</td>\n",
              "      <td>0.000000</td>\n",
              "      <td>0.000000</td>\n",
              "      <td>0.0</td>\n",
              "      <td>0.000000</td>\n",
              "      <td>0.000000</td>\n",
              "      <td>0.000000</td>\n",
              "      <td>0.000000</td>\n",
              "      <td>0.000000</td>\n",
              "      <td>0.000000</td>\n",
              "      <td>0.000000</td>\n",
              "      <td>0.000000</td>\n",
              "      <td>0.000000</td>\n",
              "      <td>0.000000</td>\n",
              "      <td>0.000000</td>\n",
              "      <td>0.000000</td>\n",
              "      <td>0.000000</td>\n",
              "      <td>0.000000</td>\n",
              "      <td>0.000000</td>\n",
              "      <td>0.000000</td>\n",
              "      <td>0.000000</td>\n",
              "      <td>0.000000</td>\n",
              "      <td>0.000000</td>\n",
              "      <td>0.000000</td>\n",
              "      <td>0.000000</td>\n",
              "      <td>0.000000</td>\n",
              "      <td>0.000000</td>\n",
              "      <td>0.000000</td>\n",
              "      <td>0.000000</td>\n",
              "      <td>0.000000</td>\n",
              "      <td>0.000000</td>\n",
              "      <td>0.000000</td>\n",
              "      <td>0.000000</td>\n",
              "      <td>0.000000</td>\n",
              "      <td>0.000000</td>\n",
              "      <td>34.000000</td>\n",
              "      <td>0.000000</td>\n",
              "      <td>0.000000</td>\n",
              "      <td>0.000000</td>\n",
              "      <td>6.000000</td>\n",
              "      <td>0.000000</td>\n",
              "      <td>6.000000</td>\n",
              "      <td>0.000000</td>\n",
              "      <td>1.000000</td>\n",
              "      <td>0.000000</td>\n",
              "      <td>4.000000</td>\n",
              "      <td>0.000000</td>\n",
              "    </tr>\n",
              "    <tr>\n",
              "      <th>50%</th>\n",
              "      <td>2008.000000</td>\n",
              "      <td>200.000000</td>\n",
              "      <td>0.000000</td>\n",
              "      <td>0.000000</td>\n",
              "      <td>0.000000</td>\n",
              "      <td>0.000000</td>\n",
              "      <td>0.000000</td>\n",
              "      <td>0.000000</td>\n",
              "      <td>0.000000</td>\n",
              "      <td>0.000000</td>\n",
              "      <td>0.0</td>\n",
              "      <td>0.000000</td>\n",
              "      <td>0.000000</td>\n",
              "      <td>0.000000</td>\n",
              "      <td>0.000000</td>\n",
              "      <td>0.000000</td>\n",
              "      <td>0.000000</td>\n",
              "      <td>0.000000</td>\n",
              "      <td>0.000000</td>\n",
              "      <td>0.000000</td>\n",
              "      <td>0.000000</td>\n",
              "      <td>0.000000</td>\n",
              "      <td>0.000000</td>\n",
              "      <td>0.000000</td>\n",
              "      <td>0.000000</td>\n",
              "      <td>0.000000</td>\n",
              "      <td>0.000000</td>\n",
              "      <td>0.000000</td>\n",
              "      <td>0.000000</td>\n",
              "      <td>0.000000</td>\n",
              "      <td>0.000000</td>\n",
              "      <td>0.000000</td>\n",
              "      <td>0.000000</td>\n",
              "      <td>0.000000</td>\n",
              "      <td>0.000000</td>\n",
              "      <td>0.000000</td>\n",
              "      <td>0.000000</td>\n",
              "      <td>0.000000</td>\n",
              "      <td>0.000000</td>\n",
              "      <td>0.000000</td>\n",
              "      <td>0.000000</td>\n",
              "      <td>0.000000</td>\n",
              "      <td>38.000000</td>\n",
              "      <td>0.000000</td>\n",
              "      <td>0.000000</td>\n",
              "      <td>0.000000</td>\n",
              "      <td>17.000000</td>\n",
              "      <td>1.000000</td>\n",
              "      <td>15.000000</td>\n",
              "      <td>1.000000</td>\n",
              "      <td>3.000000</td>\n",
              "      <td>1.000000</td>\n",
              "      <td>9.000000</td>\n",
              "      <td>0.500000</td>\n",
              "    </tr>\n",
              "    <tr>\n",
              "      <th>75%</th>\n",
              "      <td>2011.000000</td>\n",
              "      <td>290.000000</td>\n",
              "      <td>0.000000</td>\n",
              "      <td>0.000000</td>\n",
              "      <td>0.000000</td>\n",
              "      <td>0.000000</td>\n",
              "      <td>0.000000</td>\n",
              "      <td>0.000000</td>\n",
              "      <td>0.000000</td>\n",
              "      <td>0.000000</td>\n",
              "      <td>0.0</td>\n",
              "      <td>0.000000</td>\n",
              "      <td>0.000000</td>\n",
              "      <td>0.000000</td>\n",
              "      <td>0.000000</td>\n",
              "      <td>0.000000</td>\n",
              "      <td>0.000000</td>\n",
              "      <td>0.000000</td>\n",
              "      <td>0.000000</td>\n",
              "      <td>0.000000</td>\n",
              "      <td>0.000000</td>\n",
              "      <td>0.000000</td>\n",
              "      <td>0.000000</td>\n",
              "      <td>0.000000</td>\n",
              "      <td>0.000000</td>\n",
              "      <td>0.000000</td>\n",
              "      <td>0.000000</td>\n",
              "      <td>0.000000</td>\n",
              "      <td>0.000000</td>\n",
              "      <td>0.000000</td>\n",
              "      <td>0.000000</td>\n",
              "      <td>0.000000</td>\n",
              "      <td>0.000000</td>\n",
              "      <td>0.000000</td>\n",
              "      <td>0.000000</td>\n",
              "      <td>0.000000</td>\n",
              "      <td>0.000000</td>\n",
              "      <td>0.000000</td>\n",
              "      <td>0.000000</td>\n",
              "      <td>0.000000</td>\n",
              "      <td>0.000000</td>\n",
              "      <td>0.000000</td>\n",
              "      <td>41.000000</td>\n",
              "      <td>1.000000</td>\n",
              "      <td>2.000000</td>\n",
              "      <td>0.000000</td>\n",
              "      <td>47.000000</td>\n",
              "      <td>4.000000</td>\n",
              "      <td>35.000000</td>\n",
              "      <td>3.000000</td>\n",
              "      <td>9.000000</td>\n",
              "      <td>2.000000</td>\n",
              "      <td>21.000000</td>\n",
              "      <td>1.000000</td>\n",
              "    </tr>\n",
              "    <tr>\n",
              "      <th>max</th>\n",
              "      <td>2020.000000</td>\n",
              "      <td>1776.000000</td>\n",
              "      <td>1.000000</td>\n",
              "      <td>1.000000</td>\n",
              "      <td>1.000000</td>\n",
              "      <td>1.000000</td>\n",
              "      <td>1.000000</td>\n",
              "      <td>1.000000</td>\n",
              "      <td>1.000000</td>\n",
              "      <td>1.000000</td>\n",
              "      <td>0.0</td>\n",
              "      <td>1.000000</td>\n",
              "      <td>1.000000</td>\n",
              "      <td>1.000000</td>\n",
              "      <td>1.000000</td>\n",
              "      <td>1.000000</td>\n",
              "      <td>1.000000</td>\n",
              "      <td>1.000000</td>\n",
              "      <td>1.000000</td>\n",
              "      <td>1.000000</td>\n",
              "      <td>1.000000</td>\n",
              "      <td>1.000000</td>\n",
              "      <td>1.000000</td>\n",
              "      <td>1.000000</td>\n",
              "      <td>1.000000</td>\n",
              "      <td>1.000000</td>\n",
              "      <td>1.000000</td>\n",
              "      <td>1.000000</td>\n",
              "      <td>1.000000</td>\n",
              "      <td>1.000000</td>\n",
              "      <td>1.000000</td>\n",
              "      <td>1.000000</td>\n",
              "      <td>1.000000</td>\n",
              "      <td>1.000000</td>\n",
              "      <td>1.000000</td>\n",
              "      <td>1.000000</td>\n",
              "      <td>1.000000</td>\n",
              "      <td>1.000000</td>\n",
              "      <td>1.000000</td>\n",
              "      <td>1.000000</td>\n",
              "      <td>1.000000</td>\n",
              "      <td>1.000000</td>\n",
              "      <td>60.000000</td>\n",
              "      <td>537.000000</td>\n",
              "      <td>2361.000000</td>\n",
              "      <td>228.000000</td>\n",
              "      <td>28457.000000</td>\n",
              "      <td>2909.000000</td>\n",
              "      <td>28242.000000</td>\n",
              "      <td>5215.000000</td>\n",
              "      <td>3137.000000</td>\n",
              "      <td>354.000000</td>\n",
              "      <td>16278.000000</td>\n",
              "      <td>1.000000</td>\n",
              "    </tr>\n",
              "  </tbody>\n",
              "</table>\n",
              "</div>"
            ],
            "text/plain": [
              "               ano      paginas  ...     avaliaram       gender\n",
              "count  2580.000000  2580.000000  ...   2580.000000  2580.000000\n",
              "mean   2004.133333   229.953488  ...     84.987984     0.500000\n",
              "std      68.848334   149.942753  ...    468.476846     0.500097\n",
              "min       0.000000     0.000000  ...      0.000000     0.000000\n",
              "25%    2003.000000   132.000000  ...      4.000000     0.000000\n",
              "50%    2008.000000   200.000000  ...      9.000000     0.500000\n",
              "75%    2011.000000   290.000000  ...     21.000000     1.000000\n",
              "max    2020.000000  1776.000000  ...  16278.000000     1.000000\n",
              "\n",
              "[8 rows x 54 columns]"
            ]
          },
          "metadata": {
            "tags": []
          },
          "execution_count": 125
        }
      ]
    },
    {
      "cell_type": "markdown",
      "metadata": {
        "id": "XC5cSLXf2ZBB"
      },
      "source": [
        "## Removendo colunas zeradas"
      ]
    },
    {
      "cell_type": "code",
      "metadata": {
        "id": "raZeaa7X2U9f"
      },
      "source": [
        "#cria uma série com a quantidade de amostras de cada gênero e seus nomes\n",
        "qtdGeneros = pd.Series(dfBalanceado[generos_literarios].sum(), index=dfBalanceado[generos_literarios].sum().index)"
      ],
      "execution_count": null,
      "outputs": []
    },
    {
      "cell_type": "code",
      "metadata": {
        "colab": {
          "base_uri": "https://localhost:8080/"
        },
        "id": "pmFNYyQt2sdm",
        "outputId": "f07f2ea3-da96-448d-fe83-17a00315e048"
      },
      "source": [
        "qtdGeneros"
      ],
      "execution_count": null,
      "outputs": [
        {
          "output_type": "execute_result",
          "data": {
            "text/plain": [
              "adulto              7\n",
              "artes              17\n",
              "autoajuda          43\n",
              "aventura           24\n",
              "biografia          64\n",
              "comunicação        12\n",
              "contos             20\n",
              "crime              15\n",
              "crônica             0\n",
              "culinária           6\n",
              "decoração           1\n",
              "drama              16\n",
              "economia           28\n",
              "ensaios            10\n",
              "entretenimento      8\n",
              "erótico             2\n",
              "fantasia           36\n",
              "ficção            157\n",
              "filosofia          45\n",
              "história           81\n",
              "infantil            9\n",
              "infantojuvenil     33\n",
              "brasileira         96\n",
              "estrangeira       243\n",
              "matemática          5\n",
              "memórias           72\n",
              "música              7\n",
              "não-ficção         84\n",
              "poesias            11\n",
              "policial           13\n",
              "política           20\n",
              "psicologia         26\n",
              "religião           46\n",
              "romance            94\n",
              "saúde              11\n",
              "sexo                2\n",
              "sociologia          9\n",
              "suspense           35\n",
              "terror              8\n",
              "viagens             7\n",
              "dtype: int64"
            ]
          },
          "metadata": {
            "tags": []
          },
          "execution_count": 127
        }
      ]
    },
    {
      "cell_type": "code",
      "metadata": {
        "id": "Zh_31cSa2xsB"
      },
      "source": [
        "#Percorre série criada anteriormente para remover as colunas com 0 ocorrências\n",
        "for i, v in qtdGeneros.items():\n",
        "    if v == 0:\n",
        "      dfBalanceado.drop(columns=[i], inplace=True)"
      ],
      "execution_count": null,
      "outputs": []
    },
    {
      "cell_type": "code",
      "metadata": {
        "colab": {
          "base_uri": "https://localhost:8080/"
        },
        "id": "hRla91DcFFDn",
        "outputId": "5478a624-d6a8-4f3c-ea30-2b7b2eaf052e"
      },
      "source": [
        "dfBalanceado.columns"
      ],
      "execution_count": null,
      "outputs": [
        {
          "output_type": "execute_result",
          "data": {
            "text/plain": [
              "Index(['ano', 'paginas', 'adulto', 'artes', 'autoajuda', 'aventura',\n",
              "       'biografia', 'comunicação', 'contos', 'crime', 'culinária', 'decoração',\n",
              "       'drama', 'economia', 'ensaios', 'entretenimento', 'erótico', 'fantasia',\n",
              "       'ficção', 'filosofia', 'história', 'infantil', 'infantojuvenil',\n",
              "       'brasileira', 'estrangeira', 'matemática', 'memórias', 'música',\n",
              "       'não-ficção', 'poesias', 'policial', 'política', 'psicologia',\n",
              "       'religião', 'romance', 'saúde', 'sexo', 'sociologia', 'suspense',\n",
              "       'terror', 'viagens', 'ratingcurrent', 'resenhas', 'abandonos',\n",
              "       'relendo', 'querem_ler', 'lendo', 'leram', 'favoritos', 'desejados',\n",
              "       'trocam', 'avaliaram', 'gender'],\n",
              "      dtype='object')"
            ]
          },
          "metadata": {
            "tags": []
          },
          "execution_count": 129
        }
      ]
    },
    {
      "cell_type": "code",
      "metadata": {
        "id": "g9CrnJEVFJgm"
      },
      "source": [
        "#atualizando a lista\n",
        "generos_literarios = ['adulto', 'artes', 'autoajuda', 'aventura',\n",
        "       'biografia', 'comunicação', 'contos', 'crime', 'culinária', 'decoração',\n",
        "       'drama', 'economia', 'ensaios', 'entretenimento', 'erótico', 'fantasia',\n",
        "       'ficção', 'filosofia', 'história', 'infantil', 'infantojuvenil',\n",
        "       'brasileira', 'estrangeira', 'matemática', 'memórias', 'música',\n",
        "       'não-ficção', 'poesias', 'policial', 'política', 'psicologia',\n",
        "       'religião', 'romance', 'saúde', 'sexo', 'sociologia', 'suspense',\n",
        "       'terror', 'viagens']"
      ],
      "execution_count": null,
      "outputs": []
    },
    {
      "cell_type": "code",
      "metadata": {
        "colab": {
          "base_uri": "https://localhost:8080/",
          "height": 334
        },
        "id": "bOdF8MNJ21yu",
        "outputId": "1734482e-5d6c-4b61-f7ff-05959c073e53"
      },
      "source": [
        "dfBalanceado.describe()"
      ],
      "execution_count": null,
      "outputs": [
        {
          "output_type": "execute_result",
          "data": {
            "text/html": [
              "<div>\n",
              "<style scoped>\n",
              "    .dataframe tbody tr th:only-of-type {\n",
              "        vertical-align: middle;\n",
              "    }\n",
              "\n",
              "    .dataframe tbody tr th {\n",
              "        vertical-align: top;\n",
              "    }\n",
              "\n",
              "    .dataframe thead th {\n",
              "        text-align: right;\n",
              "    }\n",
              "</style>\n",
              "<table border=\"1\" class=\"dataframe\">\n",
              "  <thead>\n",
              "    <tr style=\"text-align: right;\">\n",
              "      <th></th>\n",
              "      <th>ano</th>\n",
              "      <th>paginas</th>\n",
              "      <th>adulto</th>\n",
              "      <th>artes</th>\n",
              "      <th>autoajuda</th>\n",
              "      <th>aventura</th>\n",
              "      <th>biografia</th>\n",
              "      <th>comunicação</th>\n",
              "      <th>contos</th>\n",
              "      <th>crime</th>\n",
              "      <th>culinária</th>\n",
              "      <th>decoração</th>\n",
              "      <th>drama</th>\n",
              "      <th>economia</th>\n",
              "      <th>ensaios</th>\n",
              "      <th>entretenimento</th>\n",
              "      <th>erótico</th>\n",
              "      <th>fantasia</th>\n",
              "      <th>ficção</th>\n",
              "      <th>filosofia</th>\n",
              "      <th>história</th>\n",
              "      <th>infantil</th>\n",
              "      <th>infantojuvenil</th>\n",
              "      <th>brasileira</th>\n",
              "      <th>estrangeira</th>\n",
              "      <th>matemática</th>\n",
              "      <th>memórias</th>\n",
              "      <th>música</th>\n",
              "      <th>não-ficção</th>\n",
              "      <th>poesias</th>\n",
              "      <th>policial</th>\n",
              "      <th>política</th>\n",
              "      <th>psicologia</th>\n",
              "      <th>religião</th>\n",
              "      <th>romance</th>\n",
              "      <th>saúde</th>\n",
              "      <th>sexo</th>\n",
              "      <th>sociologia</th>\n",
              "      <th>suspense</th>\n",
              "      <th>terror</th>\n",
              "      <th>viagens</th>\n",
              "      <th>ratingcurrent</th>\n",
              "      <th>resenhas</th>\n",
              "      <th>abandonos</th>\n",
              "      <th>relendo</th>\n",
              "      <th>querem_ler</th>\n",
              "      <th>lendo</th>\n",
              "      <th>leram</th>\n",
              "      <th>favoritos</th>\n",
              "      <th>desejados</th>\n",
              "      <th>trocam</th>\n",
              "      <th>avaliaram</th>\n",
              "      <th>gender</th>\n",
              "    </tr>\n",
              "  </thead>\n",
              "  <tbody>\n",
              "    <tr>\n",
              "      <th>count</th>\n",
              "      <td>2580.000000</td>\n",
              "      <td>2580.000000</td>\n",
              "      <td>2580.000000</td>\n",
              "      <td>2580.000000</td>\n",
              "      <td>2580.000000</td>\n",
              "      <td>2580.000000</td>\n",
              "      <td>2580.000000</td>\n",
              "      <td>2580.000000</td>\n",
              "      <td>2580.000000</td>\n",
              "      <td>2580.000000</td>\n",
              "      <td>2580.000000</td>\n",
              "      <td>2580.000000</td>\n",
              "      <td>2580.000000</td>\n",
              "      <td>2580.000000</td>\n",
              "      <td>2580.000000</td>\n",
              "      <td>2580.000000</td>\n",
              "      <td>2580.000000</td>\n",
              "      <td>2580.000000</td>\n",
              "      <td>2580.000000</td>\n",
              "      <td>2580.000000</td>\n",
              "      <td>2580.000000</td>\n",
              "      <td>2580.000000</td>\n",
              "      <td>2580.000000</td>\n",
              "      <td>2580.000000</td>\n",
              "      <td>2580.000000</td>\n",
              "      <td>2580.000000</td>\n",
              "      <td>2580.000000</td>\n",
              "      <td>2580.000000</td>\n",
              "      <td>2580.000000</td>\n",
              "      <td>2580.000000</td>\n",
              "      <td>2580.000000</td>\n",
              "      <td>2580.000000</td>\n",
              "      <td>2580.000000</td>\n",
              "      <td>2580.000000</td>\n",
              "      <td>2580.000000</td>\n",
              "      <td>2580.000000</td>\n",
              "      <td>2580.000000</td>\n",
              "      <td>2580.000000</td>\n",
              "      <td>2580.000000</td>\n",
              "      <td>2580.000000</td>\n",
              "      <td>2580.000000</td>\n",
              "      <td>2580.000000</td>\n",
              "      <td>2580.000000</td>\n",
              "      <td>2580.000000</td>\n",
              "      <td>2580.000000</td>\n",
              "      <td>2580.000000</td>\n",
              "      <td>2580.000000</td>\n",
              "      <td>2580.000000</td>\n",
              "      <td>2580.000000</td>\n",
              "      <td>2580.000000</td>\n",
              "      <td>2580.000000</td>\n",
              "      <td>2580.000000</td>\n",
              "      <td>2580.000000</td>\n",
              "    </tr>\n",
              "    <tr>\n",
              "      <th>mean</th>\n",
              "      <td>2004.133333</td>\n",
              "      <td>229.953488</td>\n",
              "      <td>0.002713</td>\n",
              "      <td>0.006589</td>\n",
              "      <td>0.016667</td>\n",
              "      <td>0.009302</td>\n",
              "      <td>0.024806</td>\n",
              "      <td>0.004651</td>\n",
              "      <td>0.007752</td>\n",
              "      <td>0.005814</td>\n",
              "      <td>0.002326</td>\n",
              "      <td>0.000388</td>\n",
              "      <td>0.006202</td>\n",
              "      <td>0.010853</td>\n",
              "      <td>0.003876</td>\n",
              "      <td>0.003101</td>\n",
              "      <td>0.000775</td>\n",
              "      <td>0.013953</td>\n",
              "      <td>0.060853</td>\n",
              "      <td>0.017442</td>\n",
              "      <td>0.031395</td>\n",
              "      <td>0.003488</td>\n",
              "      <td>0.012791</td>\n",
              "      <td>0.037209</td>\n",
              "      <td>0.094186</td>\n",
              "      <td>0.001938</td>\n",
              "      <td>0.027907</td>\n",
              "      <td>0.002713</td>\n",
              "      <td>0.032558</td>\n",
              "      <td>0.004264</td>\n",
              "      <td>0.005039</td>\n",
              "      <td>0.007752</td>\n",
              "      <td>0.010078</td>\n",
              "      <td>0.017829</td>\n",
              "      <td>0.036434</td>\n",
              "      <td>0.004264</td>\n",
              "      <td>0.000775</td>\n",
              "      <td>0.003488</td>\n",
              "      <td>0.013566</td>\n",
              "      <td>0.003101</td>\n",
              "      <td>0.002713</td>\n",
              "      <td>37.121705</td>\n",
              "      <td>4.138760</td>\n",
              "      <td>5.874031</td>\n",
              "      <td>0.522868</td>\n",
              "      <td>165.746124</td>\n",
              "      <td>15.074806</td>\n",
              "      <td>140.076357</td>\n",
              "      <td>14.427519</td>\n",
              "      <td>29.538372</td>\n",
              "      <td>2.778682</td>\n",
              "      <td>84.987984</td>\n",
              "      <td>0.500000</td>\n",
              "    </tr>\n",
              "    <tr>\n",
              "      <th>std</th>\n",
              "      <td>68.848334</td>\n",
              "      <td>149.942753</td>\n",
              "      <td>0.052028</td>\n",
              "      <td>0.080921</td>\n",
              "      <td>0.128044</td>\n",
              "      <td>0.096018</td>\n",
              "      <td>0.155564</td>\n",
              "      <td>0.068054</td>\n",
              "      <td>0.087720</td>\n",
              "      <td>0.076042</td>\n",
              "      <td>0.048178</td>\n",
              "      <td>0.019687</td>\n",
              "      <td>0.078521</td>\n",
              "      <td>0.103630</td>\n",
              "      <td>0.062149</td>\n",
              "      <td>0.055609</td>\n",
              "      <td>0.027837</td>\n",
              "      <td>0.117321</td>\n",
              "      <td>0.239106</td>\n",
              "      <td>0.130936</td>\n",
              "      <td>0.174418</td>\n",
              "      <td>0.058971</td>\n",
              "      <td>0.112392</td>\n",
              "      <td>0.189311</td>\n",
              "      <td>0.292144</td>\n",
              "      <td>0.043988</td>\n",
              "      <td>0.164738</td>\n",
              "      <td>0.052028</td>\n",
              "      <td>0.177511</td>\n",
              "      <td>0.065169</td>\n",
              "      <td>0.070819</td>\n",
              "      <td>0.087720</td>\n",
              "      <td>0.099899</td>\n",
              "      <td>0.132357</td>\n",
              "      <td>0.187404</td>\n",
              "      <td>0.065169</td>\n",
              "      <td>0.027837</td>\n",
              "      <td>0.058971</td>\n",
              "      <td>0.115702</td>\n",
              "      <td>0.055609</td>\n",
              "      <td>0.052028</td>\n",
              "      <td>8.076596</td>\n",
              "      <td>19.390903</td>\n",
              "      <td>55.545098</td>\n",
              "      <td>5.066814</td>\n",
              "      <td>870.358376</td>\n",
              "      <td>88.582190</td>\n",
              "      <td>806.855135</td>\n",
              "      <td>120.777758</td>\n",
              "      <td>135.642862</td>\n",
              "      <td>11.124601</td>\n",
              "      <td>468.476846</td>\n",
              "      <td>0.500097</td>\n",
              "    </tr>\n",
              "    <tr>\n",
              "      <th>min</th>\n",
              "      <td>0.000000</td>\n",
              "      <td>0.000000</td>\n",
              "      <td>0.000000</td>\n",
              "      <td>0.000000</td>\n",
              "      <td>0.000000</td>\n",
              "      <td>0.000000</td>\n",
              "      <td>0.000000</td>\n",
              "      <td>0.000000</td>\n",
              "      <td>0.000000</td>\n",
              "      <td>0.000000</td>\n",
              "      <td>0.000000</td>\n",
              "      <td>0.000000</td>\n",
              "      <td>0.000000</td>\n",
              "      <td>0.000000</td>\n",
              "      <td>0.000000</td>\n",
              "      <td>0.000000</td>\n",
              "      <td>0.000000</td>\n",
              "      <td>0.000000</td>\n",
              "      <td>0.000000</td>\n",
              "      <td>0.000000</td>\n",
              "      <td>0.000000</td>\n",
              "      <td>0.000000</td>\n",
              "      <td>0.000000</td>\n",
              "      <td>0.000000</td>\n",
              "      <td>0.000000</td>\n",
              "      <td>0.000000</td>\n",
              "      <td>0.000000</td>\n",
              "      <td>0.000000</td>\n",
              "      <td>0.000000</td>\n",
              "      <td>0.000000</td>\n",
              "      <td>0.000000</td>\n",
              "      <td>0.000000</td>\n",
              "      <td>0.000000</td>\n",
              "      <td>0.000000</td>\n",
              "      <td>0.000000</td>\n",
              "      <td>0.000000</td>\n",
              "      <td>0.000000</td>\n",
              "      <td>0.000000</td>\n",
              "      <td>0.000000</td>\n",
              "      <td>0.000000</td>\n",
              "      <td>0.000000</td>\n",
              "      <td>0.000000</td>\n",
              "      <td>0.000000</td>\n",
              "      <td>0.000000</td>\n",
              "      <td>0.000000</td>\n",
              "      <td>0.000000</td>\n",
              "      <td>0.000000</td>\n",
              "      <td>0.000000</td>\n",
              "      <td>0.000000</td>\n",
              "      <td>0.000000</td>\n",
              "      <td>0.000000</td>\n",
              "      <td>0.000000</td>\n",
              "      <td>0.000000</td>\n",
              "    </tr>\n",
              "    <tr>\n",
              "      <th>25%</th>\n",
              "      <td>2003.000000</td>\n",
              "      <td>132.000000</td>\n",
              "      <td>0.000000</td>\n",
              "      <td>0.000000</td>\n",
              "      <td>0.000000</td>\n",
              "      <td>0.000000</td>\n",
              "      <td>0.000000</td>\n",
              "      <td>0.000000</td>\n",
              "      <td>0.000000</td>\n",
              "      <td>0.000000</td>\n",
              "      <td>0.000000</td>\n",
              "      <td>0.000000</td>\n",
              "      <td>0.000000</td>\n",
              "      <td>0.000000</td>\n",
              "      <td>0.000000</td>\n",
              "      <td>0.000000</td>\n",
              "      <td>0.000000</td>\n",
              "      <td>0.000000</td>\n",
              "      <td>0.000000</td>\n",
              "      <td>0.000000</td>\n",
              "      <td>0.000000</td>\n",
              "      <td>0.000000</td>\n",
              "      <td>0.000000</td>\n",
              "      <td>0.000000</td>\n",
              "      <td>0.000000</td>\n",
              "      <td>0.000000</td>\n",
              "      <td>0.000000</td>\n",
              "      <td>0.000000</td>\n",
              "      <td>0.000000</td>\n",
              "      <td>0.000000</td>\n",
              "      <td>0.000000</td>\n",
              "      <td>0.000000</td>\n",
              "      <td>0.000000</td>\n",
              "      <td>0.000000</td>\n",
              "      <td>0.000000</td>\n",
              "      <td>0.000000</td>\n",
              "      <td>0.000000</td>\n",
              "      <td>0.000000</td>\n",
              "      <td>0.000000</td>\n",
              "      <td>0.000000</td>\n",
              "      <td>0.000000</td>\n",
              "      <td>34.000000</td>\n",
              "      <td>0.000000</td>\n",
              "      <td>0.000000</td>\n",
              "      <td>0.000000</td>\n",
              "      <td>6.000000</td>\n",
              "      <td>0.000000</td>\n",
              "      <td>6.000000</td>\n",
              "      <td>0.000000</td>\n",
              "      <td>1.000000</td>\n",
              "      <td>0.000000</td>\n",
              "      <td>4.000000</td>\n",
              "      <td>0.000000</td>\n",
              "    </tr>\n",
              "    <tr>\n",
              "      <th>50%</th>\n",
              "      <td>2008.000000</td>\n",
              "      <td>200.000000</td>\n",
              "      <td>0.000000</td>\n",
              "      <td>0.000000</td>\n",
              "      <td>0.000000</td>\n",
              "      <td>0.000000</td>\n",
              "      <td>0.000000</td>\n",
              "      <td>0.000000</td>\n",
              "      <td>0.000000</td>\n",
              "      <td>0.000000</td>\n",
              "      <td>0.000000</td>\n",
              "      <td>0.000000</td>\n",
              "      <td>0.000000</td>\n",
              "      <td>0.000000</td>\n",
              "      <td>0.000000</td>\n",
              "      <td>0.000000</td>\n",
              "      <td>0.000000</td>\n",
              "      <td>0.000000</td>\n",
              "      <td>0.000000</td>\n",
              "      <td>0.000000</td>\n",
              "      <td>0.000000</td>\n",
              "      <td>0.000000</td>\n",
              "      <td>0.000000</td>\n",
              "      <td>0.000000</td>\n",
              "      <td>0.000000</td>\n",
              "      <td>0.000000</td>\n",
              "      <td>0.000000</td>\n",
              "      <td>0.000000</td>\n",
              "      <td>0.000000</td>\n",
              "      <td>0.000000</td>\n",
              "      <td>0.000000</td>\n",
              "      <td>0.000000</td>\n",
              "      <td>0.000000</td>\n",
              "      <td>0.000000</td>\n",
              "      <td>0.000000</td>\n",
              "      <td>0.000000</td>\n",
              "      <td>0.000000</td>\n",
              "      <td>0.000000</td>\n",
              "      <td>0.000000</td>\n",
              "      <td>0.000000</td>\n",
              "      <td>0.000000</td>\n",
              "      <td>38.000000</td>\n",
              "      <td>0.000000</td>\n",
              "      <td>0.000000</td>\n",
              "      <td>0.000000</td>\n",
              "      <td>17.000000</td>\n",
              "      <td>1.000000</td>\n",
              "      <td>15.000000</td>\n",
              "      <td>1.000000</td>\n",
              "      <td>3.000000</td>\n",
              "      <td>1.000000</td>\n",
              "      <td>9.000000</td>\n",
              "      <td>0.500000</td>\n",
              "    </tr>\n",
              "    <tr>\n",
              "      <th>75%</th>\n",
              "      <td>2011.000000</td>\n",
              "      <td>290.000000</td>\n",
              "      <td>0.000000</td>\n",
              "      <td>0.000000</td>\n",
              "      <td>0.000000</td>\n",
              "      <td>0.000000</td>\n",
              "      <td>0.000000</td>\n",
              "      <td>0.000000</td>\n",
              "      <td>0.000000</td>\n",
              "      <td>0.000000</td>\n",
              "      <td>0.000000</td>\n",
              "      <td>0.000000</td>\n",
              "      <td>0.000000</td>\n",
              "      <td>0.000000</td>\n",
              "      <td>0.000000</td>\n",
              "      <td>0.000000</td>\n",
              "      <td>0.000000</td>\n",
              "      <td>0.000000</td>\n",
              "      <td>0.000000</td>\n",
              "      <td>0.000000</td>\n",
              "      <td>0.000000</td>\n",
              "      <td>0.000000</td>\n",
              "      <td>0.000000</td>\n",
              "      <td>0.000000</td>\n",
              "      <td>0.000000</td>\n",
              "      <td>0.000000</td>\n",
              "      <td>0.000000</td>\n",
              "      <td>0.000000</td>\n",
              "      <td>0.000000</td>\n",
              "      <td>0.000000</td>\n",
              "      <td>0.000000</td>\n",
              "      <td>0.000000</td>\n",
              "      <td>0.000000</td>\n",
              "      <td>0.000000</td>\n",
              "      <td>0.000000</td>\n",
              "      <td>0.000000</td>\n",
              "      <td>0.000000</td>\n",
              "      <td>0.000000</td>\n",
              "      <td>0.000000</td>\n",
              "      <td>0.000000</td>\n",
              "      <td>0.000000</td>\n",
              "      <td>41.000000</td>\n",
              "      <td>1.000000</td>\n",
              "      <td>2.000000</td>\n",
              "      <td>0.000000</td>\n",
              "      <td>47.000000</td>\n",
              "      <td>4.000000</td>\n",
              "      <td>35.000000</td>\n",
              "      <td>3.000000</td>\n",
              "      <td>9.000000</td>\n",
              "      <td>2.000000</td>\n",
              "      <td>21.000000</td>\n",
              "      <td>1.000000</td>\n",
              "    </tr>\n",
              "    <tr>\n",
              "      <th>max</th>\n",
              "      <td>2020.000000</td>\n",
              "      <td>1776.000000</td>\n",
              "      <td>1.000000</td>\n",
              "      <td>1.000000</td>\n",
              "      <td>1.000000</td>\n",
              "      <td>1.000000</td>\n",
              "      <td>1.000000</td>\n",
              "      <td>1.000000</td>\n",
              "      <td>1.000000</td>\n",
              "      <td>1.000000</td>\n",
              "      <td>1.000000</td>\n",
              "      <td>1.000000</td>\n",
              "      <td>1.000000</td>\n",
              "      <td>1.000000</td>\n",
              "      <td>1.000000</td>\n",
              "      <td>1.000000</td>\n",
              "      <td>1.000000</td>\n",
              "      <td>1.000000</td>\n",
              "      <td>1.000000</td>\n",
              "      <td>1.000000</td>\n",
              "      <td>1.000000</td>\n",
              "      <td>1.000000</td>\n",
              "      <td>1.000000</td>\n",
              "      <td>1.000000</td>\n",
              "      <td>1.000000</td>\n",
              "      <td>1.000000</td>\n",
              "      <td>1.000000</td>\n",
              "      <td>1.000000</td>\n",
              "      <td>1.000000</td>\n",
              "      <td>1.000000</td>\n",
              "      <td>1.000000</td>\n",
              "      <td>1.000000</td>\n",
              "      <td>1.000000</td>\n",
              "      <td>1.000000</td>\n",
              "      <td>1.000000</td>\n",
              "      <td>1.000000</td>\n",
              "      <td>1.000000</td>\n",
              "      <td>1.000000</td>\n",
              "      <td>1.000000</td>\n",
              "      <td>1.000000</td>\n",
              "      <td>1.000000</td>\n",
              "      <td>60.000000</td>\n",
              "      <td>537.000000</td>\n",
              "      <td>2361.000000</td>\n",
              "      <td>228.000000</td>\n",
              "      <td>28457.000000</td>\n",
              "      <td>2909.000000</td>\n",
              "      <td>28242.000000</td>\n",
              "      <td>5215.000000</td>\n",
              "      <td>3137.000000</td>\n",
              "      <td>354.000000</td>\n",
              "      <td>16278.000000</td>\n",
              "      <td>1.000000</td>\n",
              "    </tr>\n",
              "  </tbody>\n",
              "</table>\n",
              "</div>"
            ],
            "text/plain": [
              "               ano      paginas  ...     avaliaram       gender\n",
              "count  2580.000000  2580.000000  ...   2580.000000  2580.000000\n",
              "mean   2004.133333   229.953488  ...     84.987984     0.500000\n",
              "std      68.848334   149.942753  ...    468.476846     0.500097\n",
              "min       0.000000     0.000000  ...      0.000000     0.000000\n",
              "25%    2003.000000   132.000000  ...      4.000000     0.000000\n",
              "50%    2008.000000   200.000000  ...      9.000000     0.500000\n",
              "75%    2011.000000   290.000000  ...     21.000000     1.000000\n",
              "max    2020.000000  1776.000000  ...  16278.000000     1.000000\n",
              "\n",
              "[8 rows x 53 columns]"
            ]
          },
          "metadata": {
            "tags": []
          },
          "execution_count": 131
        }
      ]
    },
    {
      "cell_type": "code",
      "metadata": {
        "id": "LMfSTPY7vik7"
      },
      "source": [
        "#guarda base balanceada\n",
        "dfBalanceado.to_csv('./bases/skoobBaseBalanceada.csv',index=False)"
      ],
      "execution_count": null,
      "outputs": []
    },
    {
      "cell_type": "markdown",
      "metadata": {
        "id": "Ce_mfE223Tbd"
      },
      "source": [
        "## Mudança de escala\n",
        "\n",
        "OBS: Os resultados do knn para essa base são melhores com base sem fazer a reescala"
      ]
    },
    {
      "cell_type": "code",
      "metadata": {
        "id": "JjwY2YMN7f5X"
      },
      "source": [
        "#acrescenta ano e páginas à lista de estatísticas\n",
        "estatisticas.extend(['ano', 'paginas'])"
      ],
      "execution_count": null,
      "outputs": []
    },
    {
      "cell_type": "code",
      "metadata": {
        "id": "tfOwOr42tCCr"
      },
      "source": [
        "# Mudança de escala (0-1)\n",
        "#A reescala usando StandardScaler (que modifica a distribuição dos dados para a normal - média 0 e desvio padrão 1)\n",
        "#deu melhores resultados do que o MinMaxScaler (que mantem a distribuição original dos dados)\n",
        "dfBalanceado[estatisticas] = StandardScaler().fit_transform(dfBalanceado[estatisticas])"
      ],
      "execution_count": null,
      "outputs": []
    },
    {
      "cell_type": "code",
      "metadata": {
        "colab": {
          "base_uri": "https://localhost:8080/",
          "height": 419
        },
        "id": "-PCuvQUGtt5C",
        "outputId": "43f06ae6-52fe-403d-a206-bf8fdc321f8b"
      },
      "source": [
        "dfBalanceado.describe()"
      ],
      "execution_count": null,
      "outputs": [
        {
          "output_type": "execute_result",
          "data": {
            "text/html": [
              "<div>\n",
              "<style scoped>\n",
              "    .dataframe tbody tr th:only-of-type {\n",
              "        vertical-align: middle;\n",
              "    }\n",
              "\n",
              "    .dataframe tbody tr th {\n",
              "        vertical-align: top;\n",
              "    }\n",
              "\n",
              "    .dataframe thead th {\n",
              "        text-align: right;\n",
              "    }\n",
              "</style>\n",
              "<table border=\"1\" class=\"dataframe\">\n",
              "  <thead>\n",
              "    <tr style=\"text-align: right;\">\n",
              "      <th></th>\n",
              "      <th>ano</th>\n",
              "      <th>paginas</th>\n",
              "      <th>adulto</th>\n",
              "      <th>artes</th>\n",
              "      <th>autoajuda</th>\n",
              "      <th>aventura</th>\n",
              "      <th>biografia</th>\n",
              "      <th>comunicação</th>\n",
              "      <th>contos</th>\n",
              "      <th>crime</th>\n",
              "      <th>culinária</th>\n",
              "      <th>decoração</th>\n",
              "      <th>drama</th>\n",
              "      <th>economia</th>\n",
              "      <th>ensaios</th>\n",
              "      <th>entretenimento</th>\n",
              "      <th>erótico</th>\n",
              "      <th>fantasia</th>\n",
              "      <th>ficção</th>\n",
              "      <th>filosofia</th>\n",
              "      <th>história</th>\n",
              "      <th>infantil</th>\n",
              "      <th>infantojuvenil</th>\n",
              "      <th>brasileira</th>\n",
              "      <th>estrangeira</th>\n",
              "      <th>matemática</th>\n",
              "      <th>memórias</th>\n",
              "      <th>música</th>\n",
              "      <th>não-ficção</th>\n",
              "      <th>poesias</th>\n",
              "      <th>policial</th>\n",
              "      <th>política</th>\n",
              "      <th>psicologia</th>\n",
              "      <th>religião</th>\n",
              "      <th>romance</th>\n",
              "      <th>saúde</th>\n",
              "      <th>sexo</th>\n",
              "      <th>sociologia</th>\n",
              "      <th>suspense</th>\n",
              "      <th>terror</th>\n",
              "      <th>viagens</th>\n",
              "      <th>ratingcurrent</th>\n",
              "      <th>resenhas</th>\n",
              "      <th>abandonos</th>\n",
              "      <th>relendo</th>\n",
              "      <th>querem_ler</th>\n",
              "      <th>lendo</th>\n",
              "      <th>leram</th>\n",
              "      <th>favoritos</th>\n",
              "      <th>desejados</th>\n",
              "      <th>trocam</th>\n",
              "      <th>avaliaram</th>\n",
              "      <th>gender</th>\n",
              "    </tr>\n",
              "  </thead>\n",
              "  <tbody>\n",
              "    <tr>\n",
              "      <th>count</th>\n",
              "      <td>2.580000e+03</td>\n",
              "      <td>2.580000e+03</td>\n",
              "      <td>2580.000000</td>\n",
              "      <td>2580.000000</td>\n",
              "      <td>2580.000000</td>\n",
              "      <td>2580.000000</td>\n",
              "      <td>2580.000000</td>\n",
              "      <td>2580.000000</td>\n",
              "      <td>2580.000000</td>\n",
              "      <td>2580.000000</td>\n",
              "      <td>2580.000000</td>\n",
              "      <td>2580.000000</td>\n",
              "      <td>2580.000000</td>\n",
              "      <td>2580.000000</td>\n",
              "      <td>2580.000000</td>\n",
              "      <td>2580.000000</td>\n",
              "      <td>2580.000000</td>\n",
              "      <td>2580.000000</td>\n",
              "      <td>2580.000000</td>\n",
              "      <td>2580.000000</td>\n",
              "      <td>2580.000000</td>\n",
              "      <td>2580.000000</td>\n",
              "      <td>2580.000000</td>\n",
              "      <td>2580.000000</td>\n",
              "      <td>2580.000000</td>\n",
              "      <td>2580.000000</td>\n",
              "      <td>2580.000000</td>\n",
              "      <td>2580.000000</td>\n",
              "      <td>2580.000000</td>\n",
              "      <td>2580.000000</td>\n",
              "      <td>2580.000000</td>\n",
              "      <td>2580.000000</td>\n",
              "      <td>2580.000000</td>\n",
              "      <td>2580.000000</td>\n",
              "      <td>2580.000000</td>\n",
              "      <td>2580.000000</td>\n",
              "      <td>2580.000000</td>\n",
              "      <td>2580.000000</td>\n",
              "      <td>2580.000000</td>\n",
              "      <td>2580.000000</td>\n",
              "      <td>2580.000000</td>\n",
              "      <td>2.580000e+03</td>\n",
              "      <td>2.580000e+03</td>\n",
              "      <td>2.580000e+03</td>\n",
              "      <td>2.580000e+03</td>\n",
              "      <td>2.580000e+03</td>\n",
              "      <td>2.580000e+03</td>\n",
              "      <td>2.580000e+03</td>\n",
              "      <td>2.580000e+03</td>\n",
              "      <td>2.580000e+03</td>\n",
              "      <td>2.580000e+03</td>\n",
              "      <td>2.580000e+03</td>\n",
              "      <td>2580.000000</td>\n",
              "    </tr>\n",
              "    <tr>\n",
              "      <th>mean</th>\n",
              "      <td>-1.448196e-15</td>\n",
              "      <td>-1.529569e-16</td>\n",
              "      <td>0.002713</td>\n",
              "      <td>0.006589</td>\n",
              "      <td>0.016667</td>\n",
              "      <td>0.009302</td>\n",
              "      <td>0.024806</td>\n",
              "      <td>0.004651</td>\n",
              "      <td>0.007752</td>\n",
              "      <td>0.005814</td>\n",
              "      <td>0.002326</td>\n",
              "      <td>0.000388</td>\n",
              "      <td>0.006202</td>\n",
              "      <td>0.010853</td>\n",
              "      <td>0.003876</td>\n",
              "      <td>0.003101</td>\n",
              "      <td>0.000775</td>\n",
              "      <td>0.013953</td>\n",
              "      <td>0.060853</td>\n",
              "      <td>0.017442</td>\n",
              "      <td>0.031395</td>\n",
              "      <td>0.003488</td>\n",
              "      <td>0.012791</td>\n",
              "      <td>0.037209</td>\n",
              "      <td>0.094186</td>\n",
              "      <td>0.001938</td>\n",
              "      <td>0.027907</td>\n",
              "      <td>0.002713</td>\n",
              "      <td>0.032558</td>\n",
              "      <td>0.004264</td>\n",
              "      <td>0.005039</td>\n",
              "      <td>0.007752</td>\n",
              "      <td>0.010078</td>\n",
              "      <td>0.017829</td>\n",
              "      <td>0.036434</td>\n",
              "      <td>0.004264</td>\n",
              "      <td>0.000775</td>\n",
              "      <td>0.003488</td>\n",
              "      <td>0.013566</td>\n",
              "      <td>0.003101</td>\n",
              "      <td>0.002713</td>\n",
              "      <td>-1.174771e-16</td>\n",
              "      <td>4.219268e-16</td>\n",
              "      <td>-1.478033e-15</td>\n",
              "      <td>-1.454650e-15</td>\n",
              "      <td>-3.696494e-16</td>\n",
              "      <td>-2.707782e-17</td>\n",
              "      <td>3.703433e-17</td>\n",
              "      <td>4.348911e-16</td>\n",
              "      <td>-1.784382e-15</td>\n",
              "      <td>-4.945549e-16</td>\n",
              "      <td>-8.841711e-17</td>\n",
              "      <td>0.500000</td>\n",
              "    </tr>\n",
              "    <tr>\n",
              "      <th>std</th>\n",
              "      <td>1.000194e+00</td>\n",
              "      <td>1.000194e+00</td>\n",
              "      <td>0.052028</td>\n",
              "      <td>0.080921</td>\n",
              "      <td>0.128044</td>\n",
              "      <td>0.096018</td>\n",
              "      <td>0.155564</td>\n",
              "      <td>0.068054</td>\n",
              "      <td>0.087720</td>\n",
              "      <td>0.076042</td>\n",
              "      <td>0.048178</td>\n",
              "      <td>0.019687</td>\n",
              "      <td>0.078521</td>\n",
              "      <td>0.103630</td>\n",
              "      <td>0.062149</td>\n",
              "      <td>0.055609</td>\n",
              "      <td>0.027837</td>\n",
              "      <td>0.117321</td>\n",
              "      <td>0.239106</td>\n",
              "      <td>0.130936</td>\n",
              "      <td>0.174418</td>\n",
              "      <td>0.058971</td>\n",
              "      <td>0.112392</td>\n",
              "      <td>0.189311</td>\n",
              "      <td>0.292144</td>\n",
              "      <td>0.043988</td>\n",
              "      <td>0.164738</td>\n",
              "      <td>0.052028</td>\n",
              "      <td>0.177511</td>\n",
              "      <td>0.065169</td>\n",
              "      <td>0.070819</td>\n",
              "      <td>0.087720</td>\n",
              "      <td>0.099899</td>\n",
              "      <td>0.132357</td>\n",
              "      <td>0.187404</td>\n",
              "      <td>0.065169</td>\n",
              "      <td>0.027837</td>\n",
              "      <td>0.058971</td>\n",
              "      <td>0.115702</td>\n",
              "      <td>0.055609</td>\n",
              "      <td>0.052028</td>\n",
              "      <td>1.000194e+00</td>\n",
              "      <td>1.000194e+00</td>\n",
              "      <td>1.000194e+00</td>\n",
              "      <td>1.000194e+00</td>\n",
              "      <td>1.000194e+00</td>\n",
              "      <td>1.000194e+00</td>\n",
              "      <td>1.000194e+00</td>\n",
              "      <td>1.000194e+00</td>\n",
              "      <td>1.000194e+00</td>\n",
              "      <td>1.000194e+00</td>\n",
              "      <td>1.000194e+00</td>\n",
              "      <td>0.500097</td>\n",
              "    </tr>\n",
              "    <tr>\n",
              "      <th>min</th>\n",
              "      <td>-2.911504e+01</td>\n",
              "      <td>-1.533906e+00</td>\n",
              "      <td>0.000000</td>\n",
              "      <td>0.000000</td>\n",
              "      <td>0.000000</td>\n",
              "      <td>0.000000</td>\n",
              "      <td>0.000000</td>\n",
              "      <td>0.000000</td>\n",
              "      <td>0.000000</td>\n",
              "      <td>0.000000</td>\n",
              "      <td>0.000000</td>\n",
              "      <td>0.000000</td>\n",
              "      <td>0.000000</td>\n",
              "      <td>0.000000</td>\n",
              "      <td>0.000000</td>\n",
              "      <td>0.000000</td>\n",
              "      <td>0.000000</td>\n",
              "      <td>0.000000</td>\n",
              "      <td>0.000000</td>\n",
              "      <td>0.000000</td>\n",
              "      <td>0.000000</td>\n",
              "      <td>0.000000</td>\n",
              "      <td>0.000000</td>\n",
              "      <td>0.000000</td>\n",
              "      <td>0.000000</td>\n",
              "      <td>0.000000</td>\n",
              "      <td>0.000000</td>\n",
              "      <td>0.000000</td>\n",
              "      <td>0.000000</td>\n",
              "      <td>0.000000</td>\n",
              "      <td>0.000000</td>\n",
              "      <td>0.000000</td>\n",
              "      <td>0.000000</td>\n",
              "      <td>0.000000</td>\n",
              "      <td>0.000000</td>\n",
              "      <td>0.000000</td>\n",
              "      <td>0.000000</td>\n",
              "      <td>0.000000</td>\n",
              "      <td>0.000000</td>\n",
              "      <td>0.000000</td>\n",
              "      <td>0.000000</td>\n",
              "      <td>-4.597098e+00</td>\n",
              "      <td>-2.134796e-01</td>\n",
              "      <td>-1.057730e-01</td>\n",
              "      <td>-1.032147e-01</td>\n",
              "      <td>-1.904713e-01</td>\n",
              "      <td>-1.702117e-01</td>\n",
              "      <td>-1.736415e-01</td>\n",
              "      <td>-1.194783e-01</td>\n",
              "      <td>-2.178080e-01</td>\n",
              "      <td>-2.498266e-01</td>\n",
              "      <td>-1.814486e-01</td>\n",
              "      <td>0.000000</td>\n",
              "    </tr>\n",
              "    <tr>\n",
              "      <th>25%</th>\n",
              "      <td>-1.646449e-02</td>\n",
              "      <td>-6.533992e-01</td>\n",
              "      <td>0.000000</td>\n",
              "      <td>0.000000</td>\n",
              "      <td>0.000000</td>\n",
              "      <td>0.000000</td>\n",
              "      <td>0.000000</td>\n",
              "      <td>0.000000</td>\n",
              "      <td>0.000000</td>\n",
              "      <td>0.000000</td>\n",
              "      <td>0.000000</td>\n",
              "      <td>0.000000</td>\n",
              "      <td>0.000000</td>\n",
              "      <td>0.000000</td>\n",
              "      <td>0.000000</td>\n",
              "      <td>0.000000</td>\n",
              "      <td>0.000000</td>\n",
              "      <td>0.000000</td>\n",
              "      <td>0.000000</td>\n",
              "      <td>0.000000</td>\n",
              "      <td>0.000000</td>\n",
              "      <td>0.000000</td>\n",
              "      <td>0.000000</td>\n",
              "      <td>0.000000</td>\n",
              "      <td>0.000000</td>\n",
              "      <td>0.000000</td>\n",
              "      <td>0.000000</td>\n",
              "      <td>0.000000</td>\n",
              "      <td>0.000000</td>\n",
              "      <td>0.000000</td>\n",
              "      <td>0.000000</td>\n",
              "      <td>0.000000</td>\n",
              "      <td>0.000000</td>\n",
              "      <td>0.000000</td>\n",
              "      <td>0.000000</td>\n",
              "      <td>0.000000</td>\n",
              "      <td>0.000000</td>\n",
              "      <td>0.000000</td>\n",
              "      <td>0.000000</td>\n",
              "      <td>0.000000</td>\n",
              "      <td>0.000000</td>\n",
              "      <td>-3.865874e-01</td>\n",
              "      <td>-2.134796e-01</td>\n",
              "      <td>-1.057730e-01</td>\n",
              "      <td>-1.032147e-01</td>\n",
              "      <td>-1.835762e-01</td>\n",
              "      <td>-1.702117e-01</td>\n",
              "      <td>-1.662037e-01</td>\n",
              "      <td>-1.194783e-01</td>\n",
              "      <td>-2.104343e-01</td>\n",
              "      <td>-2.498266e-01</td>\n",
              "      <td>-1.729086e-01</td>\n",
              "      <td>0.000000</td>\n",
              "    </tr>\n",
              "    <tr>\n",
              "      <th>50%</th>\n",
              "      <td>5.617298e-02</td>\n",
              "      <td>-1.998049e-01</td>\n",
              "      <td>0.000000</td>\n",
              "      <td>0.000000</td>\n",
              "      <td>0.000000</td>\n",
              "      <td>0.000000</td>\n",
              "      <td>0.000000</td>\n",
              "      <td>0.000000</td>\n",
              "      <td>0.000000</td>\n",
              "      <td>0.000000</td>\n",
              "      <td>0.000000</td>\n",
              "      <td>0.000000</td>\n",
              "      <td>0.000000</td>\n",
              "      <td>0.000000</td>\n",
              "      <td>0.000000</td>\n",
              "      <td>0.000000</td>\n",
              "      <td>0.000000</td>\n",
              "      <td>0.000000</td>\n",
              "      <td>0.000000</td>\n",
              "      <td>0.000000</td>\n",
              "      <td>0.000000</td>\n",
              "      <td>0.000000</td>\n",
              "      <td>0.000000</td>\n",
              "      <td>0.000000</td>\n",
              "      <td>0.000000</td>\n",
              "      <td>0.000000</td>\n",
              "      <td>0.000000</td>\n",
              "      <td>0.000000</td>\n",
              "      <td>0.000000</td>\n",
              "      <td>0.000000</td>\n",
              "      <td>0.000000</td>\n",
              "      <td>0.000000</td>\n",
              "      <td>0.000000</td>\n",
              "      <td>0.000000</td>\n",
              "      <td>0.000000</td>\n",
              "      <td>0.000000</td>\n",
              "      <td>0.000000</td>\n",
              "      <td>0.000000</td>\n",
              "      <td>0.000000</td>\n",
              "      <td>0.000000</td>\n",
              "      <td>0.000000</td>\n",
              "      <td>1.087667e-01</td>\n",
              "      <td>-2.134796e-01</td>\n",
              "      <td>-1.057730e-01</td>\n",
              "      <td>-1.032147e-01</td>\n",
              "      <td>-1.709353e-01</td>\n",
              "      <td>-1.589206e-01</td>\n",
              "      <td>-1.550472e-01</td>\n",
              "      <td>-1.111970e-01</td>\n",
              "      <td>-1.956868e-01</td>\n",
              "      <td>-1.599183e-01</td>\n",
              "      <td>-1.622337e-01</td>\n",
              "      <td>0.500000</td>\n",
              "    </tr>\n",
              "    <tr>\n",
              "      <th>75%</th>\n",
              "      <td>9.975547e-02</td>\n",
              "      <td>4.005405e-01</td>\n",
              "      <td>0.000000</td>\n",
              "      <td>0.000000</td>\n",
              "      <td>0.000000</td>\n",
              "      <td>0.000000</td>\n",
              "      <td>0.000000</td>\n",
              "      <td>0.000000</td>\n",
              "      <td>0.000000</td>\n",
              "      <td>0.000000</td>\n",
              "      <td>0.000000</td>\n",
              "      <td>0.000000</td>\n",
              "      <td>0.000000</td>\n",
              "      <td>0.000000</td>\n",
              "      <td>0.000000</td>\n",
              "      <td>0.000000</td>\n",
              "      <td>0.000000</td>\n",
              "      <td>0.000000</td>\n",
              "      <td>0.000000</td>\n",
              "      <td>0.000000</td>\n",
              "      <td>0.000000</td>\n",
              "      <td>0.000000</td>\n",
              "      <td>0.000000</td>\n",
              "      <td>0.000000</td>\n",
              "      <td>0.000000</td>\n",
              "      <td>0.000000</td>\n",
              "      <td>0.000000</td>\n",
              "      <td>0.000000</td>\n",
              "      <td>0.000000</td>\n",
              "      <td>0.000000</td>\n",
              "      <td>0.000000</td>\n",
              "      <td>0.000000</td>\n",
              "      <td>0.000000</td>\n",
              "      <td>0.000000</td>\n",
              "      <td>0.000000</td>\n",
              "      <td>0.000000</td>\n",
              "      <td>0.000000</td>\n",
              "      <td>0.000000</td>\n",
              "      <td>0.000000</td>\n",
              "      <td>0.000000</td>\n",
              "      <td>0.000000</td>\n",
              "      <td>4.802823e-01</td>\n",
              "      <td>-1.618990e-01</td>\n",
              "      <td>-6.975921e-02</td>\n",
              "      <td>-1.032147e-01</td>\n",
              "      <td>-1.364600e-01</td>\n",
              "      <td>-1.250472e-01</td>\n",
              "      <td>-1.302548e-01</td>\n",
              "      <td>-9.463443e-02</td>\n",
              "      <td>-1.514444e-01</td>\n",
              "      <td>-7.000999e-02</td>\n",
              "      <td>-1.366138e-01</td>\n",
              "      <td>1.000000</td>\n",
              "    </tr>\n",
              "    <tr>\n",
              "      <th>max</th>\n",
              "      <td>2.305029e-01</td>\n",
              "      <td>1.031291e+01</td>\n",
              "      <td>1.000000</td>\n",
              "      <td>1.000000</td>\n",
              "      <td>1.000000</td>\n",
              "      <td>1.000000</td>\n",
              "      <td>1.000000</td>\n",
              "      <td>1.000000</td>\n",
              "      <td>1.000000</td>\n",
              "      <td>1.000000</td>\n",
              "      <td>1.000000</td>\n",
              "      <td>1.000000</td>\n",
              "      <td>1.000000</td>\n",
              "      <td>1.000000</td>\n",
              "      <td>1.000000</td>\n",
              "      <td>1.000000</td>\n",
              "      <td>1.000000</td>\n",
              "      <td>1.000000</td>\n",
              "      <td>1.000000</td>\n",
              "      <td>1.000000</td>\n",
              "      <td>1.000000</td>\n",
              "      <td>1.000000</td>\n",
              "      <td>1.000000</td>\n",
              "      <td>1.000000</td>\n",
              "      <td>1.000000</td>\n",
              "      <td>1.000000</td>\n",
              "      <td>1.000000</td>\n",
              "      <td>1.000000</td>\n",
              "      <td>1.000000</td>\n",
              "      <td>1.000000</td>\n",
              "      <td>1.000000</td>\n",
              "      <td>1.000000</td>\n",
              "      <td>1.000000</td>\n",
              "      <td>1.000000</td>\n",
              "      <td>1.000000</td>\n",
              "      <td>1.000000</td>\n",
              "      <td>1.000000</td>\n",
              "      <td>1.000000</td>\n",
              "      <td>1.000000</td>\n",
              "      <td>1.000000</td>\n",
              "      <td>1.000000</td>\n",
              "      <td>2.833215e+00</td>\n",
              "      <td>2.748529e+01</td>\n",
              "      <td>4.240847e+01</td>\n",
              "      <td>4.490420e+01</td>\n",
              "      <td>3.251159e+01</td>\n",
              "      <td>3.267571e+01</td>\n",
              "      <td>3.483571e+01</td>\n",
              "      <td>4.306737e+01</td>\n",
              "      <td>2.291358e+01</td>\n",
              "      <td>3.157771e+01</td>\n",
              "      <td>3.457194e+01</td>\n",
              "      <td>1.000000</td>\n",
              "    </tr>\n",
              "  </tbody>\n",
              "</table>\n",
              "</div>"
            ],
            "text/plain": [
              "                ano       paginas  ...     avaliaram       gender\n",
              "count  2.580000e+03  2.580000e+03  ...  2.580000e+03  2580.000000\n",
              "mean  -1.448196e-15 -1.529569e-16  ... -8.841711e-17     0.500000\n",
              "std    1.000194e+00  1.000194e+00  ...  1.000194e+00     0.500097\n",
              "min   -2.911504e+01 -1.533906e+00  ... -1.814486e-01     0.000000\n",
              "25%   -1.646449e-02 -6.533992e-01  ... -1.729086e-01     0.000000\n",
              "50%    5.617298e-02 -1.998049e-01  ... -1.622337e-01     0.500000\n",
              "75%    9.975547e-02  4.005405e-01  ... -1.366138e-01     1.000000\n",
              "max    2.305029e-01  1.031291e+01  ...  3.457194e+01     1.000000\n",
              "\n",
              "[8 rows x 53 columns]"
            ]
          },
          "metadata": {
            "tags": []
          },
          "execution_count": 210
        }
      ]
    },
    {
      "cell_type": "markdown",
      "metadata": {
        "id": "zHmaw6EfEJZM"
      },
      "source": [
        "## Analisando as correlações"
      ]
    },
    {
      "cell_type": "code",
      "metadata": {
        "colab": {
          "base_uri": "https://localhost:8080/",
          "height": 354
        },
        "id": "_Kzc_CBwYaHU",
        "outputId": "128db7f5-8fbd-45af-fd50-c364131c459e"
      },
      "source": [
        "#apresenta correlações positivas\n",
        "sns.heatmap(dfBalanceado.corr())"
      ],
      "execution_count": null,
      "outputs": [
        {
          "output_type": "execute_result",
          "data": {
            "text/plain": [
              "<matplotlib.axes._subplots.AxesSubplot at 0x7fb56d4b0ed0>"
            ]
          },
          "metadata": {
            "tags": []
          },
          "execution_count": 211
        },
        {
          "output_type": "display_data",
          "data": {
            "image/png": "[encoded data removed]",
            "text/plain": [
              "<Figure size 432x288 with 2 Axes>"
            ]
          },
          "metadata": {
            "tags": [],
            "needs_background": "light"
          }
        }
      ]
    },
    {
      "cell_type": "code",
      "metadata": {
        "colab": {
          "base_uri": "https://localhost:8080/",
          "height": 354
        },
        "id": "aS373tTSYbst",
        "outputId": "cf2de887-0926-4f59-85a3-78e993aa8edf"
      },
      "source": [
        "#apresenta correlações positivas e negativas\n",
        "sns.heatmap(dfBalanceado.corr(), vmin = -1)"
      ],
      "execution_count": null,
      "outputs": [
        {
          "output_type": "execute_result",
          "data": {
            "text/plain": [
              "<matplotlib.axes._subplots.AxesSubplot at 0x7fb56d788d90>"
            ]
          },
          "metadata": {
            "tags": []
          },
          "execution_count": 150
        },
        {
          "output_type": "display_data",
          "data": {
            "image/png": "[encoded data removed]",
            "text/plain": [
              "<Figure size 432x288 with 2 Axes>"
            ]
          },
          "metadata": {
            "tags": [],
            "needs_background": "light"
          }
        }
      ]
    },
    {
      "cell_type": "markdown",
      "metadata": {
        "id": "ao9AFhblEiJ0"
      },
      "source": [
        "## Seleção de atributos\n",
        "\n",
        "OBS: Os resultados do knn para essa base removendo as colunas de estatísticas ficam muito baixos. Ao remover as colunas de gêneros literários diminui um pouco o desempenho, mas é quase a mesma coisa de manter a base completa. De qualquer forma, opto por manter a base completa."
      ]
    },
    {
      "cell_type": "code",
      "metadata": {
        "id": "6furcWOHF--j"
      },
      "source": [
        "#Teste removendo as colunas sobre estatísticas\n",
        "estatisticas.extend(['ano', 'paginas'])\n",
        "dfBalanceado.drop(columns=estatisticas, inplace=True)\n",
        "\n",
        "#Resultados ficaram muito baixos!!"
      ],
      "execution_count": null,
      "outputs": []
    },
    {
      "cell_type": "code",
      "metadata": {
        "id": "102nALz2EkUO"
      },
      "source": [
        "#Teste removendo as colunas sobre gêneros literários\n",
        "dfBalanceado.drop(columns=generos_literarios, inplace=True)\n",
        "\n",
        "#Resultados ficam quase iguais aos resultados com a base completa"
      ],
      "execution_count": null,
      "outputs": []
    },
    {
      "cell_type": "markdown",
      "metadata": {
        "id": "mDXSi762Y88J"
      },
      "source": [
        "# 2 - Classificação\n",
        "\n",
        "Aplicando algoritmos de AM\n",
        "\n"
      ]
    },
    {
      "cell_type": "code",
      "metadata": {
        "id": "CG3yinbCYzCe"
      },
      "source": [
        "#Predições com a base balanceada\n",
        "dfBalanceado = pd.read_csv('./bases/skoobBaseBalanceada.csv')"
      ],
      "execution_count": 4,
      "outputs": []
    },
    {
      "cell_type": "code",
      "metadata": {
        "id": "38tSIn_acvnU"
      },
      "source": [
        "#dividindo a base\n",
        "X_train, X_test, y_train, y_test = train_test_split(dfBalanceado.drop(columns=['gender']), dfBalanceado['gender'],test_size=0.33, stratify=dfBalanceado['gender'])"
      ],
      "execution_count": 5,
      "outputs": []
    },
    {
      "cell_type": "markdown",
      "metadata": {
        "id": "_DiwYwtbbTpc"
      },
      "source": [
        "## 2.1 - KNN"
      ]
    },
    {
      "cell_type": "markdown",
      "metadata": {
        "id": "KpJIc_bqjFmh"
      },
      "source": [
        "### Definição dos melhores parâmetros para o KNN usando GridSearchCV\n",
        "\n",
        "\n"
      ]
    },
    {
      "cell_type": "code",
      "metadata": {
        "colab": {
          "base_uri": "https://localhost:8080/"
        },
        "id": "ZsaumglobT4b",
        "outputId": "a3e15081-3c71-449e-a1ee-aba9f9eef569"
      },
      "source": [
        "#define os parâmetros a serem testados com o KNN\n",
        "param_grid_knn = {'n_neighbors': range(1,40,2), 'weights': ['uniform', 'distance'], 'p': [1, 2, 3]} \n",
        "#cria o objeto do gridsearchcv\n",
        "gridknn = GridSearchCV(KNeighborsClassifier(), param_grid_knn, scoring = 'f1_weighted', cv = 10, verbose = 1)\n",
        "#executa o gridsearchcv para a base separando X e y\n",
        "gridknn.fit(X_train,y_train)"
      ],
      "execution_count": 6,
      "outputs": [
        {
          "output_type": "stream",
          "text": [
            "Fitting 10 folds for each of 120 candidates, totalling 1200 fits\n"
          ],
          "name": "stdout"
        },
        {
          "output_type": "stream",
          "text": [
            "[Parallel(n_jobs=1)]: Using backend SequentialBackend with 1 concurrent workers.\n",
            "[Parallel(n_jobs=1)]: Done 1200 out of 1200 | elapsed:   55.5s finished\n"
          ],
          "name": "stderr"
        },
        {
          "output_type": "execute_result",
          "data": {
            "text/plain": [
              "GridSearchCV(cv=10, error_score=nan,\n",
              "             estimator=KNeighborsClassifier(algorithm='auto', leaf_size=30,\n",
              "                                            metric='minkowski',\n",
              "                                            metric_params=None, n_jobs=None,\n",
              "                                            n_neighbors=5, p=2,\n",
              "                                            weights='uniform'),\n",
              "             iid='deprecated', n_jobs=None,\n",
              "             param_grid={'n_neighbors': range(1, 40, 2), 'p': [1, 2, 3],\n",
              "                         'weights': ['uniform', 'distance']},\n",
              "             pre_dispatch='2*n_jobs', refit=True, return_train_score=False,\n",
              "             scoring='f1_weighted', verbose=1)"
            ]
          },
          "metadata": {
            "tags": []
          },
          "execution_count": 6
        }
      ]
    },
    {
      "cell_type": "code",
      "metadata": {
        "colab": {
          "base_uri": "https://localhost:8080/"
        },
        "id": "sEhe7GfNdqoQ",
        "outputId": "8a7f8d28-ff3a-452f-8ca1-4f076f7c995f"
      },
      "source": [
        "gridknn.best_estimator_"
      ],
      "execution_count": 7,
      "outputs": [
        {
          "output_type": "execute_result",
          "data": {
            "text/plain": [
              "KNeighborsClassifier(algorithm='auto', leaf_size=30, metric='minkowski',\n",
              "                     metric_params=None, n_jobs=None, n_neighbors=29, p=3,\n",
              "                     weights='distance')"
            ]
          },
          "metadata": {
            "tags": []
          },
          "execution_count": 7
        }
      ]
    },
    {
      "cell_type": "code",
      "metadata": {
        "colab": {
          "base_uri": "https://localhost:8080/"
        },
        "id": "cTSKwA-39wb4",
        "outputId": "cd25f2e4-b5d4-4c0d-f45b-f3615b3d40c0"
      },
      "source": [
        "gridknn.best_score_"
      ],
      "execution_count": 8,
      "outputs": [
        {
          "output_type": "execute_result",
          "data": {
            "text/plain": [
              "0.7704108555642244"
            ]
          },
          "metadata": {
            "tags": []
          },
          "execution_count": 8
        }
      ]
    },
    {
      "cell_type": "code",
      "metadata": {
        "id": "stBAEvUbdbZ3"
      },
      "source": [
        "dfGridSearch = pd.DataFrame(gridknn.cv_results_)"
      ],
      "execution_count": 9,
      "outputs": []
    },
    {
      "cell_type": "code",
      "metadata": {
        "colab": {
          "base_uri": "https://localhost:8080/",
          "height": 315
        },
        "id": "wK_342zsdeW4",
        "outputId": "b2445764-173f-4bfd-8af6-de6b87a83c3a"
      },
      "source": [
        "dfGridSearch.head(3)"
      ],
      "execution_count": 10,
      "outputs": [
        {
          "output_type": "execute_result",
          "data": {
            "text/html": [
              "<div>\n",
              "<style scoped>\n",
              "    .dataframe tbody tr th:only-of-type {\n",
              "        vertical-align: middle;\n",
              "    }\n",
              "\n",
              "    .dataframe tbody tr th {\n",
              "        vertical-align: top;\n",
              "    }\n",
              "\n",
              "    .dataframe thead th {\n",
              "        text-align: right;\n",
              "    }\n",
              "</style>\n",
              "<table border=\"1\" class=\"dataframe\">\n",
              "  <thead>\n",
              "    <tr style=\"text-align: right;\">\n",
              "      <th></th>\n",
              "      <th>mean_fit_time</th>\n",
              "      <th>std_fit_time</th>\n",
              "      <th>mean_score_time</th>\n",
              "      <th>std_score_time</th>\n",
              "      <th>param_n_neighbors</th>\n",
              "      <th>param_p</th>\n",
              "      <th>param_weights</th>\n",
              "      <th>params</th>\n",
              "      <th>split0_test_score</th>\n",
              "      <th>split1_test_score</th>\n",
              "      <th>split2_test_score</th>\n",
              "      <th>split3_test_score</th>\n",
              "      <th>split4_test_score</th>\n",
              "      <th>split5_test_score</th>\n",
              "      <th>split6_test_score</th>\n",
              "      <th>split7_test_score</th>\n",
              "      <th>split8_test_score</th>\n",
              "      <th>split9_test_score</th>\n",
              "      <th>mean_test_score</th>\n",
              "      <th>std_test_score</th>\n",
              "      <th>rank_test_score</th>\n",
              "    </tr>\n",
              "  </thead>\n",
              "  <tbody>\n",
              "    <tr>\n",
              "      <th>0</th>\n",
              "      <td>0.008456</td>\n",
              "      <td>0.001132</td>\n",
              "      <td>0.015072</td>\n",
              "      <td>0.002775</td>\n",
              "      <td>1</td>\n",
              "      <td>1</td>\n",
              "      <td>uniform</td>\n",
              "      <td>{'n_neighbors': 1, 'p': 1, 'weights': 'uniform'}</td>\n",
              "      <td>0.750979</td>\n",
              "      <td>0.664605</td>\n",
              "      <td>0.658937</td>\n",
              "      <td>0.635838</td>\n",
              "      <td>0.681762</td>\n",
              "      <td>0.698859</td>\n",
              "      <td>0.722023</td>\n",
              "      <td>0.687861</td>\n",
              "      <td>0.644760</td>\n",
              "      <td>0.643311</td>\n",
              "      <td>0.678894</td>\n",
              "      <td>0.035258</td>\n",
              "      <td>119</td>\n",
              "    </tr>\n",
              "    <tr>\n",
              "      <th>1</th>\n",
              "      <td>0.008447</td>\n",
              "      <td>0.000313</td>\n",
              "      <td>0.009475</td>\n",
              "      <td>0.000859</td>\n",
              "      <td>1</td>\n",
              "      <td>1</td>\n",
              "      <td>distance</td>\n",
              "      <td>{'n_neighbors': 1, 'p': 1, 'weights': 'distance'}</td>\n",
              "      <td>0.750979</td>\n",
              "      <td>0.664605</td>\n",
              "      <td>0.658937</td>\n",
              "      <td>0.635838</td>\n",
              "      <td>0.681762</td>\n",
              "      <td>0.698859</td>\n",
              "      <td>0.722023</td>\n",
              "      <td>0.687861</td>\n",
              "      <td>0.644760</td>\n",
              "      <td>0.643311</td>\n",
              "      <td>0.678894</td>\n",
              "      <td>0.035258</td>\n",
              "      <td>119</td>\n",
              "    </tr>\n",
              "    <tr>\n",
              "      <th>2</th>\n",
              "      <td>0.008535</td>\n",
              "      <td>0.000511</td>\n",
              "      <td>0.012098</td>\n",
              "      <td>0.000442</td>\n",
              "      <td>1</td>\n",
              "      <td>2</td>\n",
              "      <td>uniform</td>\n",
              "      <td>{'n_neighbors': 1, 'p': 2, 'weights': 'uniform'}</td>\n",
              "      <td>0.733463</td>\n",
              "      <td>0.670520</td>\n",
              "      <td>0.682060</td>\n",
              "      <td>0.664740</td>\n",
              "      <td>0.710789</td>\n",
              "      <td>0.687840</td>\n",
              "      <td>0.756770</td>\n",
              "      <td>0.687653</td>\n",
              "      <td>0.673713</td>\n",
              "      <td>0.700563</td>\n",
              "      <td>0.696811</td>\n",
              "      <td>0.027898</td>\n",
              "      <td>115</td>\n",
              "    </tr>\n",
              "  </tbody>\n",
              "</table>\n",
              "</div>"
            ],
            "text/plain": [
              "   mean_fit_time  std_fit_time  ...  std_test_score  rank_test_score\n",
              "0       0.008456      0.001132  ...        0.035258              119\n",
              "1       0.008447      0.000313  ...        0.035258              119\n",
              "2       0.008535      0.000511  ...        0.027898              115\n",
              "\n",
              "[3 rows x 21 columns]"
            ]
          },
          "metadata": {
            "tags": []
          },
          "execution_count": 10
        }
      ]
    },
    {
      "cell_type": "code",
      "metadata": {
        "id": "u9T-v8DNd3i3"
      },
      "source": [
        "#salvando o resultado do gridsearch\n",
        "dfGridSearch.to_csv('./bases/skoobresultadogridsearchKNN.csv', index=False)"
      ],
      "execution_count": null,
      "outputs": []
    },
    {
      "cell_type": "markdown",
      "metadata": {
        "id": "TiJ1vFFB4sl-"
      },
      "source": [
        "### Analise da matriz de confusão para o conjunto de teste\n"
      ]
    },
    {
      "cell_type": "code",
      "metadata": {
        "id": "SmzrHeY4dwgq"
      },
      "source": [
        "grid_predictions = gridknn.predict(X_test)"
      ],
      "execution_count": 11,
      "outputs": []
    },
    {
      "cell_type": "code",
      "metadata": {
        "colab": {
          "base_uri": "https://localhost:8080/"
        },
        "id": "6YS43yGgb2hD",
        "outputId": "1cf7a785-5ddd-47e5-c7c0-ebf4a98770d2"
      },
      "source": [
        "print(metrics.classification_report(y_test, grid_predictions))"
      ],
      "execution_count": 12,
      "outputs": [
        {
          "output_type": "stream",
          "text": [
            "              precision    recall  f1-score   support\n",
            "\n",
            "           0       0.70      0.94      0.80       426\n",
            "           1       0.91      0.59      0.72       426\n",
            "\n",
            "    accuracy                           0.77       852\n",
            "   macro avg       0.80      0.77      0.76       852\n",
            "weighted avg       0.80      0.77      0.76       852\n",
            "\n"
          ],
          "name": "stdout"
        }
      ]
    },
    {
      "cell_type": "markdown",
      "metadata": {
        "id": "vxN7RO0VoqAr"
      },
      "source": [
        "### Classe runmodel \n",
        "\n",
        "Essa classe permite a execução das técnicas de amostragem de dados para avaliação das métricas accuracy, precision, recall e f1-score por classe. Implementa a amostragem aleatória com N holdouts (train_test_splits) e a validação cruzada com estratificação e embaralhamento, permitindo a execução de N validações cruzadas."
      ]
    },
    {
      "cell_type": "code",
      "metadata": {
        "id": "bLKTz2QlkC5a"
      },
      "source": [
        "import numpy as np\n",
        "from sklearn.model_selection import train_test_split\n",
        "from sklearn.model_selection import StratifiedKFold\n",
        "from sklearn import metrics\n",
        "\n",
        "class runmodel:\n",
        "  '''\n",
        "    Parâmetros de entrada:\n",
        "\n",
        "    X: atributos de entradas\n",
        "    y: atributo alvo\n",
        "    model: algoritmo para construção do estimador\n",
        "    cv: se None faz N holdouts, se int faz validação cruzada (ambos com estratificação por classe)\n",
        "    n = quantidade de repetições da amostragem\n",
        "\n",
        "    Guardar as métricas de cada execução (armazenametricas) e \n",
        "    Mostrar os valores médios com desvio padrão para as métricas (mostraresultadomedio) \n",
        "\n",
        "    Se dataset tiver mais de 2 classes, adaptar resultados    \n",
        "  '''\n",
        "\n",
        "  def __init__(self, X, y, model, cv = None, n = 1):\n",
        "    \n",
        "    self.__resultados = {\n",
        "      'precision_0': [],\n",
        "      'recall_0': [],\n",
        "      'f1_0': [],\n",
        "      'support_0': [],\n",
        "      'precision_1': [],\n",
        "      'recall_1': [],\n",
        "      'f1_1': [],\n",
        "      'support_1' : [],\n",
        "      'accuracy' : [],\n",
        "      'precision_wavg' : [],\n",
        "      'recall_wavg' : [],\n",
        "      'f1_wavg' : [],\n",
        "      'support_wavg' : []\n",
        "    }\n",
        "\n",
        "    if cv is None:\n",
        "      print(f'{n} holdouts')\n",
        "      for i in range(n):\n",
        "        self.__avaliamodelo(X, y, model)\n",
        "    \n",
        "    else:\n",
        "      print(f'{n} validação cruzada com {cv} folds')\n",
        "      for i in range(n):\n",
        "        self.__avaliamodelo_cv(X, y, model, cv)\n",
        "\n",
        "  @property\n",
        "  def resultados(self):\n",
        "    return self.__resultados\n",
        "\n",
        "  def __avaliamodelo(self, X, y, model):\n",
        "    #gera as amostras de treino (2/3) e teste (1/3) com estratificação por classe\n",
        "    X_train, X_test, y_train, y_test = train_test_split(X, y, test_size=0.33, stratify = y)\n",
        "    # Treina o modelo usando os dados de treino\n",
        "    model.fit(X_train,y_train)\n",
        "    # Testa modelo usando os dados de teste\n",
        "    pred = model.predict(X_test)\n",
        "    #armazena resultado\n",
        "    self.__armazenametricas(metrics.classification_report(y_test,pred, output_dict= True))\n",
        "\n",
        "  def __avaliamodelo_cv(self, X, y, model, cv):\n",
        "    #gera as amostras para cv folds com embaralhamento (permite fazer várias validações cruzadas)\n",
        "    skf = StratifiedKFold(shuffle=True, n_splits=cv)\n",
        "    #para cada fold: treina, testa e armazena os resultados\n",
        "    for train_index, test_index in skf.split(X, y):\n",
        "      model.fit(X.iloc[train_index], y.iloc[train_index])\n",
        "      pred = model.predict(X.iloc[test_index])\n",
        "      self.__armazenametricas(metrics.classification_report(y.iloc[test_index], pred, output_dict= True))\n",
        "\n",
        "  def __armazenametricas(self, d):\n",
        "    self.__resultados['precision_0'].append(d['0']['precision'])\n",
        "    self.__resultados['recall_0'].append(d['0']['recall'])\n",
        "    self.__resultados['f1_0'].append(d['0']['f1-score'])\n",
        "    self.__resultados['support_0'].append(d['0']['support'])\n",
        "\n",
        "    self.__resultados['precision_1'].append(d['1']['precision'])\n",
        "    self.__resultados['recall_1'].append(d['1']['recall'])\n",
        "    self.__resultados['f1_1'].append(d['1']['f1-score'])\n",
        "    self.__resultados['support_1'].append(d['1']['support'])\n",
        "\n",
        "    self.__resultados['accuracy'].append(d['accuracy'])\n",
        "    \n",
        "    self.__resultados['precision_wavg'].append(d['weighted avg']['precision'])\n",
        "    self.__resultados['recall_wavg'].append(d['weighted avg']['recall'])\n",
        "    self.__resultados['f1_wavg'].append(d['weighted avg']['f1-score'])\n",
        "    self.__resultados['support_wavg'].append(d['weighted avg']['support'])\n",
        "\n",
        "  def mostraresultadomedio(self):\n",
        "    print(f\"\\t\\t precision \\t recall \\t f1-score \\t support\\n\")\n",
        "    print(f\"0 \\t\\t {round(np.mean(self.__resultados['precision_0']), 2)}({round(np.std(self.__resultados['precision_0']),2)}) \\t {round(np.mean(self.__resultados['recall_0']),2)}({round(np.std(self.__resultados['recall_0']),2)}) \\t {round(np.mean(self.__resultados['f1_0']),2)}({round(np.std(self.__resultados['f1_0']),2)}) \\t {round(np.mean(self.__resultados['support_0']),2)}({round(np.std(self.__resultados['support_0']),2)})\\n\")\n",
        "    print(f\"1 \\t\\t {round(np.mean(self.__resultados['precision_1']), 2)}({round(np.std(self.__resultados['precision_1']),2)}) \\t {round(np.mean(self.__resultados['recall_1']),2)}({round(np.std(self.__resultados['recall_1']),2)}) \\t {round(np.mean(self.__resultados['f1_1']),2)}({round(np.std(self.__resultados['f1_1']),2)}) \\t {round(np.mean(self.__resultados['support_1']),2)}({round(np.std(self.__resultados['support_1']),2)})\\n\")\n",
        "    print(f\"accuracy \\t\\t  \\t\\t  \\t {round(np.mean(self.__resultados['accuracy']), 2)}({round(np.std(self.__resultados['accuracy']),2)}) \\t\\t \\n\")\n",
        "    print(f\"weighted avg \\t {round(np.mean(self.__resultados['precision_wavg']), 2)}({round(np.std(self.__resultados['precision_wavg']),2)}) \\t {round(np.mean(self.__resultados['recall_wavg']),2)}({round(np.std(self.__resultados['recall_wavg']),2)}) \\t {round(np.mean(self.__resultados['f1_wavg']),2)}({round(np.std(self.__resultados['f1_wavg']),2)}) \\t {round(np.mean(self.__resultados['support_wavg']),2)}({round(np.std(self.__resultados['support_wavg']),2)})\\n\")"
      ],
      "execution_count": 13,
      "outputs": []
    },
    {
      "cell_type": "markdown",
      "metadata": {
        "id": "n31IHN2yjMpP"
      },
      "source": [
        "### Teste com amostragem aleatória (N holdouts) \n",
        "Usando o algoritmo com os parâmetros encontrados pelo GridSearchCV\n",
        "\n",
        "\n",
        "\n"
      ]
    },
    {
      "cell_type": "code",
      "metadata": {
        "id": "HfkngMuwjBTQ",
        "colab": {
          "base_uri": "https://localhost:8080/"
        },
        "outputId": "cbe58c5a-060a-4ac5-d296-7bcb4c108f1a"
      },
      "source": [
        "knn = gridknn.best_estimator_\n",
        "\n",
        "amostragem_aleatoria_knn = runmodel(dfBalanceado.drop(columns=['gender']), dfBalanceado['gender'], knn, n = 10)"
      ],
      "execution_count": 14,
      "outputs": [
        {
          "output_type": "stream",
          "text": [
            "10 holdouts\n"
          ],
          "name": "stdout"
        }
      ]
    },
    {
      "cell_type": "code",
      "metadata": {
        "colab": {
          "base_uri": "https://localhost:8080/"
        },
        "id": "Fb1XwkUaklIa",
        "outputId": "708608df-d5b9-47c8-ec8d-3b643e62606f"
      },
      "source": [
        "print('\\tMédia e desvio padrão de 10 execuções do KNN com amostragem aleatória\\n')\n",
        "amostragem_aleatoria_knn.mostraresultadomedio()"
      ],
      "execution_count": 15,
      "outputs": [
        {
          "output_type": "stream",
          "text": [
            "\tMédia e desvio padrão de 10 execuções do KNN com amostragem aleatória\n",
            "\n",
            "\t\t precision \t recall \t f1-score \t support\n",
            "\n",
            "0 \t\t 0.7(0.01) \t 0.94(0.01) \t 0.8(0.01) \t 426.0(0.0)\n",
            "\n",
            "1 \t\t 0.91(0.01) \t 0.6(0.02) \t 0.72(0.01) \t 426.0(0.0)\n",
            "\n",
            "accuracy \t\t  \t\t  \t 0.77(0.01) \t\t \n",
            "\n",
            "weighted avg \t 0.81(0.01) \t 0.77(0.01) \t 0.76(0.01) \t 852.0(0.0)\n",
            "\n"
          ],
          "name": "stdout"
        }
      ]
    },
    {
      "cell_type": "markdown",
      "metadata": {
        "id": "qrPzHHBRefMl"
      },
      "source": [
        "### Teste com validação cruzada \n",
        "Usando o algoritmo com os parâmetros encontrados pelo GridSearchCV"
      ]
    },
    {
      "cell_type": "code",
      "metadata": {
        "colab": {
          "base_uri": "https://localhost:8080/"
        },
        "id": "2gSzKOn9sgyM",
        "outputId": "77a73341-11ec-43c1-86f6-aa5ee682493f"
      },
      "source": [
        "cross_validation_knn = runmodel(dfBalanceado.drop(columns=['gender']), dfBalanceado['gender'], knn, cv = 10, n = 1 )"
      ],
      "execution_count": 18,
      "outputs": [
        {
          "output_type": "stream",
          "text": [
            "1 validação cruzada com 10 folds\n"
          ],
          "name": "stdout"
        }
      ]
    },
    {
      "cell_type": "code",
      "metadata": {
        "colab": {
          "base_uri": "https://localhost:8080/"
        },
        "id": "eA33gpL1szgn",
        "outputId": "9ac53455-f99a-4892-9eb7-a94e5aa7587f"
      },
      "source": [
        "print('\\tMédia e desvio padrão do KNN com 10 fold cross validation\\n')\n",
        "cross_validation_knn.mostraresultadomedio()"
      ],
      "execution_count": 19,
      "outputs": [
        {
          "output_type": "stream",
          "text": [
            "\tMédia e desvio padrão do KNN com 10 fold cross validation\n",
            "\n",
            "\t\t precision \t recall \t f1-score \t support\n",
            "\n",
            "0 \t\t 0.7(0.01) \t 0.93(0.03) \t 0.8(0.01) \t 129.0(0.0)\n",
            "\n",
            "1 \t\t 0.89(0.03) \t 0.6(0.02) \t 0.72(0.01) \t 129.0(0.0)\n",
            "\n",
            "accuracy \t\t  \t\t  \t 0.76(0.01) \t\t \n",
            "\n",
            "weighted avg \t 0.79(0.02) \t 0.76(0.01) \t 0.76(0.01) \t 258.0(0.0)\n",
            "\n"
          ],
          "name": "stdout"
        }
      ]
    },
    {
      "cell_type": "markdown",
      "metadata": {
        "id": "Gwrk7LnlMx8D"
      },
      "source": [
        "## 2.2 - Naive"
      ]
    },
    {
      "cell_type": "code",
      "metadata": {
        "id": "X_ouBGIRM1z_",
        "colab": {
          "base_uri": "https://localhost:8080/"
        },
        "outputId": "cb5cf2b5-30fe-4d66-9cde-6e1a65bf5db5"
      },
      "source": [
        "from sklearn.naive_bayes import GaussianNB\n",
        "\n",
        "#Create a Gaussian Classifier\n",
        "model = GaussianNB()\n",
        "\n",
        "# Train the model using the training sets\n",
        "model.fit(X_train,y_train)"
      ],
      "execution_count": 20,
      "outputs": [
        {
          "output_type": "execute_result",
          "data": {
            "text/plain": [
              "GaussianNB(priors=None, var_smoothing=1e-09)"
            ]
          },
          "metadata": {
            "tags": []
          },
          "execution_count": 20
        }
      ]
    },
    {
      "cell_type": "markdown",
      "metadata": {
        "id": "sQKt6uhoWI41"
      },
      "source": [
        "### Analise da matriz de confusão para o conjunto de teste"
      ]
    },
    {
      "cell_type": "code",
      "metadata": {
        "colab": {
          "base_uri": "https://localhost:8080/"
        },
        "id": "FkuiKZxgV5QV",
        "outputId": "dec664d1-bfd0-499c-8f31-5d2dea812e60"
      },
      "source": [
        "pred = model.predict(X_test)\n",
        "\n",
        "print(metrics.classification_report(y_test, pred))"
      ],
      "execution_count": 21,
      "outputs": [
        {
          "output_type": "stream",
          "text": [
            "              precision    recall  f1-score   support\n",
            "\n",
            "           0       0.64      0.98      0.78       426\n",
            "           1       0.95      0.46      0.62       426\n",
            "\n",
            "    accuracy                           0.72       852\n",
            "   macro avg       0.80      0.72      0.70       852\n",
            "weighted avg       0.80      0.72      0.70       852\n",
            "\n"
          ],
          "name": "stdout"
        }
      ]
    },
    {
      "cell_type": "markdown",
      "metadata": {
        "id": "UFLZFRhuWP22"
      },
      "source": [
        "### Teste com amostragem aleatória"
      ]
    },
    {
      "cell_type": "code",
      "metadata": {
        "colab": {
          "base_uri": "https://localhost:8080/"
        },
        "id": "sTqkDJilWU-0",
        "outputId": "9728c217-31e6-4cc1-aaed-184c5d80fabf"
      },
      "source": [
        "amostragem_aleatoria_naive = runmodel(dfBalanceado.drop(columns=['gender']), dfBalanceado['gender'], GaussianNB(), n = 10)"
      ],
      "execution_count": 24,
      "outputs": [
        {
          "output_type": "stream",
          "text": [
            "10 holdouts\n"
          ],
          "name": "stdout"
        }
      ]
    },
    {
      "cell_type": "code",
      "metadata": {
        "colab": {
          "base_uri": "https://localhost:8080/"
        },
        "id": "1AqQPLbxWl5o",
        "outputId": "9587b616-53dc-4050-c1ae-8f5cebeff283"
      },
      "source": [
        "print('\\tMédia e desvio padrão de 10 execuções do Naive Bayes com amostragem aleatória\\n')\n",
        "amostragem_aleatoria_naive.mostraresultadomedio()"
      ],
      "execution_count": 25,
      "outputs": [
        {
          "output_type": "stream",
          "text": [
            "\tMédia e desvio padrão de 10 execuções do Naive Bayes com amostragem aleatória\n",
            "\n",
            "\t\t precision \t recall \t f1-score \t support\n",
            "\n",
            "0 \t\t 0.65(0.01) \t 0.97(0.01) \t 0.77(0.01) \t 426.0(0.0)\n",
            "\n",
            "1 \t\t 0.93(0.02) \t 0.47(0.02) \t 0.63(0.02) \t 426.0(0.0)\n",
            "\n",
            "accuracy \t\t  \t\t  \t 0.72(0.01) \t\t \n",
            "\n",
            "weighted avg \t 0.79(0.01) \t 0.72(0.01) \t 0.7(0.01) \t 852.0(0.0)\n",
            "\n"
          ],
          "name": "stdout"
        }
      ]
    },
    {
      "cell_type": "markdown",
      "metadata": {
        "id": "LTzalBKuWWDE"
      },
      "source": [
        "### Teste com validação cruzada"
      ]
    },
    {
      "cell_type": "code",
      "metadata": {
        "colab": {
          "base_uri": "https://localhost:8080/"
        },
        "id": "eRqzLOu0WWNg",
        "outputId": "3e08c021-fa71-4c82-cf55-e673abfe1044"
      },
      "source": [
        "cross_validation_naive = runmodel(dfBalanceado.drop(columns=['gender']), dfBalanceado['gender'], GaussianNB(), cv = 10, n = 1 )"
      ],
      "execution_count": 26,
      "outputs": [
        {
          "output_type": "stream",
          "text": [
            "1 validação cruzada com 10 folds\n"
          ],
          "name": "stdout"
        }
      ]
    },
    {
      "cell_type": "code",
      "metadata": {
        "colab": {
          "base_uri": "https://localhost:8080/"
        },
        "id": "6av4vYc_QSz1",
        "outputId": "1dce62e0-339e-44a3-c50e-97485d58a6c6"
      },
      "source": [
        "print('\\tMédia e desvio padrão do Naive com 10 fold cross validation\\n')\n",
        "cross_validation_naive.mostraresultadomedio()"
      ],
      "execution_count": 27,
      "outputs": [
        {
          "output_type": "stream",
          "text": [
            "\tMédia e desvio padrão do Naive com 10 fold cross validation\n",
            "\n",
            "\t\t precision \t recall \t f1-score \t support\n",
            "\n",
            "0 \t\t 0.64(0.02) \t 0.97(0.02) \t 0.77(0.02) \t 129.0(0.0)\n",
            "\n",
            "1 \t\t 0.93(0.03) \t 0.46(0.04) \t 0.62(0.04) \t 129.0(0.0)\n",
            "\n",
            "accuracy \t\t  \t\t  \t 0.72(0.02) \t\t \n",
            "\n",
            "weighted avg \t 0.79(0.02) \t 0.72(0.02) \t 0.7(0.03) \t 258.0(0.0)\n",
            "\n"
          ],
          "name": "stdout"
        }
      ]
    },
    {
      "cell_type": "markdown",
      "metadata": {
        "id": "Vt-DISxs5L0_"
      },
      "source": [
        "#Continua..."
      ]
    },
    {
      "cell_type": "markdown",
      "metadata": {
        "id": "8TW1RgBuM1-9"
      },
      "source": [
        "## 2.3 - SVM"
      ]
    },
    {
      "cell_type": "code",
      "metadata": {
        "id": "wuHMkqFCM3k3"
      },
      "source": [
        ""
      ],
      "execution_count": null,
      "outputs": []
    },
    {
      "cell_type": "markdown",
      "metadata": {
        "id": "oYbHcCG5M3wu"
      },
      "source": [
        "## 2.4 - MLP"
      ]
    },
    {
      "cell_type": "code",
      "metadata": {
        "id": "7Vy-rJ_4M5sd"
      },
      "source": [
        ""
      ],
      "execution_count": null,
      "outputs": []
    },
    {
      "cell_type": "markdown",
      "metadata": {
        "id": "BH659rQXM7eQ"
      },
      "source": [
        "## 2.5 - Teste de Hipótese"
      ]
    },
    {
      "cell_type": "code",
      "metadata": {
        "id": "labTfz1dM9E-"
      },
      "source": [
        ""
      ],
      "execution_count": null,
      "outputs": []
    }
  ]
}